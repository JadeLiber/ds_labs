{
 "cells": [
  {
   "cell_type": "code",
   "execution_count": 279,
   "metadata": {},
   "outputs": [],
   "source": [
    "import os\n",
    "#import requests\n",
    "from zipfile import ZipFile\n",
    "from urllib.request import urlopen\n",
    "import pandas as pd\n",
    "import timeit \n",
    "import matplotlib.pyplot as plt"
   ]
  },
  {
   "cell_type": "code",
   "execution_count": 136,
   "metadata": {},
   "outputs": [],
   "source": [
    "def download_data():\n",
    "    if not os.path.exists(\"data1\"):\n",
    "        os.makedirs(\"data1\")    \n",
    "\n",
    "    url = \"https://archive.ics.uci.edu/ml/machine-learning-databases/00235/household_power_consumption.zip\"\n",
    "    \"\"\"\n",
    "    hpc = requests.get(url)\n",
    "    with open(\"data1/household_power_consumption.zip\", 'wb') as file:\n",
    "        file.write(hpc.content)\n",
    "    \"\"\"\n",
    "    hpc = urlopen(url)\n",
    " \n",
    "    with open(\"data1/household_power_consumption.zip\", 'wb') as file:\n",
    "        for line in hpc:\n",
    "             file.write(line)\n",
    "\n",
    "    with ZipFile(\"data1/household_power_consumption.zip\") as zipFile:\n",
    "        zipFile.extractall(\"data1\")"
   ]
  },
  {
   "cell_type": "code",
   "execution_count": 132,
   "metadata": {},
   "outputs": [],
   "source": [
    "download_data()"
   ]
  },
  {
   "cell_type": "markdown",
   "metadata": {},
   "source": [
    "# Используя датафрейм"
   ]
  },
  {
   "cell_type": "code",
   "execution_count": 164,
   "metadata": {},
   "outputs": [],
   "source": [
    "def read_to_frame():\n",
    "    #file_name = os.path.join('data1', \"*.txt\")\n",
    "    #print (file_name)\n",
    "    df = pd.read_csv(\"data1/household_power_consumption.txt\", sep=\";\", index_col=False, header=0) \n",
    "    return df"
   ]
  },
  {
   "cell_type": "code",
   "execution_count": 165,
   "metadata": {},
   "outputs": [
    {
     "name": "stderr",
     "output_type": "stream",
     "text": [
      "C:\\Users\\Acer\\Anaconda3\\envs\\myenv\\lib\\site-packages\\IPython\\core\\magic.py:187: DtypeWarning: Columns (2,3,4,5,6,7) have mixed types.Specify dtype option on import or set low_memory=False.\n",
      "  call = lambda f, *a, **k: f(*a, **k)\n"
     ]
    },
    {
     "name": "stdout",
     "output_type": "stream",
     "text": [
      "Wall time: 2.85 s\n"
     ]
    },
    {
     "data": {
      "text/html": [
       "<div>\n",
       "<style scoped>\n",
       "    .dataframe tbody tr th:only-of-type {\n",
       "        vertical-align: middle;\n",
       "    }\n",
       "\n",
       "    .dataframe tbody tr th {\n",
       "        vertical-align: top;\n",
       "    }\n",
       "\n",
       "    .dataframe thead th {\n",
       "        text-align: right;\n",
       "    }\n",
       "</style>\n",
       "<table border=\"1\" class=\"dataframe\">\n",
       "  <thead>\n",
       "    <tr style=\"text-align: right;\">\n",
       "      <th></th>\n",
       "      <th>Date</th>\n",
       "      <th>Time</th>\n",
       "      <th>Global_active_power</th>\n",
       "      <th>Global_reactive_power</th>\n",
       "      <th>Voltage</th>\n",
       "      <th>Global_intensity</th>\n",
       "      <th>Sub_metering_1</th>\n",
       "      <th>Sub_metering_2</th>\n",
       "      <th>Sub_metering_3</th>\n",
       "    </tr>\n",
       "  </thead>\n",
       "  <tbody>\n",
       "    <tr>\n",
       "      <th>0</th>\n",
       "      <td>16/12/2006</td>\n",
       "      <td>17:24:00</td>\n",
       "      <td>4.216</td>\n",
       "      <td>0.418</td>\n",
       "      <td>234.840</td>\n",
       "      <td>18.400</td>\n",
       "      <td>0.000</td>\n",
       "      <td>1.000</td>\n",
       "      <td>17.0</td>\n",
       "    </tr>\n",
       "    <tr>\n",
       "      <th>1</th>\n",
       "      <td>16/12/2006</td>\n",
       "      <td>17:25:00</td>\n",
       "      <td>5.360</td>\n",
       "      <td>0.436</td>\n",
       "      <td>233.630</td>\n",
       "      <td>23.000</td>\n",
       "      <td>0.000</td>\n",
       "      <td>1.000</td>\n",
       "      <td>16.0</td>\n",
       "    </tr>\n",
       "    <tr>\n",
       "      <th>2</th>\n",
       "      <td>16/12/2006</td>\n",
       "      <td>17:26:00</td>\n",
       "      <td>5.374</td>\n",
       "      <td>0.498</td>\n",
       "      <td>233.290</td>\n",
       "      <td>23.000</td>\n",
       "      <td>0.000</td>\n",
       "      <td>2.000</td>\n",
       "      <td>17.0</td>\n",
       "    </tr>\n",
       "    <tr>\n",
       "      <th>3</th>\n",
       "      <td>16/12/2006</td>\n",
       "      <td>17:27:00</td>\n",
       "      <td>5.388</td>\n",
       "      <td>0.502</td>\n",
       "      <td>233.740</td>\n",
       "      <td>23.000</td>\n",
       "      <td>0.000</td>\n",
       "      <td>1.000</td>\n",
       "      <td>17.0</td>\n",
       "    </tr>\n",
       "    <tr>\n",
       "      <th>4</th>\n",
       "      <td>16/12/2006</td>\n",
       "      <td>17:28:00</td>\n",
       "      <td>3.666</td>\n",
       "      <td>0.528</td>\n",
       "      <td>235.680</td>\n",
       "      <td>15.800</td>\n",
       "      <td>0.000</td>\n",
       "      <td>1.000</td>\n",
       "      <td>17.0</td>\n",
       "    </tr>\n",
       "    <tr>\n",
       "      <th>...</th>\n",
       "      <td>...</td>\n",
       "      <td>...</td>\n",
       "      <td>...</td>\n",
       "      <td>...</td>\n",
       "      <td>...</td>\n",
       "      <td>...</td>\n",
       "      <td>...</td>\n",
       "      <td>...</td>\n",
       "      <td>...</td>\n",
       "    </tr>\n",
       "    <tr>\n",
       "      <th>2075254</th>\n",
       "      <td>26/11/2010</td>\n",
       "      <td>20:58:00</td>\n",
       "      <td>0.946</td>\n",
       "      <td>0</td>\n",
       "      <td>240.43</td>\n",
       "      <td>4</td>\n",
       "      <td>0</td>\n",
       "      <td>0</td>\n",
       "      <td>0.0</td>\n",
       "    </tr>\n",
       "    <tr>\n",
       "      <th>2075255</th>\n",
       "      <td>26/11/2010</td>\n",
       "      <td>20:59:00</td>\n",
       "      <td>0.944</td>\n",
       "      <td>0</td>\n",
       "      <td>240</td>\n",
       "      <td>4</td>\n",
       "      <td>0</td>\n",
       "      <td>0</td>\n",
       "      <td>0.0</td>\n",
       "    </tr>\n",
       "    <tr>\n",
       "      <th>2075256</th>\n",
       "      <td>26/11/2010</td>\n",
       "      <td>21:00:00</td>\n",
       "      <td>0.938</td>\n",
       "      <td>0</td>\n",
       "      <td>239.82</td>\n",
       "      <td>3.8</td>\n",
       "      <td>0</td>\n",
       "      <td>0</td>\n",
       "      <td>0.0</td>\n",
       "    </tr>\n",
       "    <tr>\n",
       "      <th>2075257</th>\n",
       "      <td>26/11/2010</td>\n",
       "      <td>21:01:00</td>\n",
       "      <td>0.934</td>\n",
       "      <td>0</td>\n",
       "      <td>239.7</td>\n",
       "      <td>3.8</td>\n",
       "      <td>0</td>\n",
       "      <td>0</td>\n",
       "      <td>0.0</td>\n",
       "    </tr>\n",
       "    <tr>\n",
       "      <th>2075258</th>\n",
       "      <td>26/11/2010</td>\n",
       "      <td>21:02:00</td>\n",
       "      <td>0.932</td>\n",
       "      <td>0</td>\n",
       "      <td>239.55</td>\n",
       "      <td>3.8</td>\n",
       "      <td>0</td>\n",
       "      <td>0</td>\n",
       "      <td>0.0</td>\n",
       "    </tr>\n",
       "  </tbody>\n",
       "</table>\n",
       "<p>2075259 rows × 9 columns</p>\n",
       "</div>"
      ],
      "text/plain": [
       "               Date      Time Global_active_power Global_reactive_power  \\\n",
       "0        16/12/2006  17:24:00               4.216                 0.418   \n",
       "1        16/12/2006  17:25:00               5.360                 0.436   \n",
       "2        16/12/2006  17:26:00               5.374                 0.498   \n",
       "3        16/12/2006  17:27:00               5.388                 0.502   \n",
       "4        16/12/2006  17:28:00               3.666                 0.528   \n",
       "...             ...       ...                 ...                   ...   \n",
       "2075254  26/11/2010  20:58:00               0.946                     0   \n",
       "2075255  26/11/2010  20:59:00               0.944                     0   \n",
       "2075256  26/11/2010  21:00:00               0.938                     0   \n",
       "2075257  26/11/2010  21:01:00               0.934                     0   \n",
       "2075258  26/11/2010  21:02:00               0.932                     0   \n",
       "\n",
       "         Voltage Global_intensity Sub_metering_1 Sub_metering_2  \\\n",
       "0        234.840           18.400          0.000          1.000   \n",
       "1        233.630           23.000          0.000          1.000   \n",
       "2        233.290           23.000          0.000          2.000   \n",
       "3        233.740           23.000          0.000          1.000   \n",
       "4        235.680           15.800          0.000          1.000   \n",
       "...          ...              ...            ...            ...   \n",
       "2075254   240.43                4              0              0   \n",
       "2075255      240                4              0              0   \n",
       "2075256   239.82              3.8              0              0   \n",
       "2075257    239.7              3.8              0              0   \n",
       "2075258   239.55              3.8              0              0   \n",
       "\n",
       "         Sub_metering_3  \n",
       "0                  17.0  \n",
       "1                  16.0  \n",
       "2                  17.0  \n",
       "3                  17.0  \n",
       "4                  17.0  \n",
       "...                 ...  \n",
       "2075254             0.0  \n",
       "2075255             0.0  \n",
       "2075256             0.0  \n",
       "2075257             0.0  \n",
       "2075258             0.0  \n",
       "\n",
       "[2075259 rows x 9 columns]"
      ]
     },
     "execution_count": 165,
     "metadata": {},
     "output_type": "execute_result"
    }
   ],
   "source": [
    "%%time\n",
    "df = read_to_frame()\n",
    "df"
   ]
  },
  {
   "cell_type": "code",
   "execution_count": 166,
   "metadata": {},
   "outputs": [],
   "source": [
    "def clear_data(df):\n",
    "    cols = ['Active_P', 'Reactive_P', 'Voltage', 'Intensity', 'Sub_m_1', 'Sub_m_2', 'Sub_m_3']\n",
    "    df['DateTime'] = pd.to_datetime(df['Date']+df['Time'], format=\"%d/%m/%Y%H:%M:%S\")\n",
    "    df.drop(['Date', 'Time'], axis=1, inplace=True)\n",
    "    df.set_index('DateTime', inplace=True)\n",
    "    df.columns = cols\n",
    "    for col in cols:\n",
    "        df[col] = pd.to_numeric(df[col], errors = 'coerce')\n",
    "    df.dropna(axis=0, inplace=True)\n",
    "    return df"
   ]
  },
  {
   "cell_type": "code",
   "execution_count": 167,
   "metadata": {},
   "outputs": [
    {
     "data": {
      "text/plain": [
       "Date                      object\n",
       "Time                      object\n",
       "Global_active_power       object\n",
       "Global_reactive_power     object\n",
       "Voltage                   object\n",
       "Global_intensity          object\n",
       "Sub_metering_1            object\n",
       "Sub_metering_2            object\n",
       "Sub_metering_3           float64\n",
       "dtype: object"
      ]
     },
     "execution_count": 167,
     "metadata": {},
     "output_type": "execute_result"
    }
   ],
   "source": [
    "df.dtypes"
   ]
  },
  {
   "cell_type": "code",
   "execution_count": 168,
   "metadata": {},
   "outputs": [
    {
     "name": "stdout",
     "output_type": "stream",
     "text": [
      "Wall time: 18 s\n"
     ]
    },
    {
     "data": {
      "text/html": [
       "<div>\n",
       "<style scoped>\n",
       "    .dataframe tbody tr th:only-of-type {\n",
       "        vertical-align: middle;\n",
       "    }\n",
       "\n",
       "    .dataframe tbody tr th {\n",
       "        vertical-align: top;\n",
       "    }\n",
       "\n",
       "    .dataframe thead th {\n",
       "        text-align: right;\n",
       "    }\n",
       "</style>\n",
       "<table border=\"1\" class=\"dataframe\">\n",
       "  <thead>\n",
       "    <tr style=\"text-align: right;\">\n",
       "      <th></th>\n",
       "      <th>Active_P</th>\n",
       "      <th>Reactive_P</th>\n",
       "      <th>Voltage</th>\n",
       "      <th>Intensity</th>\n",
       "      <th>Sub_m_1</th>\n",
       "      <th>Sub_m_2</th>\n",
       "      <th>Sub_m_3</th>\n",
       "    </tr>\n",
       "    <tr>\n",
       "      <th>DateTime</th>\n",
       "      <th></th>\n",
       "      <th></th>\n",
       "      <th></th>\n",
       "      <th></th>\n",
       "      <th></th>\n",
       "      <th></th>\n",
       "      <th></th>\n",
       "    </tr>\n",
       "  </thead>\n",
       "  <tbody>\n",
       "    <tr>\n",
       "      <th>2006-12-16 17:24:00</th>\n",
       "      <td>4.216</td>\n",
       "      <td>0.418</td>\n",
       "      <td>234.84</td>\n",
       "      <td>18.4</td>\n",
       "      <td>0.0</td>\n",
       "      <td>1.0</td>\n",
       "      <td>17.0</td>\n",
       "    </tr>\n",
       "    <tr>\n",
       "      <th>2006-12-16 17:25:00</th>\n",
       "      <td>5.360</td>\n",
       "      <td>0.436</td>\n",
       "      <td>233.63</td>\n",
       "      <td>23.0</td>\n",
       "      <td>0.0</td>\n",
       "      <td>1.0</td>\n",
       "      <td>16.0</td>\n",
       "    </tr>\n",
       "    <tr>\n",
       "      <th>2006-12-16 17:26:00</th>\n",
       "      <td>5.374</td>\n",
       "      <td>0.498</td>\n",
       "      <td>233.29</td>\n",
       "      <td>23.0</td>\n",
       "      <td>0.0</td>\n",
       "      <td>2.0</td>\n",
       "      <td>17.0</td>\n",
       "    </tr>\n",
       "    <tr>\n",
       "      <th>2006-12-16 17:27:00</th>\n",
       "      <td>5.388</td>\n",
       "      <td>0.502</td>\n",
       "      <td>233.74</td>\n",
       "      <td>23.0</td>\n",
       "      <td>0.0</td>\n",
       "      <td>1.0</td>\n",
       "      <td>17.0</td>\n",
       "    </tr>\n",
       "    <tr>\n",
       "      <th>2006-12-16 17:28:00</th>\n",
       "      <td>3.666</td>\n",
       "      <td>0.528</td>\n",
       "      <td>235.68</td>\n",
       "      <td>15.8</td>\n",
       "      <td>0.0</td>\n",
       "      <td>1.0</td>\n",
       "      <td>17.0</td>\n",
       "    </tr>\n",
       "    <tr>\n",
       "      <th>...</th>\n",
       "      <td>...</td>\n",
       "      <td>...</td>\n",
       "      <td>...</td>\n",
       "      <td>...</td>\n",
       "      <td>...</td>\n",
       "      <td>...</td>\n",
       "      <td>...</td>\n",
       "    </tr>\n",
       "    <tr>\n",
       "      <th>2010-11-26 20:58:00</th>\n",
       "      <td>0.946</td>\n",
       "      <td>0.000</td>\n",
       "      <td>240.43</td>\n",
       "      <td>4.0</td>\n",
       "      <td>0.0</td>\n",
       "      <td>0.0</td>\n",
       "      <td>0.0</td>\n",
       "    </tr>\n",
       "    <tr>\n",
       "      <th>2010-11-26 20:59:00</th>\n",
       "      <td>0.944</td>\n",
       "      <td>0.000</td>\n",
       "      <td>240.00</td>\n",
       "      <td>4.0</td>\n",
       "      <td>0.0</td>\n",
       "      <td>0.0</td>\n",
       "      <td>0.0</td>\n",
       "    </tr>\n",
       "    <tr>\n",
       "      <th>2010-11-26 21:00:00</th>\n",
       "      <td>0.938</td>\n",
       "      <td>0.000</td>\n",
       "      <td>239.82</td>\n",
       "      <td>3.8</td>\n",
       "      <td>0.0</td>\n",
       "      <td>0.0</td>\n",
       "      <td>0.0</td>\n",
       "    </tr>\n",
       "    <tr>\n",
       "      <th>2010-11-26 21:01:00</th>\n",
       "      <td>0.934</td>\n",
       "      <td>0.000</td>\n",
       "      <td>239.70</td>\n",
       "      <td>3.8</td>\n",
       "      <td>0.0</td>\n",
       "      <td>0.0</td>\n",
       "      <td>0.0</td>\n",
       "    </tr>\n",
       "    <tr>\n",
       "      <th>2010-11-26 21:02:00</th>\n",
       "      <td>0.932</td>\n",
       "      <td>0.000</td>\n",
       "      <td>239.55</td>\n",
       "      <td>3.8</td>\n",
       "      <td>0.0</td>\n",
       "      <td>0.0</td>\n",
       "      <td>0.0</td>\n",
       "    </tr>\n",
       "  </tbody>\n",
       "</table>\n",
       "<p>2049280 rows × 7 columns</p>\n",
       "</div>"
      ],
      "text/plain": [
       "                     Active_P  Reactive_P  Voltage  Intensity  Sub_m_1  \\\n",
       "DateTime                                                                 \n",
       "2006-12-16 17:24:00     4.216       0.418   234.84       18.4      0.0   \n",
       "2006-12-16 17:25:00     5.360       0.436   233.63       23.0      0.0   \n",
       "2006-12-16 17:26:00     5.374       0.498   233.29       23.0      0.0   \n",
       "2006-12-16 17:27:00     5.388       0.502   233.74       23.0      0.0   \n",
       "2006-12-16 17:28:00     3.666       0.528   235.68       15.8      0.0   \n",
       "...                       ...         ...      ...        ...      ...   \n",
       "2010-11-26 20:58:00     0.946       0.000   240.43        4.0      0.0   \n",
       "2010-11-26 20:59:00     0.944       0.000   240.00        4.0      0.0   \n",
       "2010-11-26 21:00:00     0.938       0.000   239.82        3.8      0.0   \n",
       "2010-11-26 21:01:00     0.934       0.000   239.70        3.8      0.0   \n",
       "2010-11-26 21:02:00     0.932       0.000   239.55        3.8      0.0   \n",
       "\n",
       "                     Sub_m_2  Sub_m_3  \n",
       "DateTime                               \n",
       "2006-12-16 17:24:00      1.0     17.0  \n",
       "2006-12-16 17:25:00      1.0     16.0  \n",
       "2006-12-16 17:26:00      2.0     17.0  \n",
       "2006-12-16 17:27:00      1.0     17.0  \n",
       "2006-12-16 17:28:00      1.0     17.0  \n",
       "...                      ...      ...  \n",
       "2010-11-26 20:58:00      0.0      0.0  \n",
       "2010-11-26 20:59:00      0.0      0.0  \n",
       "2010-11-26 21:00:00      0.0      0.0  \n",
       "2010-11-26 21:01:00      0.0      0.0  \n",
       "2010-11-26 21:02:00      0.0      0.0  \n",
       "\n",
       "[2049280 rows x 7 columns]"
      ]
     },
     "execution_count": 168,
     "metadata": {},
     "output_type": "execute_result"
    }
   ],
   "source": [
    "%%time\n",
    "clear_data(df)"
   ]
  },
  {
   "cell_type": "code",
   "execution_count": 169,
   "metadata": {},
   "outputs": [
    {
     "data": {
      "text/plain": [
       "Active_P      float64\n",
       "Reactive_P    float64\n",
       "Voltage       float64\n",
       "Intensity     float64\n",
       "Sub_m_1       float64\n",
       "Sub_m_2       float64\n",
       "Sub_m_3       float64\n",
       "dtype: object"
      ]
     },
     "execution_count": 169,
     "metadata": {},
     "output_type": "execute_result"
    }
   ],
   "source": [
    "df.dtypes"
   ]
  },
  {
   "cell_type": "code",
   "execution_count": 170,
   "metadata": {},
   "outputs": [
    {
     "data": {
      "text/plain": [
       "Active_P      False\n",
       "Reactive_P    False\n",
       "Voltage       False\n",
       "Intensity     False\n",
       "Sub_m_1       False\n",
       "Sub_m_2       False\n",
       "Sub_m_3       False\n",
       "dtype: bool"
      ]
     },
     "execution_count": 170,
     "metadata": {},
     "output_type": "execute_result"
    }
   ],
   "source": [
    "df.isnull().any()"
   ]
  },
  {
   "cell_type": "markdown",
   "metadata": {},
   "source": [
    "## Выбрать строки, где общая активная мощность > 5 кВт"
   ]
  },
  {
   "cell_type": "code",
   "execution_count": null,
   "metadata": {},
   "outputs": [],
   "source": []
  },
  {
   "cell_type": "code",
   "execution_count": 171,
   "metadata": {},
   "outputs": [],
   "source": [
    "def active_power(df, min_pow):\n",
    "    return df[df.Active_P>min_pow]"
   ]
  },
  {
   "cell_type": "code",
   "execution_count": 258,
   "metadata": {},
   "outputs": [
    {
     "name": "stdout",
     "output_type": "stream",
     "text": [
      "0.019054100004723296\n",
      "0.014547500002663583\n",
      "0.017926600005012006\n",
      "0.017063000006601214\n",
      "0.01846980000846088\n",
      "0.04686760000186041\n"
     ]
    }
   ],
   "source": [
    "for i in range(1, 7):\n",
    "    i=10**i\n",
    "    print(timeit.timeit('active_power(df[:i], 5)',number=10, globals = globals()))"
   ]
  },
  {
   "cell_type": "code",
   "execution_count": null,
   "metadata": {},
   "outputs": [],
   "source": []
  },
  {
   "cell_type": "code",
   "execution_count": null,
   "metadata": {},
   "outputs": [],
   "source": []
  },
  {
   "cell_type": "markdown",
   "metadata": {},
   "source": [
    "## Выбрать строки, в которых вольтаж превышает 235 В"
   ]
  },
  {
   "cell_type": "code",
   "execution_count": 173,
   "metadata": {},
   "outputs": [],
   "source": [
    "def voltage (df, min_v):\n",
    "    return df[df.Voltage>min_v]"
   ]
  },
  {
   "cell_type": "code",
   "execution_count": 174,
   "metadata": {},
   "outputs": [
    {
     "name": "stdout",
     "output_type": "stream",
     "text": [
      "Wall time: 135 ms\n"
     ]
    },
    {
     "data": {
      "text/html": [
       "<div>\n",
       "<style scoped>\n",
       "    .dataframe tbody tr th:only-of-type {\n",
       "        vertical-align: middle;\n",
       "    }\n",
       "\n",
       "    .dataframe tbody tr th {\n",
       "        vertical-align: top;\n",
       "    }\n",
       "\n",
       "    .dataframe thead th {\n",
       "        text-align: right;\n",
       "    }\n",
       "</style>\n",
       "<table border=\"1\" class=\"dataframe\">\n",
       "  <thead>\n",
       "    <tr style=\"text-align: right;\">\n",
       "      <th></th>\n",
       "      <th>Active_P</th>\n",
       "      <th>Reactive_P</th>\n",
       "      <th>Voltage</th>\n",
       "      <th>Intensity</th>\n",
       "      <th>Sub_m_1</th>\n",
       "      <th>Sub_m_2</th>\n",
       "      <th>Sub_m_3</th>\n",
       "    </tr>\n",
       "    <tr>\n",
       "      <th>DateTime</th>\n",
       "      <th></th>\n",
       "      <th></th>\n",
       "      <th></th>\n",
       "      <th></th>\n",
       "      <th></th>\n",
       "      <th></th>\n",
       "      <th></th>\n",
       "    </tr>\n",
       "  </thead>\n",
       "  <tbody>\n",
       "    <tr>\n",
       "      <th>2006-12-16 17:28:00</th>\n",
       "      <td>3.666</td>\n",
       "      <td>0.528</td>\n",
       "      <td>235.68</td>\n",
       "      <td>15.8</td>\n",
       "      <td>0.0</td>\n",
       "      <td>1.0</td>\n",
       "      <td>17.0</td>\n",
       "    </tr>\n",
       "    <tr>\n",
       "      <th>2006-12-16 17:29:00</th>\n",
       "      <td>3.520</td>\n",
       "      <td>0.522</td>\n",
       "      <td>235.02</td>\n",
       "      <td>15.0</td>\n",
       "      <td>0.0</td>\n",
       "      <td>2.0</td>\n",
       "      <td>17.0</td>\n",
       "    </tr>\n",
       "    <tr>\n",
       "      <th>2006-12-16 17:30:00</th>\n",
       "      <td>3.702</td>\n",
       "      <td>0.520</td>\n",
       "      <td>235.09</td>\n",
       "      <td>15.8</td>\n",
       "      <td>0.0</td>\n",
       "      <td>1.0</td>\n",
       "      <td>17.0</td>\n",
       "    </tr>\n",
       "    <tr>\n",
       "      <th>2006-12-16 17:31:00</th>\n",
       "      <td>3.700</td>\n",
       "      <td>0.520</td>\n",
       "      <td>235.22</td>\n",
       "      <td>15.8</td>\n",
       "      <td>0.0</td>\n",
       "      <td>1.0</td>\n",
       "      <td>17.0</td>\n",
       "    </tr>\n",
       "    <tr>\n",
       "      <th>2006-12-16 17:38:00</th>\n",
       "      <td>4.054</td>\n",
       "      <td>0.422</td>\n",
       "      <td>235.24</td>\n",
       "      <td>17.6</td>\n",
       "      <td>0.0</td>\n",
       "      <td>1.0</td>\n",
       "      <td>17.0</td>\n",
       "    </tr>\n",
       "    <tr>\n",
       "      <th>...</th>\n",
       "      <td>...</td>\n",
       "      <td>...</td>\n",
       "      <td>...</td>\n",
       "      <td>...</td>\n",
       "      <td>...</td>\n",
       "      <td>...</td>\n",
       "      <td>...</td>\n",
       "    </tr>\n",
       "    <tr>\n",
       "      <th>2010-11-26 20:58:00</th>\n",
       "      <td>0.946</td>\n",
       "      <td>0.000</td>\n",
       "      <td>240.43</td>\n",
       "      <td>4.0</td>\n",
       "      <td>0.0</td>\n",
       "      <td>0.0</td>\n",
       "      <td>0.0</td>\n",
       "    </tr>\n",
       "    <tr>\n",
       "      <th>2010-11-26 20:59:00</th>\n",
       "      <td>0.944</td>\n",
       "      <td>0.000</td>\n",
       "      <td>240.00</td>\n",
       "      <td>4.0</td>\n",
       "      <td>0.0</td>\n",
       "      <td>0.0</td>\n",
       "      <td>0.0</td>\n",
       "    </tr>\n",
       "    <tr>\n",
       "      <th>2010-11-26 21:00:00</th>\n",
       "      <td>0.938</td>\n",
       "      <td>0.000</td>\n",
       "      <td>239.82</td>\n",
       "      <td>3.8</td>\n",
       "      <td>0.0</td>\n",
       "      <td>0.0</td>\n",
       "      <td>0.0</td>\n",
       "    </tr>\n",
       "    <tr>\n",
       "      <th>2010-11-26 21:01:00</th>\n",
       "      <td>0.934</td>\n",
       "      <td>0.000</td>\n",
       "      <td>239.70</td>\n",
       "      <td>3.8</td>\n",
       "      <td>0.0</td>\n",
       "      <td>0.0</td>\n",
       "      <td>0.0</td>\n",
       "    </tr>\n",
       "    <tr>\n",
       "      <th>2010-11-26 21:02:00</th>\n",
       "      <td>0.932</td>\n",
       "      <td>0.000</td>\n",
       "      <td>239.55</td>\n",
       "      <td>3.8</td>\n",
       "      <td>0.0</td>\n",
       "      <td>0.0</td>\n",
       "      <td>0.0</td>\n",
       "    </tr>\n",
       "  </tbody>\n",
       "</table>\n",
       "<p>1952491 rows × 7 columns</p>\n",
       "</div>"
      ],
      "text/plain": [
       "                     Active_P  Reactive_P  Voltage  Intensity  Sub_m_1  \\\n",
       "DateTime                                                                 \n",
       "2006-12-16 17:28:00     3.666       0.528   235.68       15.8      0.0   \n",
       "2006-12-16 17:29:00     3.520       0.522   235.02       15.0      0.0   \n",
       "2006-12-16 17:30:00     3.702       0.520   235.09       15.8      0.0   \n",
       "2006-12-16 17:31:00     3.700       0.520   235.22       15.8      0.0   \n",
       "2006-12-16 17:38:00     4.054       0.422   235.24       17.6      0.0   \n",
       "...                       ...         ...      ...        ...      ...   \n",
       "2010-11-26 20:58:00     0.946       0.000   240.43        4.0      0.0   \n",
       "2010-11-26 20:59:00     0.944       0.000   240.00        4.0      0.0   \n",
       "2010-11-26 21:00:00     0.938       0.000   239.82        3.8      0.0   \n",
       "2010-11-26 21:01:00     0.934       0.000   239.70        3.8      0.0   \n",
       "2010-11-26 21:02:00     0.932       0.000   239.55        3.8      0.0   \n",
       "\n",
       "                     Sub_m_2  Sub_m_3  \n",
       "DateTime                               \n",
       "2006-12-16 17:28:00      1.0     17.0  \n",
       "2006-12-16 17:29:00      2.0     17.0  \n",
       "2006-12-16 17:30:00      1.0     17.0  \n",
       "2006-12-16 17:31:00      1.0     17.0  \n",
       "2006-12-16 17:38:00      1.0     17.0  \n",
       "...                      ...      ...  \n",
       "2010-11-26 20:58:00      0.0      0.0  \n",
       "2010-11-26 20:59:00      0.0      0.0  \n",
       "2010-11-26 21:00:00      0.0      0.0  \n",
       "2010-11-26 21:01:00      0.0      0.0  \n",
       "2010-11-26 21:02:00      0.0      0.0  \n",
       "\n",
       "[1952491 rows x 7 columns]"
      ]
     },
     "execution_count": 174,
     "metadata": {},
     "output_type": "execute_result"
    }
   ],
   "source": [
    "%%time\n",
    "voltage (df, 235)"
   ]
  },
  {
   "cell_type": "markdown",
   "metadata": {},
   "source": [
    "##  Выбрать все строки, в которых сила тока лежит в пределах 19-20А, для них определить те, в которых стиральная машина и холодильник потребляют больше, чем бойлер и кондиционер"
   ]
  },
  {
   "cell_type": "markdown",
   "metadata": {},
   "source": [
    "сила тока - intensity\n",
    "\n",
    "sub_m_1: посудомойка, микроволновка\n",
    "\n",
    "sub_m_2: стиральная машина, холодильник, сушка (хз как правильно), свет\n",
    "\n",
    "sub_m_3: бойлер, кондиционер"
   ]
  },
  {
   "cell_type": "code",
   "execution_count": 175,
   "metadata": {},
   "outputs": [],
   "source": [
    "def intensity_and_sub_m (df, min_i, max_i):\n",
    "    return df[(df.Intensity>=min_i)&(df.Intensity<=max_i)&(df.Sub_m_2>df.Sub_m_3)]"
   ]
  },
  {
   "cell_type": "code",
   "execution_count": 176,
   "metadata": {},
   "outputs": [
    {
     "name": "stdout",
     "output_type": "stream",
     "text": [
      "Wall time: 26 ms\n"
     ]
    },
    {
     "data": {
      "text/html": [
       "<div>\n",
       "<style scoped>\n",
       "    .dataframe tbody tr th:only-of-type {\n",
       "        vertical-align: middle;\n",
       "    }\n",
       "\n",
       "    .dataframe tbody tr th {\n",
       "        vertical-align: top;\n",
       "    }\n",
       "\n",
       "    .dataframe thead th {\n",
       "        text-align: right;\n",
       "    }\n",
       "</style>\n",
       "<table border=\"1\" class=\"dataframe\">\n",
       "  <thead>\n",
       "    <tr style=\"text-align: right;\">\n",
       "      <th></th>\n",
       "      <th>Active_P</th>\n",
       "      <th>Reactive_P</th>\n",
       "      <th>Voltage</th>\n",
       "      <th>Intensity</th>\n",
       "      <th>Sub_m_1</th>\n",
       "      <th>Sub_m_2</th>\n",
       "      <th>Sub_m_3</th>\n",
       "    </tr>\n",
       "    <tr>\n",
       "      <th>DateTime</th>\n",
       "      <th></th>\n",
       "      <th></th>\n",
       "      <th></th>\n",
       "      <th></th>\n",
       "      <th></th>\n",
       "      <th></th>\n",
       "      <th></th>\n",
       "    </tr>\n",
       "  </thead>\n",
       "  <tbody>\n",
       "    <tr>\n",
       "      <th>2006-12-16 18:09:00</th>\n",
       "      <td>4.464</td>\n",
       "      <td>0.136</td>\n",
       "      <td>234.66</td>\n",
       "      <td>19.0</td>\n",
       "      <td>0.0</td>\n",
       "      <td>37.0</td>\n",
       "      <td>16.0</td>\n",
       "    </tr>\n",
       "    <tr>\n",
       "      <th>2006-12-17 01:04:00</th>\n",
       "      <td>4.582</td>\n",
       "      <td>0.258</td>\n",
       "      <td>238.08</td>\n",
       "      <td>19.6</td>\n",
       "      <td>0.0</td>\n",
       "      <td>13.0</td>\n",
       "      <td>0.0</td>\n",
       "    </tr>\n",
       "    <tr>\n",
       "      <th>2006-12-17 01:08:00</th>\n",
       "      <td>4.618</td>\n",
       "      <td>0.104</td>\n",
       "      <td>239.61</td>\n",
       "      <td>19.6</td>\n",
       "      <td>0.0</td>\n",
       "      <td>27.0</td>\n",
       "      <td>0.0</td>\n",
       "    </tr>\n",
       "    <tr>\n",
       "      <th>2006-12-17 01:19:00</th>\n",
       "      <td>4.636</td>\n",
       "      <td>0.140</td>\n",
       "      <td>237.37</td>\n",
       "      <td>19.4</td>\n",
       "      <td>0.0</td>\n",
       "      <td>36.0</td>\n",
       "      <td>0.0</td>\n",
       "    </tr>\n",
       "    <tr>\n",
       "      <th>2006-12-17 01:20:00</th>\n",
       "      <td>4.634</td>\n",
       "      <td>0.152</td>\n",
       "      <td>237.17</td>\n",
       "      <td>19.4</td>\n",
       "      <td>0.0</td>\n",
       "      <td>35.0</td>\n",
       "      <td>0.0</td>\n",
       "    </tr>\n",
       "    <tr>\n",
       "      <th>...</th>\n",
       "      <td>...</td>\n",
       "      <td>...</td>\n",
       "      <td>...</td>\n",
       "      <td>...</td>\n",
       "      <td>...</td>\n",
       "      <td>...</td>\n",
       "      <td>...</td>\n",
       "    </tr>\n",
       "    <tr>\n",
       "      <th>2010-11-24 07:53:00</th>\n",
       "      <td>4.666</td>\n",
       "      <td>0.000</td>\n",
       "      <td>235.72</td>\n",
       "      <td>19.8</td>\n",
       "      <td>0.0</td>\n",
       "      <td>39.0</td>\n",
       "      <td>17.0</td>\n",
       "    </tr>\n",
       "    <tr>\n",
       "      <th>2010-11-24 07:54:00</th>\n",
       "      <td>4.694</td>\n",
       "      <td>0.000</td>\n",
       "      <td>236.78</td>\n",
       "      <td>19.8</td>\n",
       "      <td>0.0</td>\n",
       "      <td>39.0</td>\n",
       "      <td>18.0</td>\n",
       "    </tr>\n",
       "    <tr>\n",
       "      <th>2010-11-24 07:55:00</th>\n",
       "      <td>4.602</td>\n",
       "      <td>0.000</td>\n",
       "      <td>237.08</td>\n",
       "      <td>19.4</td>\n",
       "      <td>0.0</td>\n",
       "      <td>40.0</td>\n",
       "      <td>17.0</td>\n",
       "    </tr>\n",
       "    <tr>\n",
       "      <th>2010-11-24 07:56:00</th>\n",
       "      <td>4.536</td>\n",
       "      <td>0.000</td>\n",
       "      <td>237.03</td>\n",
       "      <td>19.0</td>\n",
       "      <td>0.0</td>\n",
       "      <td>39.0</td>\n",
       "      <td>17.0</td>\n",
       "    </tr>\n",
       "    <tr>\n",
       "      <th>2010-11-24 07:57:00</th>\n",
       "      <td>4.626</td>\n",
       "      <td>0.000</td>\n",
       "      <td>236.78</td>\n",
       "      <td>19.4</td>\n",
       "      <td>0.0</td>\n",
       "      <td>39.0</td>\n",
       "      <td>17.0</td>\n",
       "    </tr>\n",
       "  </tbody>\n",
       "</table>\n",
       "<p>2509 rows × 7 columns</p>\n",
       "</div>"
      ],
      "text/plain": [
       "                     Active_P  Reactive_P  Voltage  Intensity  Sub_m_1  \\\n",
       "DateTime                                                                 \n",
       "2006-12-16 18:09:00     4.464       0.136   234.66       19.0      0.0   \n",
       "2006-12-17 01:04:00     4.582       0.258   238.08       19.6      0.0   \n",
       "2006-12-17 01:08:00     4.618       0.104   239.61       19.6      0.0   \n",
       "2006-12-17 01:19:00     4.636       0.140   237.37       19.4      0.0   \n",
       "2006-12-17 01:20:00     4.634       0.152   237.17       19.4      0.0   \n",
       "...                       ...         ...      ...        ...      ...   \n",
       "2010-11-24 07:53:00     4.666       0.000   235.72       19.8      0.0   \n",
       "2010-11-24 07:54:00     4.694       0.000   236.78       19.8      0.0   \n",
       "2010-11-24 07:55:00     4.602       0.000   237.08       19.4      0.0   \n",
       "2010-11-24 07:56:00     4.536       0.000   237.03       19.0      0.0   \n",
       "2010-11-24 07:57:00     4.626       0.000   236.78       19.4      0.0   \n",
       "\n",
       "                     Sub_m_2  Sub_m_3  \n",
       "DateTime                               \n",
       "2006-12-16 18:09:00     37.0     16.0  \n",
       "2006-12-17 01:04:00     13.0      0.0  \n",
       "2006-12-17 01:08:00     27.0      0.0  \n",
       "2006-12-17 01:19:00     36.0      0.0  \n",
       "2006-12-17 01:20:00     35.0      0.0  \n",
       "...                      ...      ...  \n",
       "2010-11-24 07:53:00     39.0     17.0  \n",
       "2010-11-24 07:54:00     39.0     18.0  \n",
       "2010-11-24 07:55:00     40.0     17.0  \n",
       "2010-11-24 07:56:00     39.0     17.0  \n",
       "2010-11-24 07:57:00     39.0     17.0  \n",
       "\n",
       "[2509 rows x 7 columns]"
      ]
     },
     "execution_count": 176,
     "metadata": {},
     "output_type": "execute_result"
    }
   ],
   "source": [
    "%%time\n",
    "intensity_and_sub_m (df, 19, 20)"
   ]
  },
  {
   "cell_type": "markdown",
   "metadata": {},
   "source": [
    "## Выбрать случайным образом 500000 строк (без повторов элементов выборки), для них вычислить средние величины всех 3х групп потребления электроэнегрии"
   ]
  },
  {
   "cell_type": "code",
   "execution_count": 230,
   "metadata": {},
   "outputs": [],
   "source": [
    "num=500000\n",
    "df_rand = df.sample(n=num)\n"
   ]
  },
  {
   "cell_type": "code",
   "execution_count": 338,
   "metadata": {},
   "outputs": [],
   "source": [
    "def mean_rand(df_rand):\n",
    "    mean1 = df_rand['Sub_m_1'].mean()\n",
    "    mean2 = df_rand['Sub_m_2'].mean()\n",
    "    mean3 = df_rand['Sub_m_3'].mean()\n",
    "   # print(f\"mean of S_m_1 = {mean1}\")\n",
    "    #print(f\"mean of S_m_2 = {mean2}\")\n",
    "    #print(f\"mean of S_m_3 = {mean3}\")\n",
    "    #df_rand['Mean'] = df_rand[['Sub_m_1','Sub_m_2', 'Sub_m_3']].mean(1)\n",
    "    #df_rand.drop(['Sub_m_1', 'Sub_m_2', 'Sub_m_3'], axis=1, inplace=True)\n",
    "    #return df_rand"
   ]
  },
  {
   "cell_type": "code",
   "execution_count": 339,
   "metadata": {},
   "outputs": [
    {
     "name": "stdout",
     "output_type": "stream",
     "text": [
      "19.9 ms ± 1.54 ms per loop (mean ± std. dev. of 7 runs, 100 loops each)\n"
     ]
    }
   ],
   "source": [
    "%%timeit\n",
    "mean_rand(df_rand)"
   ]
  },
  {
   "cell_type": "markdown",
   "metadata": {},
   "source": [
    "## Выбрать те строки, в которых домохозяйства после 18:00 потребляют больше 6 кВт в минуту в среднем. Среди выбранных строк определить те, в которых основное употребление электроенергии выпадает на стиралку (группа 2). Потом выбрать каждый третий результат из первой половины и каждый четвертый результат из второй половины\n"
   ]
  },
  {
   "cell_type": "code",
   "execution_count": 235,
   "metadata": {},
   "outputs": [],
   "source": [
    "def time_and_active_p(df, min_h, min_p):\n",
    "    df_t = df[(df.index.hour>=min_h)&(df.Active_P>min_p)]\n",
    "    df_t = df_t[(df_t.Sub_m_1<df_t.Sub_m_2)&(df_t.Sub_m_3<df_t.Sub_m_2)]\n",
    "    return df_t"
   ]
  },
  {
   "cell_type": "code",
   "execution_count": 236,
   "metadata": {},
   "outputs": [
    {
     "name": "stdout",
     "output_type": "stream",
     "text": [
      "Wall time: 81.4 ms\n"
     ]
    }
   ],
   "source": [
    "%%time\n",
    "df_t = time_and_active_p(df_rand, 18, 6)"
   ]
  },
  {
   "cell_type": "code",
   "execution_count": 237,
   "metadata": {},
   "outputs": [
    {
     "data": {
      "text/html": [
       "<div>\n",
       "<style scoped>\n",
       "    .dataframe tbody tr th:only-of-type {\n",
       "        vertical-align: middle;\n",
       "    }\n",
       "\n",
       "    .dataframe tbody tr th {\n",
       "        vertical-align: top;\n",
       "    }\n",
       "\n",
       "    .dataframe thead th {\n",
       "        text-align: right;\n",
       "    }\n",
       "</style>\n",
       "<table border=\"1\" class=\"dataframe\">\n",
       "  <thead>\n",
       "    <tr style=\"text-align: right;\">\n",
       "      <th></th>\n",
       "      <th>Active_P</th>\n",
       "      <th>Reactive_P</th>\n",
       "      <th>Voltage</th>\n",
       "      <th>Intensity</th>\n",
       "      <th>Sub_m_1</th>\n",
       "      <th>Sub_m_2</th>\n",
       "      <th>Sub_m_3</th>\n",
       "    </tr>\n",
       "    <tr>\n",
       "      <th>DateTime</th>\n",
       "      <th></th>\n",
       "      <th></th>\n",
       "      <th></th>\n",
       "      <th></th>\n",
       "      <th></th>\n",
       "      <th></th>\n",
       "      <th></th>\n",
       "    </tr>\n",
       "  </thead>\n",
       "  <tbody>\n",
       "    <tr>\n",
       "      <th>2009-03-17 20:23:00</th>\n",
       "      <td>7.058</td>\n",
       "      <td>0.116</td>\n",
       "      <td>237.27</td>\n",
       "      <td>30.0</td>\n",
       "      <td>0.0</td>\n",
       "      <td>64.0</td>\n",
       "      <td>18.0</td>\n",
       "    </tr>\n",
       "    <tr>\n",
       "      <th>2007-03-20 21:33:00</th>\n",
       "      <td>6.244</td>\n",
       "      <td>0.142</td>\n",
       "      <td>234.56</td>\n",
       "      <td>26.6</td>\n",
       "      <td>2.0</td>\n",
       "      <td>35.0</td>\n",
       "      <td>17.0</td>\n",
       "    </tr>\n",
       "    <tr>\n",
       "      <th>2009-01-10 20:02:00</th>\n",
       "      <td>8.082</td>\n",
       "      <td>0.066</td>\n",
       "      <td>232.36</td>\n",
       "      <td>34.8</td>\n",
       "      <td>36.0</td>\n",
       "      <td>71.0</td>\n",
       "      <td>17.0</td>\n",
       "    </tr>\n",
       "    <tr>\n",
       "      <th>2008-11-23 18:34:00</th>\n",
       "      <td>6.168</td>\n",
       "      <td>0.308</td>\n",
       "      <td>231.57</td>\n",
       "      <td>26.6</td>\n",
       "      <td>0.0</td>\n",
       "      <td>22.0</td>\n",
       "      <td>17.0</td>\n",
       "    </tr>\n",
       "    <tr>\n",
       "      <th>2007-02-15 19:40:00</th>\n",
       "      <td>6.360</td>\n",
       "      <td>0.448</td>\n",
       "      <td>234.94</td>\n",
       "      <td>27.2</td>\n",
       "      <td>0.0</td>\n",
       "      <td>37.0</td>\n",
       "      <td>17.0</td>\n",
       "    </tr>\n",
       "    <tr>\n",
       "      <th>...</th>\n",
       "      <td>...</td>\n",
       "      <td>...</td>\n",
       "      <td>...</td>\n",
       "      <td>...</td>\n",
       "      <td>...</td>\n",
       "      <td>...</td>\n",
       "      <td>...</td>\n",
       "    </tr>\n",
       "    <tr>\n",
       "      <th>2007-01-09 20:54:00</th>\n",
       "      <td>7.732</td>\n",
       "      <td>0.098</td>\n",
       "      <td>231.55</td>\n",
       "      <td>33.4</td>\n",
       "      <td>0.0</td>\n",
       "      <td>70.0</td>\n",
       "      <td>17.0</td>\n",
       "    </tr>\n",
       "    <tr>\n",
       "      <th>2009-08-26 20:38:00</th>\n",
       "      <td>7.056</td>\n",
       "      <td>0.308</td>\n",
       "      <td>236.35</td>\n",
       "      <td>29.8</td>\n",
       "      <td>38.0</td>\n",
       "      <td>39.0</td>\n",
       "      <td>18.0</td>\n",
       "    </tr>\n",
       "    <tr>\n",
       "      <th>2009-03-31 20:33:00</th>\n",
       "      <td>7.060</td>\n",
       "      <td>0.190</td>\n",
       "      <td>232.85</td>\n",
       "      <td>30.2</td>\n",
       "      <td>0.0</td>\n",
       "      <td>71.0</td>\n",
       "      <td>17.0</td>\n",
       "    </tr>\n",
       "    <tr>\n",
       "      <th>2008-09-22 20:17:00</th>\n",
       "      <td>6.612</td>\n",
       "      <td>0.196</td>\n",
       "      <td>231.05</td>\n",
       "      <td>28.6</td>\n",
       "      <td>1.0</td>\n",
       "      <td>69.0</td>\n",
       "      <td>17.0</td>\n",
       "    </tr>\n",
       "    <tr>\n",
       "      <th>2007-01-07 18:35:00</th>\n",
       "      <td>7.208</td>\n",
       "      <td>0.300</td>\n",
       "      <td>227.85</td>\n",
       "      <td>31.6</td>\n",
       "      <td>0.0</td>\n",
       "      <td>35.0</td>\n",
       "      <td>16.0</td>\n",
       "    </tr>\n",
       "  </tbody>\n",
       "</table>\n",
       "<p>283 rows × 7 columns</p>\n",
       "</div>"
      ],
      "text/plain": [
       "                     Active_P  Reactive_P  Voltage  Intensity  Sub_m_1  \\\n",
       "DateTime                                                                 \n",
       "2009-03-17 20:23:00     7.058       0.116   237.27       30.0      0.0   \n",
       "2007-03-20 21:33:00     6.244       0.142   234.56       26.6      2.0   \n",
       "2009-01-10 20:02:00     8.082       0.066   232.36       34.8     36.0   \n",
       "2008-11-23 18:34:00     6.168       0.308   231.57       26.6      0.0   \n",
       "2007-02-15 19:40:00     6.360       0.448   234.94       27.2      0.0   \n",
       "...                       ...         ...      ...        ...      ...   \n",
       "2007-01-09 20:54:00     7.732       0.098   231.55       33.4      0.0   \n",
       "2009-08-26 20:38:00     7.056       0.308   236.35       29.8     38.0   \n",
       "2009-03-31 20:33:00     7.060       0.190   232.85       30.2      0.0   \n",
       "2008-09-22 20:17:00     6.612       0.196   231.05       28.6      1.0   \n",
       "2007-01-07 18:35:00     7.208       0.300   227.85       31.6      0.0   \n",
       "\n",
       "                     Sub_m_2  Sub_m_3  \n",
       "DateTime                               \n",
       "2009-03-17 20:23:00     64.0     18.0  \n",
       "2007-03-20 21:33:00     35.0     17.0  \n",
       "2009-01-10 20:02:00     71.0     17.0  \n",
       "2008-11-23 18:34:00     22.0     17.0  \n",
       "2007-02-15 19:40:00     37.0     17.0  \n",
       "...                      ...      ...  \n",
       "2007-01-09 20:54:00     70.0     17.0  \n",
       "2009-08-26 20:38:00     39.0     18.0  \n",
       "2009-03-31 20:33:00     71.0     17.0  \n",
       "2008-09-22 20:17:00     69.0     17.0  \n",
       "2007-01-07 18:35:00     35.0     16.0  \n",
       "\n",
       "[283 rows x 7 columns]"
      ]
     },
     "execution_count": 237,
     "metadata": {},
     "output_type": "execute_result"
    }
   ],
   "source": [
    "df_t"
   ]
  },
  {
   "cell_type": "code",
   "execution_count": 182,
   "metadata": {},
   "outputs": [],
   "source": [
    "def first_step_3(df):\n",
    "    return df.iloc[:int(len(df)/2):3] \n",
    "\n",
    "def second_step_4(df):\n",
    "    return df.iloc[int(len(df)/2)::4]"
   ]
  },
  {
   "cell_type": "code",
   "execution_count": 183,
   "metadata": {},
   "outputs": [
    {
     "name": "stdout",
     "output_type": "stream",
     "text": [
      "Wall time: 991 µs\n"
     ]
    },
    {
     "data": {
      "text/html": [
       "<div>\n",
       "<style scoped>\n",
       "    .dataframe tbody tr th:only-of-type {\n",
       "        vertical-align: middle;\n",
       "    }\n",
       "\n",
       "    .dataframe tbody tr th {\n",
       "        vertical-align: top;\n",
       "    }\n",
       "\n",
       "    .dataframe thead th {\n",
       "        text-align: right;\n",
       "    }\n",
       "</style>\n",
       "<table border=\"1\" class=\"dataframe\">\n",
       "  <thead>\n",
       "    <tr style=\"text-align: right;\">\n",
       "      <th></th>\n",
       "      <th>Active_P</th>\n",
       "      <th>Reactive_P</th>\n",
       "      <th>Voltage</th>\n",
       "      <th>Intensity</th>\n",
       "      <th>Sub_m_1</th>\n",
       "      <th>Sub_m_2</th>\n",
       "      <th>Sub_m_3</th>\n",
       "    </tr>\n",
       "    <tr>\n",
       "      <th>DateTime</th>\n",
       "      <th></th>\n",
       "      <th></th>\n",
       "      <th></th>\n",
       "      <th></th>\n",
       "      <th></th>\n",
       "      <th></th>\n",
       "      <th></th>\n",
       "    </tr>\n",
       "  </thead>\n",
       "  <tbody>\n",
       "    <tr>\n",
       "      <th>2006-12-16 18:05:00</th>\n",
       "      <td>6.052</td>\n",
       "      <td>0.192</td>\n",
       "      <td>232.93</td>\n",
       "      <td>26.2</td>\n",
       "      <td>0.0</td>\n",
       "      <td>37.0</td>\n",
       "      <td>17.0</td>\n",
       "    </tr>\n",
       "    <tr>\n",
       "      <th>2006-12-16 18:08:00</th>\n",
       "      <td>6.308</td>\n",
       "      <td>0.116</td>\n",
       "      <td>232.25</td>\n",
       "      <td>27.0</td>\n",
       "      <td>0.0</td>\n",
       "      <td>36.0</td>\n",
       "      <td>17.0</td>\n",
       "    </tr>\n",
       "    <tr>\n",
       "      <th>2006-12-28 20:58:00</th>\n",
       "      <td>6.386</td>\n",
       "      <td>0.374</td>\n",
       "      <td>236.63</td>\n",
       "      <td>27.0</td>\n",
       "      <td>1.0</td>\n",
       "      <td>36.0</td>\n",
       "      <td>17.0</td>\n",
       "    </tr>\n",
       "    <tr>\n",
       "      <th>2006-12-28 21:02:00</th>\n",
       "      <td>8.088</td>\n",
       "      <td>0.262</td>\n",
       "      <td>235.50</td>\n",
       "      <td>34.4</td>\n",
       "      <td>1.0</td>\n",
       "      <td>72.0</td>\n",
       "      <td>17.0</td>\n",
       "    </tr>\n",
       "    <tr>\n",
       "      <th>2006-12-28 21:05:00</th>\n",
       "      <td>7.230</td>\n",
       "      <td>0.152</td>\n",
       "      <td>235.22</td>\n",
       "      <td>30.6</td>\n",
       "      <td>1.0</td>\n",
       "      <td>73.0</td>\n",
       "      <td>17.0</td>\n",
       "    </tr>\n",
       "    <tr>\n",
       "      <th>...</th>\n",
       "      <td>...</td>\n",
       "      <td>...</td>\n",
       "      <td>...</td>\n",
       "      <td>...</td>\n",
       "      <td>...</td>\n",
       "      <td>...</td>\n",
       "      <td>...</td>\n",
       "    </tr>\n",
       "    <tr>\n",
       "      <th>2008-03-23 20:28:00</th>\n",
       "      <td>7.268</td>\n",
       "      <td>0.192</td>\n",
       "      <td>233.61</td>\n",
       "      <td>31.0</td>\n",
       "      <td>0.0</td>\n",
       "      <td>72.0</td>\n",
       "      <td>17.0</td>\n",
       "    </tr>\n",
       "    <tr>\n",
       "      <th>2008-03-23 20:31:00</th>\n",
       "      <td>6.958</td>\n",
       "      <td>0.188</td>\n",
       "      <td>233.62</td>\n",
       "      <td>29.8</td>\n",
       "      <td>0.0</td>\n",
       "      <td>73.0</td>\n",
       "      <td>17.0</td>\n",
       "    </tr>\n",
       "    <tr>\n",
       "      <th>2008-03-23 20:34:00</th>\n",
       "      <td>6.668</td>\n",
       "      <td>0.180</td>\n",
       "      <td>233.65</td>\n",
       "      <td>28.4</td>\n",
       "      <td>0.0</td>\n",
       "      <td>73.0</td>\n",
       "      <td>17.0</td>\n",
       "    </tr>\n",
       "    <tr>\n",
       "      <th>2008-04-12 18:19:00</th>\n",
       "      <td>6.568</td>\n",
       "      <td>0.394</td>\n",
       "      <td>237.70</td>\n",
       "      <td>27.6</td>\n",
       "      <td>34.0</td>\n",
       "      <td>36.0</td>\n",
       "      <td>18.0</td>\n",
       "    </tr>\n",
       "    <tr>\n",
       "      <th>2008-04-20 21:01:00</th>\n",
       "      <td>8.084</td>\n",
       "      <td>0.288</td>\n",
       "      <td>232.56</td>\n",
       "      <td>34.6</td>\n",
       "      <td>1.0</td>\n",
       "      <td>71.0</td>\n",
       "      <td>18.0</td>\n",
       "    </tr>\n",
       "  </tbody>\n",
       "</table>\n",
       "<p>177 rows × 7 columns</p>\n",
       "</div>"
      ],
      "text/plain": [
       "                     Active_P  Reactive_P  Voltage  Intensity  Sub_m_1  \\\n",
       "DateTime                                                                 \n",
       "2006-12-16 18:05:00     6.052       0.192   232.93       26.2      0.0   \n",
       "2006-12-16 18:08:00     6.308       0.116   232.25       27.0      0.0   \n",
       "2006-12-28 20:58:00     6.386       0.374   236.63       27.0      1.0   \n",
       "2006-12-28 21:02:00     8.088       0.262   235.50       34.4      1.0   \n",
       "2006-12-28 21:05:00     7.230       0.152   235.22       30.6      1.0   \n",
       "...                       ...         ...      ...        ...      ...   \n",
       "2008-03-23 20:28:00     7.268       0.192   233.61       31.0      0.0   \n",
       "2008-03-23 20:31:00     6.958       0.188   233.62       29.8      0.0   \n",
       "2008-03-23 20:34:00     6.668       0.180   233.65       28.4      0.0   \n",
       "2008-04-12 18:19:00     6.568       0.394   237.70       27.6     34.0   \n",
       "2008-04-20 21:01:00     8.084       0.288   232.56       34.6      1.0   \n",
       "\n",
       "                     Sub_m_2  Sub_m_3  \n",
       "DateTime                               \n",
       "2006-12-16 18:05:00     37.0     17.0  \n",
       "2006-12-16 18:08:00     36.0     17.0  \n",
       "2006-12-28 20:58:00     36.0     17.0  \n",
       "2006-12-28 21:02:00     72.0     17.0  \n",
       "2006-12-28 21:05:00     73.0     17.0  \n",
       "...                      ...      ...  \n",
       "2008-03-23 20:28:00     72.0     17.0  \n",
       "2008-03-23 20:31:00     73.0     17.0  \n",
       "2008-03-23 20:34:00     73.0     17.0  \n",
       "2008-04-12 18:19:00     36.0     18.0  \n",
       "2008-04-20 21:01:00     71.0     18.0  \n",
       "\n",
       "[177 rows x 7 columns]"
      ]
     },
     "execution_count": 183,
     "metadata": {},
     "output_type": "execute_result"
    }
   ],
   "source": [
    "%%time\n",
    "first_step_3(df_t)"
   ]
  },
  {
   "cell_type": "code",
   "execution_count": 238,
   "metadata": {},
   "outputs": [
    {
     "name": "stdout",
     "output_type": "stream",
     "text": [
      "Wall time: 997 µs\n"
     ]
    },
    {
     "data": {
      "text/html": [
       "<div>\n",
       "<style scoped>\n",
       "    .dataframe tbody tr th:only-of-type {\n",
       "        vertical-align: middle;\n",
       "    }\n",
       "\n",
       "    .dataframe tbody tr th {\n",
       "        vertical-align: top;\n",
       "    }\n",
       "\n",
       "    .dataframe thead th {\n",
       "        text-align: right;\n",
       "    }\n",
       "</style>\n",
       "<table border=\"1\" class=\"dataframe\">\n",
       "  <thead>\n",
       "    <tr style=\"text-align: right;\">\n",
       "      <th></th>\n",
       "      <th>Active_P</th>\n",
       "      <th>Reactive_P</th>\n",
       "      <th>Voltage</th>\n",
       "      <th>Intensity</th>\n",
       "      <th>Sub_m_1</th>\n",
       "      <th>Sub_m_2</th>\n",
       "      <th>Sub_m_3</th>\n",
       "    </tr>\n",
       "    <tr>\n",
       "      <th>DateTime</th>\n",
       "      <th></th>\n",
       "      <th></th>\n",
       "      <th></th>\n",
       "      <th></th>\n",
       "      <th></th>\n",
       "      <th></th>\n",
       "      <th></th>\n",
       "    </tr>\n",
       "  </thead>\n",
       "  <tbody>\n",
       "    <tr>\n",
       "      <th>2009-02-23 22:08:00</th>\n",
       "      <td>6.848</td>\n",
       "      <td>0.218</td>\n",
       "      <td>234.64</td>\n",
       "      <td>29.4</td>\n",
       "      <td>1.0</td>\n",
       "      <td>67.0</td>\n",
       "      <td>17.0</td>\n",
       "    </tr>\n",
       "    <tr>\n",
       "      <th>2008-03-05 21:38:00</th>\n",
       "      <td>6.580</td>\n",
       "      <td>0.092</td>\n",
       "      <td>233.98</td>\n",
       "      <td>28.0</td>\n",
       "      <td>2.0</td>\n",
       "      <td>36.0</td>\n",
       "      <td>17.0</td>\n",
       "    </tr>\n",
       "    <tr>\n",
       "      <th>2007-08-12 23:32:00</th>\n",
       "      <td>7.288</td>\n",
       "      <td>0.230</td>\n",
       "      <td>226.82</td>\n",
       "      <td>32.2</td>\n",
       "      <td>28.0</td>\n",
       "      <td>33.0</td>\n",
       "      <td>16.0</td>\n",
       "    </tr>\n",
       "    <tr>\n",
       "      <th>2007-01-22 20:26:00</th>\n",
       "      <td>7.722</td>\n",
       "      <td>0.220</td>\n",
       "      <td>233.22</td>\n",
       "      <td>33.0</td>\n",
       "      <td>0.0</td>\n",
       "      <td>71.0</td>\n",
       "      <td>17.0</td>\n",
       "    </tr>\n",
       "    <tr>\n",
       "      <th>2010-01-15 20:56:00</th>\n",
       "      <td>7.914</td>\n",
       "      <td>0.466</td>\n",
       "      <td>236.01</td>\n",
       "      <td>33.6</td>\n",
       "      <td>9.0</td>\n",
       "      <td>74.0</td>\n",
       "      <td>17.0</td>\n",
       "    </tr>\n",
       "    <tr>\n",
       "      <th>2007-03-20 21:45:00</th>\n",
       "      <td>6.134</td>\n",
       "      <td>0.280</td>\n",
       "      <td>232.25</td>\n",
       "      <td>26.4</td>\n",
       "      <td>1.0</td>\n",
       "      <td>36.0</td>\n",
       "      <td>16.0</td>\n",
       "    </tr>\n",
       "    <tr>\n",
       "      <th>2010-11-20 18:34:00</th>\n",
       "      <td>6.266</td>\n",
       "      <td>0.360</td>\n",
       "      <td>229.82</td>\n",
       "      <td>27.6</td>\n",
       "      <td>14.0</td>\n",
       "      <td>35.0</td>\n",
       "      <td>16.0</td>\n",
       "    </tr>\n",
       "    <tr>\n",
       "      <th>2007-12-08 20:24:00</th>\n",
       "      <td>6.126</td>\n",
       "      <td>0.292</td>\n",
       "      <td>234.03</td>\n",
       "      <td>26.2</td>\n",
       "      <td>0.0</td>\n",
       "      <td>35.0</td>\n",
       "      <td>17.0</td>\n",
       "    </tr>\n",
       "    <tr>\n",
       "      <th>2008-10-12 19:35:00</th>\n",
       "      <td>6.968</td>\n",
       "      <td>0.358</td>\n",
       "      <td>232.40</td>\n",
       "      <td>30.0</td>\n",
       "      <td>0.0</td>\n",
       "      <td>72.0</td>\n",
       "      <td>17.0</td>\n",
       "    </tr>\n",
       "    <tr>\n",
       "      <th>2007-01-07 18:09:00</th>\n",
       "      <td>6.326</td>\n",
       "      <td>0.150</td>\n",
       "      <td>231.77</td>\n",
       "      <td>27.6</td>\n",
       "      <td>0.0</td>\n",
       "      <td>62.0</td>\n",
       "      <td>17.0</td>\n",
       "    </tr>\n",
       "    <tr>\n",
       "      <th>2009-03-17 20:32:00</th>\n",
       "      <td>6.582</td>\n",
       "      <td>0.000</td>\n",
       "      <td>237.33</td>\n",
       "      <td>27.8</td>\n",
       "      <td>0.0</td>\n",
       "      <td>63.0</td>\n",
       "      <td>17.0</td>\n",
       "    </tr>\n",
       "    <tr>\n",
       "      <th>2007-04-01 18:45:00</th>\n",
       "      <td>6.162</td>\n",
       "      <td>0.284</td>\n",
       "      <td>234.09</td>\n",
       "      <td>26.2</td>\n",
       "      <td>0.0</td>\n",
       "      <td>73.0</td>\n",
       "      <td>17.0</td>\n",
       "    </tr>\n",
       "    <tr>\n",
       "      <th>2008-04-20 21:11:00</th>\n",
       "      <td>6.436</td>\n",
       "      <td>0.382</td>\n",
       "      <td>232.10</td>\n",
       "      <td>27.6</td>\n",
       "      <td>1.0</td>\n",
       "      <td>37.0</td>\n",
       "      <td>17.0</td>\n",
       "    </tr>\n",
       "    <tr>\n",
       "      <th>2007-01-09 20:50:00</th>\n",
       "      <td>7.538</td>\n",
       "      <td>0.088</td>\n",
       "      <td>231.92</td>\n",
       "      <td>32.6</td>\n",
       "      <td>0.0</td>\n",
       "      <td>63.0</td>\n",
       "      <td>17.0</td>\n",
       "    </tr>\n",
       "    <tr>\n",
       "      <th>2009-01-01 20:47:00</th>\n",
       "      <td>7.054</td>\n",
       "      <td>0.368</td>\n",
       "      <td>236.69</td>\n",
       "      <td>30.0</td>\n",
       "      <td>0.0</td>\n",
       "      <td>73.0</td>\n",
       "      <td>0.0</td>\n",
       "    </tr>\n",
       "    <tr>\n",
       "      <th>2010-01-15 20:45:00</th>\n",
       "      <td>6.212</td>\n",
       "      <td>0.296</td>\n",
       "      <td>238.69</td>\n",
       "      <td>26.2</td>\n",
       "      <td>8.0</td>\n",
       "      <td>36.0</td>\n",
       "      <td>19.0</td>\n",
       "    </tr>\n",
       "    <tr>\n",
       "      <th>2010-03-27 18:44:00</th>\n",
       "      <td>6.896</td>\n",
       "      <td>0.230</td>\n",
       "      <td>231.87</td>\n",
       "      <td>29.6</td>\n",
       "      <td>0.0</td>\n",
       "      <td>70.0</td>\n",
       "      <td>27.0</td>\n",
       "    </tr>\n",
       "    <tr>\n",
       "      <th>2008-11-04 21:34:00</th>\n",
       "      <td>6.916</td>\n",
       "      <td>0.262</td>\n",
       "      <td>235.96</td>\n",
       "      <td>29.2</td>\n",
       "      <td>0.0</td>\n",
       "      <td>72.0</td>\n",
       "      <td>17.0</td>\n",
       "    </tr>\n",
       "    <tr>\n",
       "      <th>2007-01-07 18:16:00</th>\n",
       "      <td>7.770</td>\n",
       "      <td>0.556</td>\n",
       "      <td>230.79</td>\n",
       "      <td>33.6</td>\n",
       "      <td>0.0</td>\n",
       "      <td>37.0</td>\n",
       "      <td>16.0</td>\n",
       "    </tr>\n",
       "    <tr>\n",
       "      <th>2006-12-28 21:15:00</th>\n",
       "      <td>9.088</td>\n",
       "      <td>0.112</td>\n",
       "      <td>230.70</td>\n",
       "      <td>39.4</td>\n",
       "      <td>36.0</td>\n",
       "      <td>71.0</td>\n",
       "      <td>17.0</td>\n",
       "    </tr>\n",
       "    <tr>\n",
       "      <th>2007-12-23 19:06:00</th>\n",
       "      <td>7.112</td>\n",
       "      <td>0.220</td>\n",
       "      <td>230.56</td>\n",
       "      <td>30.8</td>\n",
       "      <td>0.0</td>\n",
       "      <td>70.0</td>\n",
       "      <td>0.0</td>\n",
       "    </tr>\n",
       "    <tr>\n",
       "      <th>2009-02-22 20:13:00</th>\n",
       "      <td>6.706</td>\n",
       "      <td>0.150</td>\n",
       "      <td>235.93</td>\n",
       "      <td>28.4</td>\n",
       "      <td>0.0</td>\n",
       "      <td>72.0</td>\n",
       "      <td>17.0</td>\n",
       "    </tr>\n",
       "    <tr>\n",
       "      <th>2009-12-30 19:27:00</th>\n",
       "      <td>6.116</td>\n",
       "      <td>0.488</td>\n",
       "      <td>236.56</td>\n",
       "      <td>25.8</td>\n",
       "      <td>0.0</td>\n",
       "      <td>72.0</td>\n",
       "      <td>1.0</td>\n",
       "    </tr>\n",
       "    <tr>\n",
       "      <th>2008-11-04 20:52:00</th>\n",
       "      <td>7.298</td>\n",
       "      <td>0.222</td>\n",
       "      <td>231.91</td>\n",
       "      <td>31.4</td>\n",
       "      <td>0.0</td>\n",
       "      <td>72.0</td>\n",
       "      <td>17.0</td>\n",
       "    </tr>\n",
       "    <tr>\n",
       "      <th>2007-07-06 21:11:00</th>\n",
       "      <td>6.372</td>\n",
       "      <td>0.464</td>\n",
       "      <td>235.82</td>\n",
       "      <td>27.0</td>\n",
       "      <td>2.0</td>\n",
       "      <td>73.0</td>\n",
       "      <td>17.0</td>\n",
       "    </tr>\n",
       "    <tr>\n",
       "      <th>2009-02-22 21:11:00</th>\n",
       "      <td>6.120</td>\n",
       "      <td>0.314</td>\n",
       "      <td>235.58</td>\n",
       "      <td>26.0</td>\n",
       "      <td>1.0</td>\n",
       "      <td>66.0</td>\n",
       "      <td>0.0</td>\n",
       "    </tr>\n",
       "    <tr>\n",
       "      <th>2009-01-10 19:49:00</th>\n",
       "      <td>6.094</td>\n",
       "      <td>0.174</td>\n",
       "      <td>234.65</td>\n",
       "      <td>26.2</td>\n",
       "      <td>1.0</td>\n",
       "      <td>59.0</td>\n",
       "      <td>17.0</td>\n",
       "    </tr>\n",
       "    <tr>\n",
       "      <th>2009-12-30 19:28:00</th>\n",
       "      <td>6.092</td>\n",
       "      <td>0.462</td>\n",
       "      <td>236.31</td>\n",
       "      <td>25.8</td>\n",
       "      <td>0.0</td>\n",
       "      <td>73.0</td>\n",
       "      <td>0.0</td>\n",
       "    </tr>\n",
       "    <tr>\n",
       "      <th>2007-12-09 19:06:00</th>\n",
       "      <td>6.232</td>\n",
       "      <td>0.176</td>\n",
       "      <td>230.79</td>\n",
       "      <td>27.0</td>\n",
       "      <td>0.0</td>\n",
       "      <td>34.0</td>\n",
       "      <td>17.0</td>\n",
       "    </tr>\n",
       "    <tr>\n",
       "      <th>2007-02-22 21:36:00</th>\n",
       "      <td>6.206</td>\n",
       "      <td>0.220</td>\n",
       "      <td>229.67</td>\n",
       "      <td>27.0</td>\n",
       "      <td>1.0</td>\n",
       "      <td>28.0</td>\n",
       "      <td>16.0</td>\n",
       "    </tr>\n",
       "    <tr>\n",
       "      <th>2010-02-23 21:59:00</th>\n",
       "      <td>6.524</td>\n",
       "      <td>0.092</td>\n",
       "      <td>233.69</td>\n",
       "      <td>27.8</td>\n",
       "      <td>0.0</td>\n",
       "      <td>73.0</td>\n",
       "      <td>17.0</td>\n",
       "    </tr>\n",
       "    <tr>\n",
       "      <th>2010-01-15 20:57:00</th>\n",
       "      <td>6.422</td>\n",
       "      <td>0.462</td>\n",
       "      <td>237.35</td>\n",
       "      <td>28.0</td>\n",
       "      <td>10.0</td>\n",
       "      <td>52.0</td>\n",
       "      <td>18.0</td>\n",
       "    </tr>\n",
       "    <tr>\n",
       "      <th>2010-11-20 18:40:00</th>\n",
       "      <td>6.416</td>\n",
       "      <td>0.350</td>\n",
       "      <td>229.72</td>\n",
       "      <td>28.2</td>\n",
       "      <td>16.0</td>\n",
       "      <td>35.0</td>\n",
       "      <td>16.0</td>\n",
       "    </tr>\n",
       "    <tr>\n",
       "      <th>2008-02-02 19:49:00</th>\n",
       "      <td>6.462</td>\n",
       "      <td>0.490</td>\n",
       "      <td>232.19</td>\n",
       "      <td>27.8</td>\n",
       "      <td>1.0</td>\n",
       "      <td>35.0</td>\n",
       "      <td>16.0</td>\n",
       "    </tr>\n",
       "    <tr>\n",
       "      <th>2008-11-23 20:37:00</th>\n",
       "      <td>6.392</td>\n",
       "      <td>0.162</td>\n",
       "      <td>234.89</td>\n",
       "      <td>27.2</td>\n",
       "      <td>2.0</td>\n",
       "      <td>37.0</td>\n",
       "      <td>17.0</td>\n",
       "    </tr>\n",
       "    <tr>\n",
       "      <th>2008-09-22 20:17:00</th>\n",
       "      <td>6.612</td>\n",
       "      <td>0.196</td>\n",
       "      <td>231.05</td>\n",
       "      <td>28.6</td>\n",
       "      <td>1.0</td>\n",
       "      <td>69.0</td>\n",
       "      <td>17.0</td>\n",
       "    </tr>\n",
       "  </tbody>\n",
       "</table>\n",
       "</div>"
      ],
      "text/plain": [
       "                     Active_P  Reactive_P  Voltage  Intensity  Sub_m_1  \\\n",
       "DateTime                                                                 \n",
       "2009-02-23 22:08:00     6.848       0.218   234.64       29.4      1.0   \n",
       "2008-03-05 21:38:00     6.580       0.092   233.98       28.0      2.0   \n",
       "2007-08-12 23:32:00     7.288       0.230   226.82       32.2     28.0   \n",
       "2007-01-22 20:26:00     7.722       0.220   233.22       33.0      0.0   \n",
       "2010-01-15 20:56:00     7.914       0.466   236.01       33.6      9.0   \n",
       "2007-03-20 21:45:00     6.134       0.280   232.25       26.4      1.0   \n",
       "2010-11-20 18:34:00     6.266       0.360   229.82       27.6     14.0   \n",
       "2007-12-08 20:24:00     6.126       0.292   234.03       26.2      0.0   \n",
       "2008-10-12 19:35:00     6.968       0.358   232.40       30.0      0.0   \n",
       "2007-01-07 18:09:00     6.326       0.150   231.77       27.6      0.0   \n",
       "2009-03-17 20:32:00     6.582       0.000   237.33       27.8      0.0   \n",
       "2007-04-01 18:45:00     6.162       0.284   234.09       26.2      0.0   \n",
       "2008-04-20 21:11:00     6.436       0.382   232.10       27.6      1.0   \n",
       "2007-01-09 20:50:00     7.538       0.088   231.92       32.6      0.0   \n",
       "2009-01-01 20:47:00     7.054       0.368   236.69       30.0      0.0   \n",
       "2010-01-15 20:45:00     6.212       0.296   238.69       26.2      8.0   \n",
       "2010-03-27 18:44:00     6.896       0.230   231.87       29.6      0.0   \n",
       "2008-11-04 21:34:00     6.916       0.262   235.96       29.2      0.0   \n",
       "2007-01-07 18:16:00     7.770       0.556   230.79       33.6      0.0   \n",
       "2006-12-28 21:15:00     9.088       0.112   230.70       39.4     36.0   \n",
       "2007-12-23 19:06:00     7.112       0.220   230.56       30.8      0.0   \n",
       "2009-02-22 20:13:00     6.706       0.150   235.93       28.4      0.0   \n",
       "2009-12-30 19:27:00     6.116       0.488   236.56       25.8      0.0   \n",
       "2008-11-04 20:52:00     7.298       0.222   231.91       31.4      0.0   \n",
       "2007-07-06 21:11:00     6.372       0.464   235.82       27.0      2.0   \n",
       "2009-02-22 21:11:00     6.120       0.314   235.58       26.0      1.0   \n",
       "2009-01-10 19:49:00     6.094       0.174   234.65       26.2      1.0   \n",
       "2009-12-30 19:28:00     6.092       0.462   236.31       25.8      0.0   \n",
       "2007-12-09 19:06:00     6.232       0.176   230.79       27.0      0.0   \n",
       "2007-02-22 21:36:00     6.206       0.220   229.67       27.0      1.0   \n",
       "2010-02-23 21:59:00     6.524       0.092   233.69       27.8      0.0   \n",
       "2010-01-15 20:57:00     6.422       0.462   237.35       28.0     10.0   \n",
       "2010-11-20 18:40:00     6.416       0.350   229.72       28.2     16.0   \n",
       "2008-02-02 19:49:00     6.462       0.490   232.19       27.8      1.0   \n",
       "2008-11-23 20:37:00     6.392       0.162   234.89       27.2      2.0   \n",
       "2008-09-22 20:17:00     6.612       0.196   231.05       28.6      1.0   \n",
       "\n",
       "                     Sub_m_2  Sub_m_3  \n",
       "DateTime                               \n",
       "2009-02-23 22:08:00     67.0     17.0  \n",
       "2008-03-05 21:38:00     36.0     17.0  \n",
       "2007-08-12 23:32:00     33.0     16.0  \n",
       "2007-01-22 20:26:00     71.0     17.0  \n",
       "2010-01-15 20:56:00     74.0     17.0  \n",
       "2007-03-20 21:45:00     36.0     16.0  \n",
       "2010-11-20 18:34:00     35.0     16.0  \n",
       "2007-12-08 20:24:00     35.0     17.0  \n",
       "2008-10-12 19:35:00     72.0     17.0  \n",
       "2007-01-07 18:09:00     62.0     17.0  \n",
       "2009-03-17 20:32:00     63.0     17.0  \n",
       "2007-04-01 18:45:00     73.0     17.0  \n",
       "2008-04-20 21:11:00     37.0     17.0  \n",
       "2007-01-09 20:50:00     63.0     17.0  \n",
       "2009-01-01 20:47:00     73.0      0.0  \n",
       "2010-01-15 20:45:00     36.0     19.0  \n",
       "2010-03-27 18:44:00     70.0     27.0  \n",
       "2008-11-04 21:34:00     72.0     17.0  \n",
       "2007-01-07 18:16:00     37.0     16.0  \n",
       "2006-12-28 21:15:00     71.0     17.0  \n",
       "2007-12-23 19:06:00     70.0      0.0  \n",
       "2009-02-22 20:13:00     72.0     17.0  \n",
       "2009-12-30 19:27:00     72.0      1.0  \n",
       "2008-11-04 20:52:00     72.0     17.0  \n",
       "2007-07-06 21:11:00     73.0     17.0  \n",
       "2009-02-22 21:11:00     66.0      0.0  \n",
       "2009-01-10 19:49:00     59.0     17.0  \n",
       "2009-12-30 19:28:00     73.0      0.0  \n",
       "2007-12-09 19:06:00     34.0     17.0  \n",
       "2007-02-22 21:36:00     28.0     16.0  \n",
       "2010-02-23 21:59:00     73.0     17.0  \n",
       "2010-01-15 20:57:00     52.0     18.0  \n",
       "2010-11-20 18:40:00     35.0     16.0  \n",
       "2008-02-02 19:49:00     35.0     16.0  \n",
       "2008-11-23 20:37:00     37.0     17.0  \n",
       "2008-09-22 20:17:00     69.0     17.0  "
      ]
     },
     "execution_count": 238,
     "metadata": {},
     "output_type": "execute_result"
    }
   ],
   "source": [
    "%%time\n",
    "second_step_4(df_t)"
   ]
  },
  {
   "cell_type": "markdown",
   "metadata": {},
   "source": [
    "# Используя Numpy"
   ]
  },
  {
   "cell_type": "code",
   "execution_count": 185,
   "metadata": {},
   "outputs": [],
   "source": [
    "import numpy as np"
   ]
  },
  {
   "cell_type": "code",
   "execution_count": 199,
   "metadata": {},
   "outputs": [
    {
     "name": "stdout",
     "output_type": "stream",
     "text": [
      "Wall time: 31.1 s\n"
     ]
    }
   ],
   "source": [
    "%%time\n",
    "file_name = \"data1/household_power_consumption.txt\"\n",
    "cols = ['Date', 'Time','Active_P','Reactive_P','Voltage','Intensity','S_m_1', 'S_m_2', 'S_m_3']\n",
    "n_t = {\n",
    "    'names':cols,\n",
    "    'formats':['U10', 'U10', 'f8', 'f8', 'f8', 'f8', 'f8', 'f8', 'f8']\n",
    "}\n",
    "\n",
    "arr = np.genfromtxt(file_name, delimiter=';',  skip_header=1, dtype=n_t ,missing_values=['?'])"
   ]
  },
  {
   "cell_type": "code",
   "execution_count": 200,
   "metadata": {
    "scrolled": true
   },
   "outputs": [
    {
     "data": {
      "text/plain": [
       "array([('16/12/2006', '17:24:00', 4.216, 0.418, 234.84, 18.4, 0., 1., 17.),\n",
       "       ('16/12/2006', '17:25:00', 5.36 , 0.436, 233.63, 23. , 0., 1., 16.),\n",
       "       ('16/12/2006', '17:26:00', 5.374, 0.498, 233.29, 23. , 0., 2., 17.),\n",
       "       ...,\n",
       "       ('26/11/2010', '21:00:00', 0.938, 0.   , 239.82,  3.8, 0., 0.,  0.),\n",
       "       ('26/11/2010', '21:01:00', 0.934, 0.   , 239.7 ,  3.8, 0., 0.,  0.),\n",
       "       ('26/11/2010', '21:02:00', 0.932, 0.   , 239.55,  3.8, 0., 0.,  0.)],\n",
       "      dtype=[('Date', '<U10'), ('Time', '<U10'), ('Active_P', '<f8'), ('Reactive_P', '<f8'), ('Voltage', '<f8'), ('Intensity', '<f8'), ('S_m_1', '<f8'), ('S_m_2', '<f8'), ('S_m_3', '<f8')])"
      ]
     },
     "execution_count": 200,
     "metadata": {},
     "output_type": "execute_result"
    }
   ],
   "source": [
    "arr\n"
   ]
  },
  {
   "cell_type": "code",
   "execution_count": 201,
   "metadata": {},
   "outputs": [
    {
     "data": {
      "text/plain": [
       "['Active_P', 'Reactive_P', 'Voltage', 'Intensity', 'S_m_1', 'S_m_2', 'S_m_3']"
      ]
     },
     "execution_count": 201,
     "metadata": {},
     "output_type": "execute_result"
    }
   ],
   "source": [
    "cols[2:9]"
   ]
  },
  {
   "cell_type": "code",
   "execution_count": 223,
   "metadata": {},
   "outputs": [
    {
     "data": {
      "text/plain": [
       "array([False, False, False, ..., False, False, False])"
      ]
     },
     "execution_count": 223,
     "metadata": {},
     "output_type": "execute_result"
    }
   ],
   "source": [
    "np.isnan(arr['Active_P'])"
   ]
  },
  {
   "cell_type": "code",
   "execution_count": 202,
   "metadata": {},
   "outputs": [
    {
     "name": "stdout",
     "output_type": "stream",
     "text": [
      "[False False False ... False False False]\n",
      "[('16/12/2006', '17:24:00', 4.216, 0.418, 234.84, 18.4, 0., 1., 17.)\n",
      " ('16/12/2006', '17:25:00', 5.36 , 0.436, 233.63, 23. , 0., 1., 16.)\n",
      " ('16/12/2006', '17:26:00', 5.374, 0.498, 233.29, 23. , 0., 2., 17.) ...\n",
      " ('26/11/2010', '21:00:00', 0.938, 0.   , 239.82,  3.8, 0., 0.,  0.)\n",
      " ('26/11/2010', '21:01:00', 0.934, 0.   , 239.7 ,  3.8, 0., 0.,  0.)\n",
      " ('26/11/2010', '21:02:00', 0.932, 0.   , 239.55,  3.8, 0., 0.,  0.)]\n",
      "2049280\n",
      "Wall time: 1.4 s\n"
     ]
    }
   ],
   "source": [
    "%%time\n",
    "nan_mask = np.zeros((len(arr)), dtype=bool)\n",
    "print(nan_mask)\n",
    "for column in cols[2:8]:\n",
    "    nan_mask = np.isnan(arr[column])\n",
    "    arr =  arr[~nan_mask]\n",
    "print(arr)\n",
    "print(len(arr))"
   ]
  },
  {
   "cell_type": "markdown",
   "metadata": {},
   "source": [
    "## Выбрать строки, где общая активная мощность > 5 кВт\n"
   ]
  },
  {
   "cell_type": "code",
   "execution_count": 260,
   "metadata": {},
   "outputs": [],
   "source": [
    "def arr_pow(arr, n):\n",
    "    return arr[arr['Active_P'] > n]\n"
   ]
  },
  {
   "cell_type": "code",
   "execution_count": 327,
   "metadata": {},
   "outputs": [
    {
     "data": {
      "text/plain": [
       "(1.0, 1000000.0, 0.0, 0.05)"
      ]
     },
     "execution_count": 327,
     "metadata": {},
     "output_type": "execute_result"
    },
    {
     "data": {
      "image/png": "[encoded data removed]",
      "text/plain": [
       "<Figure size 720x720 with 1 Axes>"
      ]
     },
     "metadata": {
      "needs_background": "light"
     },
     "output_type": "display_data"
    }
   ],
   "source": [
    "y1 = []\n",
    "y2 = []\n",
    "x = []\n",
    "for i in range(0, 7):\n",
    "    i=10**i\n",
    "    x.append(i)\n",
    "    y1.append(timeit.timeit('arr_pow(arr[:i], 5)',number=10, globals = globals()))\n",
    "    y2.append(timeit.timeit('active_power(df[:i], 5)',number=10, globals = globals()))\n",
    "    \n",
    "plt.figure(figsize=(10,10))\n",
    "f1 = plt.semilogx(x, y1, label=\"task1\")\n",
    "f2 = plt.semilogx(x, y2, label=\"task2\")\n",
    "plt.legend(['numpy', 'pandas'])\n",
    "plt.xlabel(\"Количество элементов\")\n",
    "plt.ylabel(\"Время\")\n",
    "plt.axis([1, 1000000, 0, 0.05])\n",
    "\n",
    "#print(x, y1)\n",
    "\n"
   ]
  },
  {
   "cell_type": "code",
   "execution_count": 324,
   "metadata": {},
   "outputs": [
    {
     "name": "stdout",
     "output_type": "stream",
     "text": [
      "Wall time: 251 ms\n"
     ]
    },
    {
     "data": {
      "text/plain": [
       "array([('16/12/2006', '17:25:00', 5.36 , 0.436, 233.63, 23. , 0.,  1., 16.),\n",
       "       ('16/12/2006', '17:26:00', 5.374, 0.498, 233.29, 23. , 0.,  2., 17.),\n",
       "       ('16/12/2006', '17:27:00', 5.388, 0.502, 233.74, 23. , 0.,  1., 17.),\n",
       "       ...,\n",
       "       ('24/11/2010', '07:50:00', 5.172, 0.05 , 235.18, 22. , 0., 38., 17.),\n",
       "       ('24/11/2010', '07:51:00', 5.75 , 0.   , 234.4 , 24.6, 0., 39., 17.),\n",
       "       ('25/11/2010', '07:21:00', 5.074, 0.24 , 238.55, 21.4, 1.,  2., 18.)],\n",
       "      dtype=[('Date', '<U10'), ('Time', '<U10'), ('Active_P', '<f8'), ('Reactive_P', '<f8'), ('Voltage', '<f8'), ('Intensity', '<f8'), ('S_m_1', '<f8'), ('S_m_2', '<f8'), ('S_m_3', '<f8')])"
      ]
     },
     "execution_count": 324,
     "metadata": {},
     "output_type": "execute_result"
    }
   ],
   "source": [
    "%%time\n",
    "arr_pow(arr, 5)"
   ]
  },
  {
   "cell_type": "markdown",
   "metadata": {},
   "source": [
    "## Выбрать строки, в которых вольтаж превышает 235 В"
   ]
  },
  {
   "cell_type": "code",
   "execution_count": 330,
   "metadata": {},
   "outputs": [],
   "source": [
    "def arr_volt(arr, v):\n",
    "    return arr[arr['Voltage'] > v]"
   ]
  },
  {
   "cell_type": "code",
   "execution_count": 331,
   "metadata": {},
   "outputs": [
    {
     "name": "stdout",
     "output_type": "stream",
     "text": [
      "Wall time: 688 ms\n"
     ]
    },
    {
     "data": {
      "text/plain": [
       "array([('16/12/2006', '17:28:00', 3.666, 0.528, 235.68, 15.8, 0., 1., 17.),\n",
       "       ('16/12/2006', '17:29:00', 3.52 , 0.522, 235.02, 15. , 0., 2., 17.),\n",
       "       ('16/12/2006', '17:30:00', 3.702, 0.52 , 235.09, 15.8, 0., 1., 17.),\n",
       "       ...,\n",
       "       ('26/11/2010', '21:00:00', 0.938, 0.   , 239.82,  3.8, 0., 0.,  0.),\n",
       "       ('26/11/2010', '21:01:00', 0.934, 0.   , 239.7 ,  3.8, 0., 0.,  0.),\n",
       "       ('26/11/2010', '21:02:00', 0.932, 0.   , 239.55,  3.8, 0., 0.,  0.)],\n",
       "      dtype=[('Date', '<U10'), ('Time', '<U10'), ('Active_P', '<f8'), ('Reactive_P', '<f8'), ('Voltage', '<f8'), ('Intensity', '<f8'), ('S_m_1', '<f8'), ('S_m_2', '<f8'), ('S_m_3', '<f8')])"
      ]
     },
     "execution_count": 331,
     "metadata": {},
     "output_type": "execute_result"
    }
   ],
   "source": [
    "%%time\n",
    "arr_volt(arr, 235)"
   ]
  },
  {
   "cell_type": "code",
   "execution_count": 334,
   "metadata": {},
   "outputs": [
    {
     "data": {
      "text/plain": [
       "(1.0, 1000000.0, 0.0, 0.08)"
      ]
     },
     "execution_count": 334,
     "metadata": {},
     "output_type": "execute_result"
    },
    {
     "data": {
      "image/png": "[encoded data removed]",
      "text/plain": [
       "<Figure size 720x720 with 1 Axes>"
      ]
     },
     "metadata": {
      "needs_background": "light"
     },
     "output_type": "display_data"
    }
   ],
   "source": [
    "y1 = []\n",
    "y2 = []\n",
    "x = []\n",
    "for i in range(0, 7):\n",
    "    i=10**i\n",
    "    x.append(i)\n",
    "    y1.append(timeit.timeit('arr_volt(arr[:i], 235)',number=10, globals = globals()))\n",
    "    y2.append(timeit.timeit('voltage(df[:i], 235)',number=10, globals = globals()))\n",
    "    \n",
    "plt.figure(figsize=(10,10))\n",
    "f1 = plt.semilogx(x, y1, label=\"task1\")\n",
    "f2 = plt.semilogx(x, y2, label=\"task2\")\n",
    "plt.legend(['numpy', 'pandas'])\n",
    "plt.xlabel(\"Количество элементов\")\n",
    "plt.ylabel(\"Время\")\n",
    "plt.axis([1, 1000000, 0, 0.08])"
   ]
  },
  {
   "cell_type": "markdown",
   "metadata": {},
   "source": [
    "##  Выбрать все строки, в которых сила тока лежит в пределах 19-20А, для них определить те, в которых стиральная машина и холодильник потребляют больше, чем бойлер и кондиционер"
   ]
  },
  {
   "cell_type": "code",
   "execution_count": 335,
   "metadata": {},
   "outputs": [],
   "source": [
    "def arr_intensity(arr, min_i, max_i):\n",
    "    res = arr[(arr['Intensity'] > min_i) & (arr['Intensity']<max_i)&(arr['S_m_2']>arr['S_m_3'])]\n",
    "    return res"
   ]
  },
  {
   "cell_type": "code",
   "execution_count": 336,
   "metadata": {},
   "outputs": [
    {
     "data": {
      "text/plain": [
       "(1.0, 1000000.0, 0.0, 0.08)"
      ]
     },
     "execution_count": 336,
     "metadata": {},
     "output_type": "execute_result"
    },
    {
     "data": {
      "image/png": "[encoded data removed]",
      "text/plain": [
       "<Figure size 720x720 with 1 Axes>"
      ]
     },
     "metadata": {
      "needs_background": "light"
     },
     "output_type": "display_data"
    }
   ],
   "source": [
    "y1 = []\n",
    "y2 = []\n",
    "x = []\n",
    "for i in range(0, 7):\n",
    "    i=10**i\n",
    "    x.append(i)\n",
    "    y1.append(timeit.timeit('arr_intensity(arr[:i], 19, 20)',number=10, globals = globals()))\n",
    "    y2.append(timeit.timeit('intensity_and_sub_m(df[:i], 19, 20)',number=10, globals = globals()))\n",
    "    \n",
    "plt.figure(figsize=(10,10))\n",
    "f1 = plt.semilogx(x, y1, label=\"task1\")\n",
    "f2 = plt.semilogx(x, y2, label=\"task2\")\n",
    "plt.legend(['numpy', 'pandas'])\n",
    "plt.xlabel(\"Количество элементов\")\n",
    "plt.ylabel(\"Время\")\n",
    "plt.axis([1, 1000000, 0, 0.08])"
   ]
  },
  {
   "cell_type": "code",
   "execution_count": 337,
   "metadata": {},
   "outputs": [
    {
     "name": "stdout",
     "output_type": "stream",
     "text": [
      "Wall time: 64.8 ms\n"
     ]
    },
    {
     "data": {
      "text/plain": [
       "array([('17/12/2006', '01:04:00', 4.582, 0.258, 238.08, 19.6, 0., 13.,  0.),\n",
       "       ('17/12/2006', '01:08:00', 4.618, 0.104, 239.61, 19.6, 0., 27.,  0.),\n",
       "       ('17/12/2006', '01:19:00', 4.636, 0.14 , 237.37, 19.4, 0., 36.,  0.),\n",
       "       ...,\n",
       "       ('24/11/2010', '07:54:00', 4.694, 0.   , 236.78, 19.8, 0., 39., 18.),\n",
       "       ('24/11/2010', '07:55:00', 4.602, 0.   , 237.08, 19.4, 0., 40., 17.),\n",
       "       ('24/11/2010', '07:57:00', 4.626, 0.   , 236.78, 19.4, 0., 39., 17.)],\n",
       "      dtype=[('Date', '<U10'), ('Time', '<U10'), ('Active_P', '<f8'), ('Reactive_P', '<f8'), ('Voltage', '<f8'), ('Intensity', '<f8'), ('S_m_1', '<f8'), ('S_m_2', '<f8'), ('S_m_3', '<f8')])"
      ]
     },
     "execution_count": 337,
     "metadata": {},
     "output_type": "execute_result"
    }
   ],
   "source": [
    "%%time\n",
    "arr_intensity(arr, 19, 20)"
   ]
  },
  {
   "cell_type": "markdown",
   "metadata": {},
   "source": [
    "## Выбрать случайным образом 500000 строк (без повторов элементов выборки), для них вычислить средние величины всех 3х групп потребления электроэнегрии"
   ]
  },
  {
   "cell_type": "code",
   "execution_count": 209,
   "metadata": {},
   "outputs": [],
   "source": [
    "def rand_arr():\n",
    "    return arr[np.random.choice(np.arange(0,len(arr)), 500000, replace=False)]\n"
   ]
  },
  {
   "cell_type": "code",
   "execution_count": 210,
   "metadata": {},
   "outputs": [
    {
     "name": "stdout",
     "output_type": "stream",
     "text": [
      "Wall time: 351 ms\n"
     ]
    }
   ],
   "source": [
    "%%time\n",
    "rand_arr = rand_arr()"
   ]
  },
  {
   "cell_type": "code",
   "execution_count": 241,
   "metadata": {},
   "outputs": [
    {
     "data": {
      "text/plain": [
       "500000"
      ]
     },
     "execution_count": 241,
     "metadata": {},
     "output_type": "execute_result"
    }
   ],
   "source": [
    "len(np.unique(rand_arr))"
   ]
  },
  {
   "cell_type": "code",
   "execution_count": 343,
   "metadata": {},
   "outputs": [],
   "source": [
    "def mean_arr(arr):\n",
    "    mean_1 = np.mean(rand_arr['S_m_1'])\n",
    "    mean_2 = np.mean(rand_arr['S_m_2'])\n",
    "    mean_3 = np.mean(rand_arr['S_m_3'])\n",
    "    #print(f\"mean of S_m_1 = {mean_1}\")\n",
    "    #print(f\"mean of S_m_2 = {mean_2}\")\n",
    "    #print(f\"mean of S_m_3 = {mean_3}\")"
   ]
  },
  {
   "cell_type": "code",
   "execution_count": 371,
   "metadata": {},
   "outputs": [
    {
     "data": {
      "text/plain": [
       "(1.0, 500000.0, 0.0, 0.3)"
      ]
     },
     "execution_count": 371,
     "metadata": {},
     "output_type": "execute_result"
    },
    {
     "data": {
      "image/png": "[encoded data removed]",
      "text/plain": [
       "<Figure size 720x720 with 1 Axes>"
      ]
     },
     "metadata": {
      "needs_background": "light"
     },
     "output_type": "display_data"
    }
   ],
   "source": [
    "y1 = []\n",
    "y2 = []\n",
    "x = []\n",
    "for i in range(0, 7):\n",
    "    i=10**i\n",
    "    x.append(i)\n",
    "    y1.append(timeit.timeit('mean_arr(rand_arr[:i])',number=10, globals = globals()))\n",
    "    y2.append(timeit.timeit('mean_rand(df_rand[:i])',number=10, globals = globals()))\n",
    "    \n",
    "plt.figure(figsize=(10,10))\n",
    "f1 = plt.semilogx(x, y1, label=\"task1\")\n",
    "f2 = plt.semilogx(x, y2, label=\"task2\")\n",
    "plt.legend(['numpy', 'pandas'])\n",
    "plt.xlabel(\"Количество элементов\")\n",
    "plt.ylabel(\"Время\")\n",
    "plt.axis([1, 500000, 0, 0.3])"
   ]
  },
  {
   "cell_type": "code",
   "execution_count": 213,
   "metadata": {},
   "outputs": [
    {
     "name": "stdout",
     "output_type": "stream",
     "text": [
      "mean of S_m_1 = 1.121314\n",
      "mean of S_m_2 = 1.29993\n",
      "mean of S_m_3 = 6.470208\n",
      "Wall time: 22.9 ms\n"
     ]
    }
   ],
   "source": [
    "%%time\n",
    "mean_arr()"
   ]
  },
  {
   "cell_type": "markdown",
   "metadata": {},
   "source": [
    "## Выбрать те строки, в которых домохозяйства после 18:00 потребляют больше 6 кВт в минуту в среднем. Среди выбранных строк определить те, в которых основное употребление электроенергии выпадает на стиралку (группа 2). Потом выбрать каждый третий результат из первой половины и каждый четвертый результат из второй половины"
   ]
  },
  {
   "cell_type": "code",
   "execution_count": 361,
   "metadata": {},
   "outputs": [
    {
     "name": "stdout",
     "output_type": "stream",
     "text": [
      "Wall time: 0 ns\n"
     ]
    }
   ],
   "source": [
    "%%time\n",
    "def time_and_active_arr(arr, min_t, min_p):\n",
    "    condition = np.logical_and.reduce([ arr['Time'] >=f\"{min_t}:00:00\",arr['Active_P']>min_p, \n",
    "                                   arr['S_m_2'] > arr[\"S_m_3\"], arr[\"S_m_1\"]<arr[\"S_m_2\"] ])\n",
    "    return arr[condition]"
   ]
  },
  {
   "cell_type": "code",
   "execution_count": 362,
   "metadata": {},
   "outputs": [
    {
     "data": {
      "text/plain": [
       "array([('16/12/2006', '18:05:00', 6.052, 0.192, 232.93, 26.2,  0., 37., 17.),\n",
       "       ('16/12/2006', '18:06:00', 6.752, 0.186, 232.12, 29. ,  0., 36., 17.),\n",
       "       ('16/12/2006', '18:07:00', 6.474, 0.144, 231.85, 27.8,  0., 37., 16.),\n",
       "       ...,\n",
       "       ('20/11/2010', '18:46:00', 6.438, 0.308, 229.26, 28.4, 13., 39., 16.),\n",
       "       ('20/11/2010', '18:49:00', 6.21 , 0.174, 228.82, 27.4, 21., 34., 17.),\n",
       "       ('20/11/2010', '18:52:00', 6.364, 0.126, 229.38, 28.2, 17., 34., 16.)],\n",
       "      dtype=[('Date', '<U10'), ('Time', '<U10'), ('Active_P', '<f8'), ('Reactive_P', '<f8'), ('Voltage', '<f8'), ('Intensity', '<f8'), ('S_m_1', '<f8'), ('S_m_2', '<f8'), ('S_m_3', '<f8')])"
      ]
     },
     "execution_count": 362,
     "metadata": {},
     "output_type": "execute_result"
    }
   ],
   "source": [
    "time_and_active_arr(arr, 18, 6)\n"
   ]
  },
  {
   "cell_type": "code",
   "execution_count": 372,
   "metadata": {
    "scrolled": true
   },
   "outputs": [
    {
     "data": {
      "text/plain": [
       "(1.0, 500000.0, 0.0, 0.3)"
      ]
     },
     "execution_count": 372,
     "metadata": {},
     "output_type": "execute_result"
    },
    {
     "data": {
      "image/png": "[encoded data removed]",
      "text/plain": [
       "<Figure size 720x720 with 1 Axes>"
      ]
     },
     "metadata": {
      "needs_background": "light"
     },
     "output_type": "display_data"
    }
   ],
   "source": [
    "\n",
    "y1 = []\n",
    "y2 = []\n",
    "x = []\n",
    "for i in range(0, 7):\n",
    "    i=10**i\n",
    "    x.append(i)\n",
    "    y1.append(timeit.timeit('time_and_active_arr(rand_arr[:i], 18, 6)',number=10, globals = globals()))\n",
    "    y2.append(timeit.timeit('time_and_active_p(df_rand[:i], 18, 6)',number=10, globals = globals()))\n",
    "    \n",
    "plt.figure(figsize=(10,10))\n",
    "f1 = plt.semilogx(x, y1, label=\"task1\")\n",
    "f2 = plt.semilogx(x, y2, label=\"task2\")\n",
    "plt.legend(['numpy', 'pandas'])\n",
    "plt.xlabel(\"Количество элементов\")\n",
    "plt.ylabel(\"Время\")\n",
    "plt.axis([1, 500000, 0, 0.3])"
   ]
  },
  {
   "cell_type": "code",
   "execution_count": 364,
   "metadata": {},
   "outputs": [],
   "source": [
    "df_t = time_and_active_p(df_rand, 18, 6)\n",
    "arr_t = time_and_active_arr(rand_arr, 18, 6)"
   ]
  },
  {
   "cell_type": "code",
   "execution_count": 365,
   "metadata": {},
   "outputs": [],
   "source": [
    "def first_arr_step3(arr):\n",
    "    middle = int(len(arr)/2)\n",
    "    return arr[0:middle:3]"
   ]
  },
  {
   "cell_type": "code",
   "execution_count": 384,
   "metadata": {},
   "outputs": [
    {
     "name": "stdout",
     "output_type": "stream",
     "text": [
      "[3.5500008380040526e-05, 2.4199980543926358e-05, 2.269999822601676e-05, 1.3999990187585354e-05, 1.3899989426136017e-05, 1.3899989426136017e-05, 1.6700010746717453e-05] [0.006536100001540035, 0.004701900004874915, 0.004785900004208088, 0.00692650000564754, 0.003567300009308383, 0.004031999997096136, 0.0038019000203348696]\n"
     ]
    },
    {
     "data": {
      "image/png": "[encoded data removed]",
      "text/plain": [
       "<Figure size 720x720 with 1 Axes>"
      ]
     },
     "metadata": {
      "needs_background": "light"
     },
     "output_type": "display_data"
    }
   ],
   "source": [
    "y1 = []\n",
    "y2 = []\n",
    "x = []\n",
    "for i in range(0, 7):\n",
    "    i=10**i\n",
    "    x.append(i)\n",
    "    y1.append(timeit.timeit('first_arr_step3(arr_t[:i])',number=10, globals = globals()))\n",
    "    y2.append(timeit.timeit('first_step_3(df_t[:i])',number=10, globals = globals()))\n",
    "    \n",
    "plt.figure(figsize=(10,10))\n",
    "f1 = plt.semilogx(x, y1, label=\"task1\")\n",
    "f2 = plt.semilogx(x, y2, label=\"task2\")\n",
    "plt.legend(['numpy', 'pandas'])\n",
    "plt.xlabel(\"Количество элементов\")\n",
    "plt.ylabel(\"Время\")\n",
    "plt.axis([1, 500, 0, 0.01])\n",
    "print(y1, y2)"
   ]
  },
  {
   "cell_type": "code",
   "execution_count": 366,
   "metadata": {},
   "outputs": [
    {
     "name": "stdout",
     "output_type": "stream",
     "text": [
      "Wall time: 0 ns\n"
     ]
    },
    {
     "data": {
      "text/plain": [
       "array([('27/3/2010', '18:36:00', 6.678, 0.27 , 234.21, 28.4,  0., 72., 17.),\n",
       "       ('20/4/2008', '21:13:00', 6.228, 0.22 , 232.23, 26.8,  1., 37., 18.),\n",
       "       ('17/3/2009', '20:27:00', 7.546, 0.126, 237.74, 31.8,  0., 65., 17.),\n",
       "       ('20/1/2007', '19:24:00', 6.586, 0.536, 229.44, 28.8,  0., 35., 16.),\n",
       "       ('13/10/2007', '19:58:00', 6.304, 0.264, 231.59, 27.2,  0., 35., 16.),\n",
       "       ('23/2/2009', '22:06:00', 7.12 , 0.214, 233.28, 30.4,  2., 70., 17.),\n",
       "       ('13/10/2007', '19:57:00', 6.188, 0.334, 231.54, 26.8,  0., 34., 17.),\n",
       "       ('30/12/2009', '19:26:00', 6.154, 0.484, 237.53, 26. ,  0., 74.,  1.),\n",
       "       ('20/2/2008', '20:11:00', 6.53 , 0.232, 235.  , 28.4, 27., 36.,  0.),\n",
       "       ('20/3/2007', '21:44:00', 6.134, 0.374, 230.76, 26.6,  1., 36., 17.),\n",
       "       ('2/2/2008', '19:49:00', 6.462, 0.49 , 232.19, 27.8,  1., 35., 16.),\n",
       "       ('23/3/2008', '20:34:00', 6.668, 0.18 , 233.65, 28.4,  0., 73., 17.),\n",
       "       ('13/10/2007', '20:05:00', 6.654, 0.246, 231.52, 29. ,  0., 35., 17.),\n",
       "       ('12/10/2008', '20:19:00', 7.346, 0.192, 230.25, 31.8,  0., 70., 17.),\n",
       "       ('23/12/2007', '19:37:00', 6.024, 0.626, 233.53, 25.8,  1., 37., 17.),\n",
       "       ('21/1/2007', '19:33:00', 7.374, 0.326, 226.03, 33. ,  1., 59., 16.),\n",
       "       ('22/9/2008', '20:16:00', 6.646, 0.212, 230.75, 28.8,  1., 68., 17.),\n",
       "       ('23/2/2010', '22:04:00', 6.492, 0.072, 233.7 , 27.6,  0., 72., 18.),\n",
       "       ('9/12/2007', '19:24:00', 6.252, 0.296, 230.33, 27.2,  0., 34., 17.),\n",
       "       ('20/11/2010', '18:29:00', 6.18 , 0.306, 229.92, 27.2, 13., 35., 16.),\n",
       "       ('24/11/2009', '19:41:00', 9.042, 0.378, 233.28, 39. , 36., 55., 18.),\n",
       "       ('30/11/2008', '20:15:00', 8.08 , 0.082, 233.33, 34.6,  1., 71., 16.),\n",
       "       ('28/12/2006', '21:05:00', 7.23 , 0.152, 235.22, 30.6,  1., 73., 17.),\n",
       "       ('28/12/2006', '21:02:00', 8.088, 0.262, 235.5 , 34.4,  1., 72., 17.),\n",
       "       ('20/11/2010', '18:27:00', 8.6  , 0.09 , 226.94, 38.2, 44., 51., 16.),\n",
       "       ('9/12/2007', '19:04:00', 6.238, 0.18 , 231.14, 27. ,  0., 34., 16.),\n",
       "       ('20/4/2008', '21:29:00', 7.486, 0.288, 232.  , 32.2, 34., 37., 17.),\n",
       "       ('23/3/2008', '20:32:00', 6.654, 0.178, 233.4 , 28.4,  0., 73., 16.),\n",
       "       ('15/1/2010', '20:58:00', 6.456, 0.482, 237.52, 27.8,  9., 46., 18.),\n",
       "       ('24/11/2009', '19:31:00', 7.65 , 0.186, 233.17, 32.8,  0., 70., 17.),\n",
       "       ('30/1/2010', '18:41:00', 7.088, 0.382, 235.09, 30.2, 37., 41., 17.),\n",
       "       ('27/3/2010', '18:33:00', 6.17 , 0.33 , 234.15, 26.6,  0., 63., 17.),\n",
       "       ('9/12/2007', '19:21:00', 6.25 , 0.304, 229.29, 27.2,  0., 34., 16.),\n",
       "       ('14/12/2009', '18:43:00', 6.69 , 0.596, 237.58, 28.2,  0., 39., 18.),\n",
       "       ('2/2/2008', '19:44:00', 6.052, 0.56 , 230.1 , 26.4,  1., 35., 16.),\n",
       "       ('17/4/2009', '20:41:00', 6.614, 0.228, 236.25, 28.4,  0., 55., 18.),\n",
       "       ('20/11/2010', '18:33:00', 6.262, 0.382, 229.72, 27.6, 13., 35., 16.),\n",
       "       ('30/1/2010', '18:20:00', 7.044, 0.19 , 233.33, 30.2,  2., 71., 18.),\n",
       "       ('12/11/2007', '20:38:00', 7.77 , 0.368, 233.43, 33.2,  0., 73., 16.),\n",
       "       ('20/2/2007', '20:31:00', 7.204, 0.09 , 231.78, 31. ,  0., 71., 16.),\n",
       "       ('10/1/2009', '19:50:00', 6.312, 0.172, 234.67, 27. ,  1., 64., 17.),\n",
       "       ('15/1/2010', '20:52:00', 7.77 , 0.274, 236.08, 33. , 10., 73., 18.),\n",
       "       ('23/11/2008', '18:10:00', 7.668, 0.464, 230.59, 33.2,  0., 35., 16.),\n",
       "       ('23/11/2008', '18:18:00', 6.598, 0.272, 231.78, 28.4,  0., 36., 17.)],\n",
       "      dtype=[('Date', '<U10'), ('Time', '<U10'), ('Active_P', '<f8'), ('Reactive_P', '<f8'), ('Voltage', '<f8'), ('Intensity', '<f8'), ('S_m_1', '<f8'), ('S_m_2', '<f8'), ('S_m_3', '<f8')])"
      ]
     },
     "execution_count": 366,
     "metadata": {},
     "output_type": "execute_result"
    }
   ],
   "source": [
    "%%time\n",
    "first_arr_step3(arr_t)"
   ]
  },
  {
   "cell_type": "code",
   "execution_count": 387,
   "metadata": {},
   "outputs": [
    {
     "name": "stdout",
     "output_type": "stream",
     "text": [
      "Wall time: 0 ns\n"
     ]
    }
   ],
   "source": [
    "%%time\n",
    "def second_arr_step4(arr):\n",
    "    middle = int(len(arr)/2)\n",
    "    return arr[middle:len(arr):4]"
   ]
  },
  {
   "cell_type": "code",
   "execution_count": 389,
   "metadata": {},
   "outputs": [
    {
     "name": "stdout",
     "output_type": "stream",
     "text": [
      "[3.2899988582357764e-05, 2.8999987989664078e-05, 1.4299992471933365e-05, 1.4100020052865148e-05, 4.270000499673188e-05, 2.8799986466765404e-05, 1.5600002370774746e-05] [0.005692000006092712, 0.006194399989908561, 0.004366399982245639, 0.006687399989459664, 0.006305000017164275, 0.004891599994152784, 0.005608200008282438]\n"
     ]
    },
    {
     "data": {
      "image/png": "[encoded data removed]",
      "text/plain": [
       "<Figure size 720x720 with 1 Axes>"
      ]
     },
     "metadata": {
      "needs_background": "light"
     },
     "output_type": "display_data"
    }
   ],
   "source": [
    "y1 = []\n",
    "y2 = []\n",
    "x = []\n",
    "for i in range(0, 7):\n",
    "    i=10**i\n",
    "    x.append(i)\n",
    "    y1.append(timeit.timeit('second_arr_step4(arr_t[:i])',number=10, globals = globals()))\n",
    "    y2.append(timeit.timeit('second_step_4(df_t[:i])',number=10, globals = globals()))\n",
    "    \n",
    "plt.figure(figsize=(10,10))\n",
    "f1 = plt.semilogx(x, y1, label=\"task1\")\n",
    "f2 = plt.semilogx(x, y2, label=\"task2\")\n",
    "plt.legend(['numpy', 'pandas'])\n",
    "plt.xlabel(\"Количество элементов\")\n",
    "plt.ylabel(\"Время\")\n",
    "plt.axis([1, 500, 0, 0.007])\n",
    "print(y1, y2)"
   ]
  },
  {
   "cell_type": "code",
   "execution_count": 250,
   "metadata": {},
   "outputs": [
    {
     "name": "stdout",
     "output_type": "stream",
     "text": [
      "52.7 µs ± 9.94 µs per loop (mean ± std. dev. of 7 runs, 40 loops each)\n"
     ]
    }
   ],
   "source": [
    "%%timeit -n 40\n",
    "arr1[(arr1['Time']>\"19:00:00\")&(arr1['Active_P']>5)]"
   ]
  },
  {
   "cell_type": "code",
   "execution_count": 251,
   "metadata": {},
   "outputs": [
    {
     "name": "stdout",
     "output_type": "stream",
     "text": [
      "61 µs ± 14.3 µs per loop (mean ± std. dev. of 7 runs, 40 loops each)\n"
     ]
    }
   ],
   "source": [
    "%%timeit -n 40\n",
    "cond = np.logical_and.reduce([ arr1['Time'] >=\"19:00:00\" ,(arr1['Active_P']>5)])\n",
    "arr1[cond]"
   ]
  }
 ],
 "metadata": {
  "kernelspec": {
   "display_name": "Python 3",
   "language": "python",
   "name": "python3"
  },
  "language_info": {
   "codemirror_mode": {
    "name": "ipython",
    "version": 3
   },
   "file_extension": ".py",
   "mimetype": "text/x-python",
   "name": "python",
   "nbconvert_exporter": "python",
   "pygments_lexer": "ipython3",
   "version": "3.7.6"
  }
 },
 "nbformat": 4,
 "nbformat_minor": 4
}
