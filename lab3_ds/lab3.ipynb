{
 "cells": [
  {
   "cell_type": "code",
   "execution_count": 2,
   "metadata": {},
   "outputs": [],
   "source": [
    "import os\n",
    "#import requests\n",
    "from zipfile import ZipFile\n",
    "from urllib.request import urlopen\n",
    "import pandas as pd\n",
    "import timeit \n",
    "import matplotlib.pyplot as plt"
   ]
  },
  {
   "cell_type": "code",
   "execution_count": 3,
   "metadata": {},
   "outputs": [],
   "source": [
    "def download_data():\n",
    "    if not os.path.exists(\"data1\"):\n",
    "        os.makedirs(\"data1\")    \n",
    "\n",
    "    url = \"https://archive.ics.uci.edu/ml/machine-learning-databases/00235/household_power_consumption.zip\"\n",
    "    \"\"\"\n",
    "    hpc = requests.get(url)\n",
    "    with open(\"data1/household_power_consumption.zip\", 'wb') as file:\n",
    "        file.write(hpc.content)\n",
    "    \"\"\"\n",
    "    hpc = urlopen(url)\n",
    " \n",
    "    with open(\"data1/household_power_consumption.zip\", 'wb') as file:\n",
    "        for line in hpc:\n",
    "             file.write(line)\n",
    "\n",
    "    with ZipFile(\"data1/household_power_consumption.zip\") as zipFile:\n",
    "        zipFile.extractall(\"data1\")"
   ]
  },
  {
   "cell_type": "code",
   "execution_count": 4,
   "metadata": {},
   "outputs": [],
   "source": [
    "download_data()"
   ]
  },
  {
   "cell_type": "markdown",
   "metadata": {},
   "source": [
    "# Используя датафрейм"
   ]
  },
  {
   "cell_type": "code",
   "execution_count": 5,
   "metadata": {},
   "outputs": [],
   "source": [
    "def read_to_frame():\n",
    "    #file_name = os.path.join('data1', \"*.txt\")\n",
    "    #print (file_name)\n",
    "    df = pd.read_csv(\"data1/household_power_consumption.txt\", sep=\";\", index_col=False, header=0) \n",
    "    return df"
   ]
  },
  {
   "cell_type": "code",
   "execution_count": 6,
   "metadata": {},
   "outputs": [
    {
     "name": "stderr",
     "output_type": "stream",
     "text": [
      "C:\\Users\\Acer\\Anaconda3\\envs\\myenv\\lib\\site-packages\\IPython\\core\\magic.py:187: DtypeWarning: Columns (2,3,4,5,6,7) have mixed types.Specify dtype option on import or set low_memory=False.\n",
      "  call = lambda f, *a, **k: f(*a, **k)\n"
     ]
    },
    {
     "name": "stdout",
     "output_type": "stream",
     "text": [
      "Wall time: 4.56 s\n"
     ]
    },
    {
     "data": {
      "text/html": [
       "<div>\n",
       "<style scoped>\n",
       "    .dataframe tbody tr th:only-of-type {\n",
       "        vertical-align: middle;\n",
       "    }\n",
       "\n",
       "    .dataframe tbody tr th {\n",
       "        vertical-align: top;\n",
       "    }\n",
       "\n",
       "    .dataframe thead th {\n",
       "        text-align: right;\n",
       "    }\n",
       "</style>\n",
       "<table border=\"1\" class=\"dataframe\">\n",
       "  <thead>\n",
       "    <tr style=\"text-align: right;\">\n",
       "      <th></th>\n",
       "      <th>Date</th>\n",
       "      <th>Time</th>\n",
       "      <th>Global_active_power</th>\n",
       "      <th>Global_reactive_power</th>\n",
       "      <th>Voltage</th>\n",
       "      <th>Global_intensity</th>\n",
       "      <th>Sub_metering_1</th>\n",
       "      <th>Sub_metering_2</th>\n",
       "      <th>Sub_metering_3</th>\n",
       "    </tr>\n",
       "  </thead>\n",
       "  <tbody>\n",
       "    <tr>\n",
       "      <th>0</th>\n",
       "      <td>16/12/2006</td>\n",
       "      <td>17:24:00</td>\n",
       "      <td>4.216</td>\n",
       "      <td>0.418</td>\n",
       "      <td>234.840</td>\n",
       "      <td>18.400</td>\n",
       "      <td>0.000</td>\n",
       "      <td>1.000</td>\n",
       "      <td>17.0</td>\n",
       "    </tr>\n",
       "    <tr>\n",
       "      <th>1</th>\n",
       "      <td>16/12/2006</td>\n",
       "      <td>17:25:00</td>\n",
       "      <td>5.360</td>\n",
       "      <td>0.436</td>\n",
       "      <td>233.630</td>\n",
       "      <td>23.000</td>\n",
       "      <td>0.000</td>\n",
       "      <td>1.000</td>\n",
       "      <td>16.0</td>\n",
       "    </tr>\n",
       "    <tr>\n",
       "      <th>2</th>\n",
       "      <td>16/12/2006</td>\n",
       "      <td>17:26:00</td>\n",
       "      <td>5.374</td>\n",
       "      <td>0.498</td>\n",
       "      <td>233.290</td>\n",
       "      <td>23.000</td>\n",
       "      <td>0.000</td>\n",
       "      <td>2.000</td>\n",
       "      <td>17.0</td>\n",
       "    </tr>\n",
       "    <tr>\n",
       "      <th>3</th>\n",
       "      <td>16/12/2006</td>\n",
       "      <td>17:27:00</td>\n",
       "      <td>5.388</td>\n",
       "      <td>0.502</td>\n",
       "      <td>233.740</td>\n",
       "      <td>23.000</td>\n",
       "      <td>0.000</td>\n",
       "      <td>1.000</td>\n",
       "      <td>17.0</td>\n",
       "    </tr>\n",
       "    <tr>\n",
       "      <th>4</th>\n",
       "      <td>16/12/2006</td>\n",
       "      <td>17:28:00</td>\n",
       "      <td>3.666</td>\n",
       "      <td>0.528</td>\n",
       "      <td>235.680</td>\n",
       "      <td>15.800</td>\n",
       "      <td>0.000</td>\n",
       "      <td>1.000</td>\n",
       "      <td>17.0</td>\n",
       "    </tr>\n",
       "    <tr>\n",
       "      <th>...</th>\n",
       "      <td>...</td>\n",
       "      <td>...</td>\n",
       "      <td>...</td>\n",
       "      <td>...</td>\n",
       "      <td>...</td>\n",
       "      <td>...</td>\n",
       "      <td>...</td>\n",
       "      <td>...</td>\n",
       "      <td>...</td>\n",
       "    </tr>\n",
       "    <tr>\n",
       "      <th>2075254</th>\n",
       "      <td>26/11/2010</td>\n",
       "      <td>20:58:00</td>\n",
       "      <td>0.946</td>\n",
       "      <td>0</td>\n",
       "      <td>240.43</td>\n",
       "      <td>4</td>\n",
       "      <td>0</td>\n",
       "      <td>0</td>\n",
       "      <td>0.0</td>\n",
       "    </tr>\n",
       "    <tr>\n",
       "      <th>2075255</th>\n",
       "      <td>26/11/2010</td>\n",
       "      <td>20:59:00</td>\n",
       "      <td>0.944</td>\n",
       "      <td>0</td>\n",
       "      <td>240</td>\n",
       "      <td>4</td>\n",
       "      <td>0</td>\n",
       "      <td>0</td>\n",
       "      <td>0.0</td>\n",
       "    </tr>\n",
       "    <tr>\n",
       "      <th>2075256</th>\n",
       "      <td>26/11/2010</td>\n",
       "      <td>21:00:00</td>\n",
       "      <td>0.938</td>\n",
       "      <td>0</td>\n",
       "      <td>239.82</td>\n",
       "      <td>3.8</td>\n",
       "      <td>0</td>\n",
       "      <td>0</td>\n",
       "      <td>0.0</td>\n",
       "    </tr>\n",
       "    <tr>\n",
       "      <th>2075257</th>\n",
       "      <td>26/11/2010</td>\n",
       "      <td>21:01:00</td>\n",
       "      <td>0.934</td>\n",
       "      <td>0</td>\n",
       "      <td>239.7</td>\n",
       "      <td>3.8</td>\n",
       "      <td>0</td>\n",
       "      <td>0</td>\n",
       "      <td>0.0</td>\n",
       "    </tr>\n",
       "    <tr>\n",
       "      <th>2075258</th>\n",
       "      <td>26/11/2010</td>\n",
       "      <td>21:02:00</td>\n",
       "      <td>0.932</td>\n",
       "      <td>0</td>\n",
       "      <td>239.55</td>\n",
       "      <td>3.8</td>\n",
       "      <td>0</td>\n",
       "      <td>0</td>\n",
       "      <td>0.0</td>\n",
       "    </tr>\n",
       "  </tbody>\n",
       "</table>\n",
       "<p>2075259 rows × 9 columns</p>\n",
       "</div>"
      ],
      "text/plain": [
       "               Date      Time Global_active_power Global_reactive_power  \\\n",
       "0        16/12/2006  17:24:00               4.216                 0.418   \n",
       "1        16/12/2006  17:25:00               5.360                 0.436   \n",
       "2        16/12/2006  17:26:00               5.374                 0.498   \n",
       "3        16/12/2006  17:27:00               5.388                 0.502   \n",
       "4        16/12/2006  17:28:00               3.666                 0.528   \n",
       "...             ...       ...                 ...                   ...   \n",
       "2075254  26/11/2010  20:58:00               0.946                     0   \n",
       "2075255  26/11/2010  20:59:00               0.944                     0   \n",
       "2075256  26/11/2010  21:00:00               0.938                     0   \n",
       "2075257  26/11/2010  21:01:00               0.934                     0   \n",
       "2075258  26/11/2010  21:02:00               0.932                     0   \n",
       "\n",
       "         Voltage Global_intensity Sub_metering_1 Sub_metering_2  \\\n",
       "0        234.840           18.400          0.000          1.000   \n",
       "1        233.630           23.000          0.000          1.000   \n",
       "2        233.290           23.000          0.000          2.000   \n",
       "3        233.740           23.000          0.000          1.000   \n",
       "4        235.680           15.800          0.000          1.000   \n",
       "...          ...              ...            ...            ...   \n",
       "2075254   240.43                4              0              0   \n",
       "2075255      240                4              0              0   \n",
       "2075256   239.82              3.8              0              0   \n",
       "2075257    239.7              3.8              0              0   \n",
       "2075258   239.55              3.8              0              0   \n",
       "\n",
       "         Sub_metering_3  \n",
       "0                  17.0  \n",
       "1                  16.0  \n",
       "2                  17.0  \n",
       "3                  17.0  \n",
       "4                  17.0  \n",
       "...                 ...  \n",
       "2075254             0.0  \n",
       "2075255             0.0  \n",
       "2075256             0.0  \n",
       "2075257             0.0  \n",
       "2075258             0.0  \n",
       "\n",
       "[2075259 rows x 9 columns]"
      ]
     },
     "execution_count": 6,
     "metadata": {},
     "output_type": "execute_result"
    }
   ],
   "source": [
    "%%time\n",
    "df = read_to_frame()\n",
    "df"
   ]
  },
  {
   "cell_type": "code",
   "execution_count": 7,
   "metadata": {},
   "outputs": [],
   "source": [
    "def clear_data(df):\n",
    "    cols = ['Active_P', 'Reactive_P', 'Voltage', 'Intensity', 'Sub_m_1', 'Sub_m_2', 'Sub_m_3']\n",
    "    df['DateTime'] = pd.to_datetime(df['Date']+df['Time'], format=\"%d/%m/%Y%H:%M:%S\")\n",
    "    df.drop(['Date', 'Time'], axis=1, inplace=True)\n",
    "    df.set_index('DateTime', inplace=True)\n",
    "    df.columns = cols\n",
    "    for col in cols:\n",
    "        df[col] = pd.to_numeric(df[col], errors = 'coerce')\n",
    "    df.dropna(axis=0, inplace=True)\n",
    "    return df"
   ]
  },
  {
   "cell_type": "code",
   "execution_count": 8,
   "metadata": {},
   "outputs": [
    {
     "data": {
      "text/plain": [
       "Date                      object\n",
       "Time                      object\n",
       "Global_active_power       object\n",
       "Global_reactive_power     object\n",
       "Voltage                   object\n",
       "Global_intensity          object\n",
       "Sub_metering_1            object\n",
       "Sub_metering_2            object\n",
       "Sub_metering_3           float64\n",
       "dtype: object"
      ]
     },
     "execution_count": 8,
     "metadata": {},
     "output_type": "execute_result"
    }
   ],
   "source": [
    "df.dtypes"
   ]
  },
  {
   "cell_type": "code",
   "execution_count": 9,
   "metadata": {},
   "outputs": [
    {
     "name": "stdout",
     "output_type": "stream",
     "text": [
      "Wall time: 16.3 s\n"
     ]
    },
    {
     "data": {
      "text/html": [
       "<div>\n",
       "<style scoped>\n",
       "    .dataframe tbody tr th:only-of-type {\n",
       "        vertical-align: middle;\n",
       "    }\n",
       "\n",
       "    .dataframe tbody tr th {\n",
       "        vertical-align: top;\n",
       "    }\n",
       "\n",
       "    .dataframe thead th {\n",
       "        text-align: right;\n",
       "    }\n",
       "</style>\n",
       "<table border=\"1\" class=\"dataframe\">\n",
       "  <thead>\n",
       "    <tr style=\"text-align: right;\">\n",
       "      <th></th>\n",
       "      <th>Active_P</th>\n",
       "      <th>Reactive_P</th>\n",
       "      <th>Voltage</th>\n",
       "      <th>Intensity</th>\n",
       "      <th>Sub_m_1</th>\n",
       "      <th>Sub_m_2</th>\n",
       "      <th>Sub_m_3</th>\n",
       "    </tr>\n",
       "    <tr>\n",
       "      <th>DateTime</th>\n",
       "      <th></th>\n",
       "      <th></th>\n",
       "      <th></th>\n",
       "      <th></th>\n",
       "      <th></th>\n",
       "      <th></th>\n",
       "      <th></th>\n",
       "    </tr>\n",
       "  </thead>\n",
       "  <tbody>\n",
       "    <tr>\n",
       "      <th>2006-12-16 17:24:00</th>\n",
       "      <td>4.216</td>\n",
       "      <td>0.418</td>\n",
       "      <td>234.84</td>\n",
       "      <td>18.4</td>\n",
       "      <td>0.0</td>\n",
       "      <td>1.0</td>\n",
       "      <td>17.0</td>\n",
       "    </tr>\n",
       "    <tr>\n",
       "      <th>2006-12-16 17:25:00</th>\n",
       "      <td>5.360</td>\n",
       "      <td>0.436</td>\n",
       "      <td>233.63</td>\n",
       "      <td>23.0</td>\n",
       "      <td>0.0</td>\n",
       "      <td>1.0</td>\n",
       "      <td>16.0</td>\n",
       "    </tr>\n",
       "    <tr>\n",
       "      <th>2006-12-16 17:26:00</th>\n",
       "      <td>5.374</td>\n",
       "      <td>0.498</td>\n",
       "      <td>233.29</td>\n",
       "      <td>23.0</td>\n",
       "      <td>0.0</td>\n",
       "      <td>2.0</td>\n",
       "      <td>17.0</td>\n",
       "    </tr>\n",
       "    <tr>\n",
       "      <th>2006-12-16 17:27:00</th>\n",
       "      <td>5.388</td>\n",
       "      <td>0.502</td>\n",
       "      <td>233.74</td>\n",
       "      <td>23.0</td>\n",
       "      <td>0.0</td>\n",
       "      <td>1.0</td>\n",
       "      <td>17.0</td>\n",
       "    </tr>\n",
       "    <tr>\n",
       "      <th>2006-12-16 17:28:00</th>\n",
       "      <td>3.666</td>\n",
       "      <td>0.528</td>\n",
       "      <td>235.68</td>\n",
       "      <td>15.8</td>\n",
       "      <td>0.0</td>\n",
       "      <td>1.0</td>\n",
       "      <td>17.0</td>\n",
       "    </tr>\n",
       "    <tr>\n",
       "      <th>...</th>\n",
       "      <td>...</td>\n",
       "      <td>...</td>\n",
       "      <td>...</td>\n",
       "      <td>...</td>\n",
       "      <td>...</td>\n",
       "      <td>...</td>\n",
       "      <td>...</td>\n",
       "    </tr>\n",
       "    <tr>\n",
       "      <th>2010-11-26 20:58:00</th>\n",
       "      <td>0.946</td>\n",
       "      <td>0.000</td>\n",
       "      <td>240.43</td>\n",
       "      <td>4.0</td>\n",
       "      <td>0.0</td>\n",
       "      <td>0.0</td>\n",
       "      <td>0.0</td>\n",
       "    </tr>\n",
       "    <tr>\n",
       "      <th>2010-11-26 20:59:00</th>\n",
       "      <td>0.944</td>\n",
       "      <td>0.000</td>\n",
       "      <td>240.00</td>\n",
       "      <td>4.0</td>\n",
       "      <td>0.0</td>\n",
       "      <td>0.0</td>\n",
       "      <td>0.0</td>\n",
       "    </tr>\n",
       "    <tr>\n",
       "      <th>2010-11-26 21:00:00</th>\n",
       "      <td>0.938</td>\n",
       "      <td>0.000</td>\n",
       "      <td>239.82</td>\n",
       "      <td>3.8</td>\n",
       "      <td>0.0</td>\n",
       "      <td>0.0</td>\n",
       "      <td>0.0</td>\n",
       "    </tr>\n",
       "    <tr>\n",
       "      <th>2010-11-26 21:01:00</th>\n",
       "      <td>0.934</td>\n",
       "      <td>0.000</td>\n",
       "      <td>239.70</td>\n",
       "      <td>3.8</td>\n",
       "      <td>0.0</td>\n",
       "      <td>0.0</td>\n",
       "      <td>0.0</td>\n",
       "    </tr>\n",
       "    <tr>\n",
       "      <th>2010-11-26 21:02:00</th>\n",
       "      <td>0.932</td>\n",
       "      <td>0.000</td>\n",
       "      <td>239.55</td>\n",
       "      <td>3.8</td>\n",
       "      <td>0.0</td>\n",
       "      <td>0.0</td>\n",
       "      <td>0.0</td>\n",
       "    </tr>\n",
       "  </tbody>\n",
       "</table>\n",
       "<p>2049280 rows × 7 columns</p>\n",
       "</div>"
      ],
      "text/plain": [
       "                     Active_P  Reactive_P  Voltage  Intensity  Sub_m_1  \\\n",
       "DateTime                                                                 \n",
       "2006-12-16 17:24:00     4.216       0.418   234.84       18.4      0.0   \n",
       "2006-12-16 17:25:00     5.360       0.436   233.63       23.0      0.0   \n",
       "2006-12-16 17:26:00     5.374       0.498   233.29       23.0      0.0   \n",
       "2006-12-16 17:27:00     5.388       0.502   233.74       23.0      0.0   \n",
       "2006-12-16 17:28:00     3.666       0.528   235.68       15.8      0.0   \n",
       "...                       ...         ...      ...        ...      ...   \n",
       "2010-11-26 20:58:00     0.946       0.000   240.43        4.0      0.0   \n",
       "2010-11-26 20:59:00     0.944       0.000   240.00        4.0      0.0   \n",
       "2010-11-26 21:00:00     0.938       0.000   239.82        3.8      0.0   \n",
       "2010-11-26 21:01:00     0.934       0.000   239.70        3.8      0.0   \n",
       "2010-11-26 21:02:00     0.932       0.000   239.55        3.8      0.0   \n",
       "\n",
       "                     Sub_m_2  Sub_m_3  \n",
       "DateTime                               \n",
       "2006-12-16 17:24:00      1.0     17.0  \n",
       "2006-12-16 17:25:00      1.0     16.0  \n",
       "2006-12-16 17:26:00      2.0     17.0  \n",
       "2006-12-16 17:27:00      1.0     17.0  \n",
       "2006-12-16 17:28:00      1.0     17.0  \n",
       "...                      ...      ...  \n",
       "2010-11-26 20:58:00      0.0      0.0  \n",
       "2010-11-26 20:59:00      0.0      0.0  \n",
       "2010-11-26 21:00:00      0.0      0.0  \n",
       "2010-11-26 21:01:00      0.0      0.0  \n",
       "2010-11-26 21:02:00      0.0      0.0  \n",
       "\n",
       "[2049280 rows x 7 columns]"
      ]
     },
     "execution_count": 9,
     "metadata": {},
     "output_type": "execute_result"
    }
   ],
   "source": [
    "%%time\n",
    "clear_data(df)"
   ]
  },
  {
   "cell_type": "code",
   "execution_count": 10,
   "metadata": {},
   "outputs": [
    {
     "data": {
      "text/plain": [
       "Active_P      float64\n",
       "Reactive_P    float64\n",
       "Voltage       float64\n",
       "Intensity     float64\n",
       "Sub_m_1       float64\n",
       "Sub_m_2       float64\n",
       "Sub_m_3       float64\n",
       "dtype: object"
      ]
     },
     "execution_count": 10,
     "metadata": {},
     "output_type": "execute_result"
    }
   ],
   "source": [
    "df.dtypes"
   ]
  },
  {
   "cell_type": "code",
   "execution_count": 11,
   "metadata": {},
   "outputs": [
    {
     "data": {
      "text/plain": [
       "Active_P      False\n",
       "Reactive_P    False\n",
       "Voltage       False\n",
       "Intensity     False\n",
       "Sub_m_1       False\n",
       "Sub_m_2       False\n",
       "Sub_m_3       False\n",
       "dtype: bool"
      ]
     },
     "execution_count": 11,
     "metadata": {},
     "output_type": "execute_result"
    }
   ],
   "source": [
    "df.isnull().any()"
   ]
  },
  {
   "cell_type": "markdown",
   "metadata": {},
   "source": [
    "## Выбрать строки, где общая активная мощность > 5 кВт"
   ]
  },
  {
   "cell_type": "code",
   "execution_count": 12,
   "metadata": {},
   "outputs": [],
   "source": [
    "def active_power(df, min_pow):\n",
    "    return df[df.Active_P>min_pow]"
   ]
  },
  {
   "cell_type": "code",
   "execution_count": 13,
   "metadata": {},
   "outputs": [
    {
     "name": "stdout",
     "output_type": "stream",
     "text": [
      "0.021682099999992488\n",
      "0.008576099999999087\n",
      "0.014365900000001375\n",
      "0.00894089999999892\n",
      "0.031190800000004515\n",
      "0.03266990000000192\n"
     ]
    }
   ],
   "source": [
    "for i in range(1, 7):\n",
    "    i=10**i\n",
    "    print(timeit.timeit('active_power(df[:i], 5)',number=10, globals = globals()))"
   ]
  },
  {
   "cell_type": "markdown",
   "metadata": {},
   "source": [
    "## Выбрать строки, в которых вольтаж превышает 235 В"
   ]
  },
  {
   "cell_type": "code",
   "execution_count": 14,
   "metadata": {},
   "outputs": [],
   "source": [
    "def voltage (df, min_v):\n",
    "    return df[df.Voltage>min_v]"
   ]
  },
  {
   "cell_type": "code",
   "execution_count": 15,
   "metadata": {},
   "outputs": [
    {
     "name": "stdout",
     "output_type": "stream",
     "text": [
      "Wall time: 150 ms\n"
     ]
    },
    {
     "data": {
      "text/html": [
       "<div>\n",
       "<style scoped>\n",
       "    .dataframe tbody tr th:only-of-type {\n",
       "        vertical-align: middle;\n",
       "    }\n",
       "\n",
       "    .dataframe tbody tr th {\n",
       "        vertical-align: top;\n",
       "    }\n",
       "\n",
       "    .dataframe thead th {\n",
       "        text-align: right;\n",
       "    }\n",
       "</style>\n",
       "<table border=\"1\" class=\"dataframe\">\n",
       "  <thead>\n",
       "    <tr style=\"text-align: right;\">\n",
       "      <th></th>\n",
       "      <th>Active_P</th>\n",
       "      <th>Reactive_P</th>\n",
       "      <th>Voltage</th>\n",
       "      <th>Intensity</th>\n",
       "      <th>Sub_m_1</th>\n",
       "      <th>Sub_m_2</th>\n",
       "      <th>Sub_m_3</th>\n",
       "    </tr>\n",
       "    <tr>\n",
       "      <th>DateTime</th>\n",
       "      <th></th>\n",
       "      <th></th>\n",
       "      <th></th>\n",
       "      <th></th>\n",
       "      <th></th>\n",
       "      <th></th>\n",
       "      <th></th>\n",
       "    </tr>\n",
       "  </thead>\n",
       "  <tbody>\n",
       "    <tr>\n",
       "      <th>2006-12-16 17:28:00</th>\n",
       "      <td>3.666</td>\n",
       "      <td>0.528</td>\n",
       "      <td>235.68</td>\n",
       "      <td>15.8</td>\n",
       "      <td>0.0</td>\n",
       "      <td>1.0</td>\n",
       "      <td>17.0</td>\n",
       "    </tr>\n",
       "    <tr>\n",
       "      <th>2006-12-16 17:29:00</th>\n",
       "      <td>3.520</td>\n",
       "      <td>0.522</td>\n",
       "      <td>235.02</td>\n",
       "      <td>15.0</td>\n",
       "      <td>0.0</td>\n",
       "      <td>2.0</td>\n",
       "      <td>17.0</td>\n",
       "    </tr>\n",
       "    <tr>\n",
       "      <th>2006-12-16 17:30:00</th>\n",
       "      <td>3.702</td>\n",
       "      <td>0.520</td>\n",
       "      <td>235.09</td>\n",
       "      <td>15.8</td>\n",
       "      <td>0.0</td>\n",
       "      <td>1.0</td>\n",
       "      <td>17.0</td>\n",
       "    </tr>\n",
       "    <tr>\n",
       "      <th>2006-12-16 17:31:00</th>\n",
       "      <td>3.700</td>\n",
       "      <td>0.520</td>\n",
       "      <td>235.22</td>\n",
       "      <td>15.8</td>\n",
       "      <td>0.0</td>\n",
       "      <td>1.0</td>\n",
       "      <td>17.0</td>\n",
       "    </tr>\n",
       "    <tr>\n",
       "      <th>2006-12-16 17:38:00</th>\n",
       "      <td>4.054</td>\n",
       "      <td>0.422</td>\n",
       "      <td>235.24</td>\n",
       "      <td>17.6</td>\n",
       "      <td>0.0</td>\n",
       "      <td>1.0</td>\n",
       "      <td>17.0</td>\n",
       "    </tr>\n",
       "    <tr>\n",
       "      <th>...</th>\n",
       "      <td>...</td>\n",
       "      <td>...</td>\n",
       "      <td>...</td>\n",
       "      <td>...</td>\n",
       "      <td>...</td>\n",
       "      <td>...</td>\n",
       "      <td>...</td>\n",
       "    </tr>\n",
       "    <tr>\n",
       "      <th>2010-11-26 20:58:00</th>\n",
       "      <td>0.946</td>\n",
       "      <td>0.000</td>\n",
       "      <td>240.43</td>\n",
       "      <td>4.0</td>\n",
       "      <td>0.0</td>\n",
       "      <td>0.0</td>\n",
       "      <td>0.0</td>\n",
       "    </tr>\n",
       "    <tr>\n",
       "      <th>2010-11-26 20:59:00</th>\n",
       "      <td>0.944</td>\n",
       "      <td>0.000</td>\n",
       "      <td>240.00</td>\n",
       "      <td>4.0</td>\n",
       "      <td>0.0</td>\n",
       "      <td>0.0</td>\n",
       "      <td>0.0</td>\n",
       "    </tr>\n",
       "    <tr>\n",
       "      <th>2010-11-26 21:00:00</th>\n",
       "      <td>0.938</td>\n",
       "      <td>0.000</td>\n",
       "      <td>239.82</td>\n",
       "      <td>3.8</td>\n",
       "      <td>0.0</td>\n",
       "      <td>0.0</td>\n",
       "      <td>0.0</td>\n",
       "    </tr>\n",
       "    <tr>\n",
       "      <th>2010-11-26 21:01:00</th>\n",
       "      <td>0.934</td>\n",
       "      <td>0.000</td>\n",
       "      <td>239.70</td>\n",
       "      <td>3.8</td>\n",
       "      <td>0.0</td>\n",
       "      <td>0.0</td>\n",
       "      <td>0.0</td>\n",
       "    </tr>\n",
       "    <tr>\n",
       "      <th>2010-11-26 21:02:00</th>\n",
       "      <td>0.932</td>\n",
       "      <td>0.000</td>\n",
       "      <td>239.55</td>\n",
       "      <td>3.8</td>\n",
       "      <td>0.0</td>\n",
       "      <td>0.0</td>\n",
       "      <td>0.0</td>\n",
       "    </tr>\n",
       "  </tbody>\n",
       "</table>\n",
       "<p>1952491 rows × 7 columns</p>\n",
       "</div>"
      ],
      "text/plain": [
       "                     Active_P  Reactive_P  Voltage  Intensity  Sub_m_1  \\\n",
       "DateTime                                                                 \n",
       "2006-12-16 17:28:00     3.666       0.528   235.68       15.8      0.0   \n",
       "2006-12-16 17:29:00     3.520       0.522   235.02       15.0      0.0   \n",
       "2006-12-16 17:30:00     3.702       0.520   235.09       15.8      0.0   \n",
       "2006-12-16 17:31:00     3.700       0.520   235.22       15.8      0.0   \n",
       "2006-12-16 17:38:00     4.054       0.422   235.24       17.6      0.0   \n",
       "...                       ...         ...      ...        ...      ...   \n",
       "2010-11-26 20:58:00     0.946       0.000   240.43        4.0      0.0   \n",
       "2010-11-26 20:59:00     0.944       0.000   240.00        4.0      0.0   \n",
       "2010-11-26 21:00:00     0.938       0.000   239.82        3.8      0.0   \n",
       "2010-11-26 21:01:00     0.934       0.000   239.70        3.8      0.0   \n",
       "2010-11-26 21:02:00     0.932       0.000   239.55        3.8      0.0   \n",
       "\n",
       "                     Sub_m_2  Sub_m_3  \n",
       "DateTime                               \n",
       "2006-12-16 17:28:00      1.0     17.0  \n",
       "2006-12-16 17:29:00      2.0     17.0  \n",
       "2006-12-16 17:30:00      1.0     17.0  \n",
       "2006-12-16 17:31:00      1.0     17.0  \n",
       "2006-12-16 17:38:00      1.0     17.0  \n",
       "...                      ...      ...  \n",
       "2010-11-26 20:58:00      0.0      0.0  \n",
       "2010-11-26 20:59:00      0.0      0.0  \n",
       "2010-11-26 21:00:00      0.0      0.0  \n",
       "2010-11-26 21:01:00      0.0      0.0  \n",
       "2010-11-26 21:02:00      0.0      0.0  \n",
       "\n",
       "[1952491 rows x 7 columns]"
      ]
     },
     "execution_count": 15,
     "metadata": {},
     "output_type": "execute_result"
    }
   ],
   "source": [
    "%%time\n",
    "voltage (df, 235)"
   ]
  },
  {
   "cell_type": "markdown",
   "metadata": {},
   "source": [
    "##  Выбрать все строки, в которых сила тока лежит в пределах 19-20А, для них определить те, в которых стиральная машина и холодильник потребляют больше, чем бойлер и кондиционер"
   ]
  },
  {
   "cell_type": "markdown",
   "metadata": {},
   "source": [
    "сила тока - intensity\n",
    "\n",
    "sub_m_1: посудомойка, микроволновка\n",
    "\n",
    "sub_m_2: стиральная машина, холодильник, сушка (хз как правильно), свет\n",
    "\n",
    "sub_m_3: бойлер, кондиционер"
   ]
  },
  {
   "cell_type": "code",
   "execution_count": 16,
   "metadata": {},
   "outputs": [],
   "source": [
    "def intensity_and_sub_m (df, min_i, max_i):\n",
    "    return df[(df.Intensity>=min_i)&(df.Intensity<=max_i)&(df.Sub_m_2>df.Sub_m_3)]"
   ]
  },
  {
   "cell_type": "code",
   "execution_count": 17,
   "metadata": {},
   "outputs": [
    {
     "name": "stdout",
     "output_type": "stream",
     "text": [
      "Wall time: 21.9 ms\n"
     ]
    },
    {
     "data": {
      "text/html": [
       "<div>\n",
       "<style scoped>\n",
       "    .dataframe tbody tr th:only-of-type {\n",
       "        vertical-align: middle;\n",
       "    }\n",
       "\n",
       "    .dataframe tbody tr th {\n",
       "        vertical-align: top;\n",
       "    }\n",
       "\n",
       "    .dataframe thead th {\n",
       "        text-align: right;\n",
       "    }\n",
       "</style>\n",
       "<table border=\"1\" class=\"dataframe\">\n",
       "  <thead>\n",
       "    <tr style=\"text-align: right;\">\n",
       "      <th></th>\n",
       "      <th>Active_P</th>\n",
       "      <th>Reactive_P</th>\n",
       "      <th>Voltage</th>\n",
       "      <th>Intensity</th>\n",
       "      <th>Sub_m_1</th>\n",
       "      <th>Sub_m_2</th>\n",
       "      <th>Sub_m_3</th>\n",
       "    </tr>\n",
       "    <tr>\n",
       "      <th>DateTime</th>\n",
       "      <th></th>\n",
       "      <th></th>\n",
       "      <th></th>\n",
       "      <th></th>\n",
       "      <th></th>\n",
       "      <th></th>\n",
       "      <th></th>\n",
       "    </tr>\n",
       "  </thead>\n",
       "  <tbody>\n",
       "    <tr>\n",
       "      <th>2006-12-16 18:09:00</th>\n",
       "      <td>4.464</td>\n",
       "      <td>0.136</td>\n",
       "      <td>234.66</td>\n",
       "      <td>19.0</td>\n",
       "      <td>0.0</td>\n",
       "      <td>37.0</td>\n",
       "      <td>16.0</td>\n",
       "    </tr>\n",
       "    <tr>\n",
       "      <th>2006-12-17 01:04:00</th>\n",
       "      <td>4.582</td>\n",
       "      <td>0.258</td>\n",
       "      <td>238.08</td>\n",
       "      <td>19.6</td>\n",
       "      <td>0.0</td>\n",
       "      <td>13.0</td>\n",
       "      <td>0.0</td>\n",
       "    </tr>\n",
       "    <tr>\n",
       "      <th>2006-12-17 01:08:00</th>\n",
       "      <td>4.618</td>\n",
       "      <td>0.104</td>\n",
       "      <td>239.61</td>\n",
       "      <td>19.6</td>\n",
       "      <td>0.0</td>\n",
       "      <td>27.0</td>\n",
       "      <td>0.0</td>\n",
       "    </tr>\n",
       "    <tr>\n",
       "      <th>2006-12-17 01:19:00</th>\n",
       "      <td>4.636</td>\n",
       "      <td>0.140</td>\n",
       "      <td>237.37</td>\n",
       "      <td>19.4</td>\n",
       "      <td>0.0</td>\n",
       "      <td>36.0</td>\n",
       "      <td>0.0</td>\n",
       "    </tr>\n",
       "    <tr>\n",
       "      <th>2006-12-17 01:20:00</th>\n",
       "      <td>4.634</td>\n",
       "      <td>0.152</td>\n",
       "      <td>237.17</td>\n",
       "      <td>19.4</td>\n",
       "      <td>0.0</td>\n",
       "      <td>35.0</td>\n",
       "      <td>0.0</td>\n",
       "    </tr>\n",
       "    <tr>\n",
       "      <th>...</th>\n",
       "      <td>...</td>\n",
       "      <td>...</td>\n",
       "      <td>...</td>\n",
       "      <td>...</td>\n",
       "      <td>...</td>\n",
       "      <td>...</td>\n",
       "      <td>...</td>\n",
       "    </tr>\n",
       "    <tr>\n",
       "      <th>2010-11-24 07:53:00</th>\n",
       "      <td>4.666</td>\n",
       "      <td>0.000</td>\n",
       "      <td>235.72</td>\n",
       "      <td>19.8</td>\n",
       "      <td>0.0</td>\n",
       "      <td>39.0</td>\n",
       "      <td>17.0</td>\n",
       "    </tr>\n",
       "    <tr>\n",
       "      <th>2010-11-24 07:54:00</th>\n",
       "      <td>4.694</td>\n",
       "      <td>0.000</td>\n",
       "      <td>236.78</td>\n",
       "      <td>19.8</td>\n",
       "      <td>0.0</td>\n",
       "      <td>39.0</td>\n",
       "      <td>18.0</td>\n",
       "    </tr>\n",
       "    <tr>\n",
       "      <th>2010-11-24 07:55:00</th>\n",
       "      <td>4.602</td>\n",
       "      <td>0.000</td>\n",
       "      <td>237.08</td>\n",
       "      <td>19.4</td>\n",
       "      <td>0.0</td>\n",
       "      <td>40.0</td>\n",
       "      <td>17.0</td>\n",
       "    </tr>\n",
       "    <tr>\n",
       "      <th>2010-11-24 07:56:00</th>\n",
       "      <td>4.536</td>\n",
       "      <td>0.000</td>\n",
       "      <td>237.03</td>\n",
       "      <td>19.0</td>\n",
       "      <td>0.0</td>\n",
       "      <td>39.0</td>\n",
       "      <td>17.0</td>\n",
       "    </tr>\n",
       "    <tr>\n",
       "      <th>2010-11-24 07:57:00</th>\n",
       "      <td>4.626</td>\n",
       "      <td>0.000</td>\n",
       "      <td>236.78</td>\n",
       "      <td>19.4</td>\n",
       "      <td>0.0</td>\n",
       "      <td>39.0</td>\n",
       "      <td>17.0</td>\n",
       "    </tr>\n",
       "  </tbody>\n",
       "</table>\n",
       "<p>2509 rows × 7 columns</p>\n",
       "</div>"
      ],
      "text/plain": [
       "                     Active_P  Reactive_P  Voltage  Intensity  Sub_m_1  \\\n",
       "DateTime                                                                 \n",
       "2006-12-16 18:09:00     4.464       0.136   234.66       19.0      0.0   \n",
       "2006-12-17 01:04:00     4.582       0.258   238.08       19.6      0.0   \n",
       "2006-12-17 01:08:00     4.618       0.104   239.61       19.6      0.0   \n",
       "2006-12-17 01:19:00     4.636       0.140   237.37       19.4      0.0   \n",
       "2006-12-17 01:20:00     4.634       0.152   237.17       19.4      0.0   \n",
       "...                       ...         ...      ...        ...      ...   \n",
       "2010-11-24 07:53:00     4.666       0.000   235.72       19.8      0.0   \n",
       "2010-11-24 07:54:00     4.694       0.000   236.78       19.8      0.0   \n",
       "2010-11-24 07:55:00     4.602       0.000   237.08       19.4      0.0   \n",
       "2010-11-24 07:56:00     4.536       0.000   237.03       19.0      0.0   \n",
       "2010-11-24 07:57:00     4.626       0.000   236.78       19.4      0.0   \n",
       "\n",
       "                     Sub_m_2  Sub_m_3  \n",
       "DateTime                               \n",
       "2006-12-16 18:09:00     37.0     16.0  \n",
       "2006-12-17 01:04:00     13.0      0.0  \n",
       "2006-12-17 01:08:00     27.0      0.0  \n",
       "2006-12-17 01:19:00     36.0      0.0  \n",
       "2006-12-17 01:20:00     35.0      0.0  \n",
       "...                      ...      ...  \n",
       "2010-11-24 07:53:00     39.0     17.0  \n",
       "2010-11-24 07:54:00     39.0     18.0  \n",
       "2010-11-24 07:55:00     40.0     17.0  \n",
       "2010-11-24 07:56:00     39.0     17.0  \n",
       "2010-11-24 07:57:00     39.0     17.0  \n",
       "\n",
       "[2509 rows x 7 columns]"
      ]
     },
     "execution_count": 17,
     "metadata": {},
     "output_type": "execute_result"
    }
   ],
   "source": [
    "%%time\n",
    "intensity_and_sub_m (df, 19, 20)"
   ]
  },
  {
   "cell_type": "markdown",
   "metadata": {},
   "source": [
    "## Выбрать случайным образом 500000 строк (без повторов элементов выборки), для них вычислить средние величины всех 3х групп потребления электроэнегрии"
   ]
  },
  {
   "cell_type": "code",
   "execution_count": 18,
   "metadata": {},
   "outputs": [],
   "source": [
    "num=500000\n",
    "df_rand = df.sample(n=num)\n"
   ]
  },
  {
   "cell_type": "code",
   "execution_count": 19,
   "metadata": {},
   "outputs": [],
   "source": [
    "def mean_rand(df_rand):\n",
    "    mean1 = df_rand['Sub_m_1'].mean()\n",
    "    mean2 = df_rand['Sub_m_2'].mean()\n",
    "    mean3 = df_rand['Sub_m_3'].mean()\n",
    "   # print(f\"mean of S_m_1 = {mean1}\")\n",
    "    #print(f\"mean of S_m_2 = {mean2}\")\n",
    "    #print(f\"mean of S_m_3 = {mean3}\")\n",
    "    #df_rand['Mean'] = df_rand[['Sub_m_1','Sub_m_2', 'Sub_m_3']].mean(1)\n",
    "    #df_rand.drop(['Sub_m_1', 'Sub_m_2', 'Sub_m_3'], axis=1, inplace=True)\n",
    "    #return df_rand"
   ]
  },
  {
   "cell_type": "code",
   "execution_count": 20,
   "metadata": {},
   "outputs": [
    {
     "name": "stdout",
     "output_type": "stream",
     "text": [
      "16.4 ms ± 2.19 ms per loop (mean ± std. dev. of 7 runs, 10 loops each)\n"
     ]
    }
   ],
   "source": [
    "%%timeit\n",
    "mean_rand(df_rand)"
   ]
  },
  {
   "cell_type": "markdown",
   "metadata": {},
   "source": [
    "## Выбрать те строки, в которых домохозяйства после 18:00 потребляют больше 6 кВт в минуту в среднем. Среди выбранных строк определить те, в которых основное употребление электроенергии выпадает на стиралку (группа 2). Потом выбрать каждый третий результат из первой половины и каждый четвертый результат из второй половины\n"
   ]
  },
  {
   "cell_type": "code",
   "execution_count": 21,
   "metadata": {},
   "outputs": [],
   "source": [
    "def time_and_active_p(df, min_h, min_p):\n",
    "    df_t = df[(df.index.hour>=min_h)&(df.Active_P>min_p)]\n",
    "    df_t = df_t[(df_t.Sub_m_1<df_t.Sub_m_2)&(df_t.Sub_m_3<df_t.Sub_m_2)]\n",
    "    return df_t"
   ]
  },
  {
   "cell_type": "code",
   "execution_count": 22,
   "metadata": {},
   "outputs": [
    {
     "name": "stdout",
     "output_type": "stream",
     "text": [
      "Wall time: 68.8 ms\n"
     ]
    }
   ],
   "source": [
    "%%time\n",
    "df_t = time_and_active_p(df_rand, 18, 6)"
   ]
  },
  {
   "cell_type": "code",
   "execution_count": 23,
   "metadata": {},
   "outputs": [
    {
     "data": {
      "text/html": [
       "<div>\n",
       "<style scoped>\n",
       "    .dataframe tbody tr th:only-of-type {\n",
       "        vertical-align: middle;\n",
       "    }\n",
       "\n",
       "    .dataframe tbody tr th {\n",
       "        vertical-align: top;\n",
       "    }\n",
       "\n",
       "    .dataframe thead th {\n",
       "        text-align: right;\n",
       "    }\n",
       "</style>\n",
       "<table border=\"1\" class=\"dataframe\">\n",
       "  <thead>\n",
       "    <tr style=\"text-align: right;\">\n",
       "      <th></th>\n",
       "      <th>Active_P</th>\n",
       "      <th>Reactive_P</th>\n",
       "      <th>Voltage</th>\n",
       "      <th>Intensity</th>\n",
       "      <th>Sub_m_1</th>\n",
       "      <th>Sub_m_2</th>\n",
       "      <th>Sub_m_3</th>\n",
       "    </tr>\n",
       "    <tr>\n",
       "      <th>DateTime</th>\n",
       "      <th></th>\n",
       "      <th></th>\n",
       "      <th></th>\n",
       "      <th></th>\n",
       "      <th></th>\n",
       "      <th></th>\n",
       "      <th></th>\n",
       "    </tr>\n",
       "  </thead>\n",
       "  <tbody>\n",
       "    <tr>\n",
       "      <th>2010-03-27 18:35:00</th>\n",
       "      <td>6.600</td>\n",
       "      <td>0.252</td>\n",
       "      <td>234.02</td>\n",
       "      <td>28.2</td>\n",
       "      <td>0.0</td>\n",
       "      <td>71.0</td>\n",
       "      <td>17.0</td>\n",
       "    </tr>\n",
       "    <tr>\n",
       "      <th>2007-01-20 19:34:00</th>\n",
       "      <td>8.306</td>\n",
       "      <td>0.146</td>\n",
       "      <td>228.59</td>\n",
       "      <td>36.2</td>\n",
       "      <td>0.0</td>\n",
       "      <td>34.0</td>\n",
       "      <td>16.0</td>\n",
       "    </tr>\n",
       "    <tr>\n",
       "      <th>2007-01-20 19:21:00</th>\n",
       "      <td>8.658</td>\n",
       "      <td>0.402</td>\n",
       "      <td>226.33</td>\n",
       "      <td>38.2</td>\n",
       "      <td>0.0</td>\n",
       "      <td>34.0</td>\n",
       "      <td>15.0</td>\n",
       "    </tr>\n",
       "    <tr>\n",
       "      <th>2009-01-02 18:35:00</th>\n",
       "      <td>7.186</td>\n",
       "      <td>0.110</td>\n",
       "      <td>234.72</td>\n",
       "      <td>30.8</td>\n",
       "      <td>29.0</td>\n",
       "      <td>36.0</td>\n",
       "      <td>17.0</td>\n",
       "    </tr>\n",
       "    <tr>\n",
       "      <th>2009-02-22 21:14:00</th>\n",
       "      <td>7.246</td>\n",
       "      <td>0.286</td>\n",
       "      <td>233.30</td>\n",
       "      <td>31.4</td>\n",
       "      <td>37.0</td>\n",
       "      <td>49.0</td>\n",
       "      <td>0.0</td>\n",
       "    </tr>\n",
       "    <tr>\n",
       "      <th>...</th>\n",
       "      <td>...</td>\n",
       "      <td>...</td>\n",
       "      <td>...</td>\n",
       "      <td>...</td>\n",
       "      <td>...</td>\n",
       "      <td>...</td>\n",
       "      <td>...</td>\n",
       "    </tr>\n",
       "    <tr>\n",
       "      <th>2007-04-02 22:01:00</th>\n",
       "      <td>6.014</td>\n",
       "      <td>0.000</td>\n",
       "      <td>232.69</td>\n",
       "      <td>25.8</td>\n",
       "      <td>1.0</td>\n",
       "      <td>36.0</td>\n",
       "      <td>17.0</td>\n",
       "    </tr>\n",
       "    <tr>\n",
       "      <th>2007-03-31 20:03:00</th>\n",
       "      <td>6.254</td>\n",
       "      <td>0.528</td>\n",
       "      <td>235.95</td>\n",
       "      <td>26.6</td>\n",
       "      <td>0.0</td>\n",
       "      <td>37.0</td>\n",
       "      <td>17.0</td>\n",
       "    </tr>\n",
       "    <tr>\n",
       "      <th>2007-10-13 20:15:00</th>\n",
       "      <td>6.212</td>\n",
       "      <td>0.108</td>\n",
       "      <td>232.83</td>\n",
       "      <td>26.6</td>\n",
       "      <td>0.0</td>\n",
       "      <td>35.0</td>\n",
       "      <td>17.0</td>\n",
       "    </tr>\n",
       "    <tr>\n",
       "      <th>2008-11-23 18:09:00</th>\n",
       "      <td>7.586</td>\n",
       "      <td>0.370</td>\n",
       "      <td>230.55</td>\n",
       "      <td>32.8</td>\n",
       "      <td>0.0</td>\n",
       "      <td>35.0</td>\n",
       "      <td>16.0</td>\n",
       "    </tr>\n",
       "    <tr>\n",
       "      <th>2007-04-01 21:55:00</th>\n",
       "      <td>7.752</td>\n",
       "      <td>0.292</td>\n",
       "      <td>233.37</td>\n",
       "      <td>33.2</td>\n",
       "      <td>0.0</td>\n",
       "      <td>70.0</td>\n",
       "      <td>17.0</td>\n",
       "    </tr>\n",
       "  </tbody>\n",
       "</table>\n",
       "<p>238 rows × 7 columns</p>\n",
       "</div>"
      ],
      "text/plain": [
       "                     Active_P  Reactive_P  Voltage  Intensity  Sub_m_1  \\\n",
       "DateTime                                                                 \n",
       "2010-03-27 18:35:00     6.600       0.252   234.02       28.2      0.0   \n",
       "2007-01-20 19:34:00     8.306       0.146   228.59       36.2      0.0   \n",
       "2007-01-20 19:21:00     8.658       0.402   226.33       38.2      0.0   \n",
       "2009-01-02 18:35:00     7.186       0.110   234.72       30.8     29.0   \n",
       "2009-02-22 21:14:00     7.246       0.286   233.30       31.4     37.0   \n",
       "...                       ...         ...      ...        ...      ...   \n",
       "2007-04-02 22:01:00     6.014       0.000   232.69       25.8      1.0   \n",
       "2007-03-31 20:03:00     6.254       0.528   235.95       26.6      0.0   \n",
       "2007-10-13 20:15:00     6.212       0.108   232.83       26.6      0.0   \n",
       "2008-11-23 18:09:00     7.586       0.370   230.55       32.8      0.0   \n",
       "2007-04-01 21:55:00     7.752       0.292   233.37       33.2      0.0   \n",
       "\n",
       "                     Sub_m_2  Sub_m_3  \n",
       "DateTime                               \n",
       "2010-03-27 18:35:00     71.0     17.0  \n",
       "2007-01-20 19:34:00     34.0     16.0  \n",
       "2007-01-20 19:21:00     34.0     15.0  \n",
       "2009-01-02 18:35:00     36.0     17.0  \n",
       "2009-02-22 21:14:00     49.0      0.0  \n",
       "...                      ...      ...  \n",
       "2007-04-02 22:01:00     36.0     17.0  \n",
       "2007-03-31 20:03:00     37.0     17.0  \n",
       "2007-10-13 20:15:00     35.0     17.0  \n",
       "2008-11-23 18:09:00     35.0     16.0  \n",
       "2007-04-01 21:55:00     70.0     17.0  \n",
       "\n",
       "[238 rows x 7 columns]"
      ]
     },
     "execution_count": 23,
     "metadata": {},
     "output_type": "execute_result"
    }
   ],
   "source": [
    "df_t"
   ]
  },
  {
   "cell_type": "code",
   "execution_count": 24,
   "metadata": {},
   "outputs": [],
   "source": [
    "def first_step_3(df):\n",
    "    return df.iloc[:int(len(df)/2):3] \n",
    "\n",
    "def second_step_4(df):\n",
    "    return df.iloc[int(len(df)/2)::4]"
   ]
  },
  {
   "cell_type": "code",
   "execution_count": 25,
   "metadata": {},
   "outputs": [
    {
     "name": "stdout",
     "output_type": "stream",
     "text": [
      "Wall time: 0 ns\n"
     ]
    },
    {
     "data": {
      "text/html": [
       "<div>\n",
       "<style scoped>\n",
       "    .dataframe tbody tr th:only-of-type {\n",
       "        vertical-align: middle;\n",
       "    }\n",
       "\n",
       "    .dataframe tbody tr th {\n",
       "        vertical-align: top;\n",
       "    }\n",
       "\n",
       "    .dataframe thead th {\n",
       "        text-align: right;\n",
       "    }\n",
       "</style>\n",
       "<table border=\"1\" class=\"dataframe\">\n",
       "  <thead>\n",
       "    <tr style=\"text-align: right;\">\n",
       "      <th></th>\n",
       "      <th>Active_P</th>\n",
       "      <th>Reactive_P</th>\n",
       "      <th>Voltage</th>\n",
       "      <th>Intensity</th>\n",
       "      <th>Sub_m_1</th>\n",
       "      <th>Sub_m_2</th>\n",
       "      <th>Sub_m_3</th>\n",
       "    </tr>\n",
       "    <tr>\n",
       "      <th>DateTime</th>\n",
       "      <th></th>\n",
       "      <th></th>\n",
       "      <th></th>\n",
       "      <th></th>\n",
       "      <th></th>\n",
       "      <th></th>\n",
       "      <th></th>\n",
       "    </tr>\n",
       "  </thead>\n",
       "  <tbody>\n",
       "    <tr>\n",
       "      <th>2010-03-27 18:35:00</th>\n",
       "      <td>6.600</td>\n",
       "      <td>0.252</td>\n",
       "      <td>234.02</td>\n",
       "      <td>28.2</td>\n",
       "      <td>0.0</td>\n",
       "      <td>71.0</td>\n",
       "      <td>17.0</td>\n",
       "    </tr>\n",
       "    <tr>\n",
       "      <th>2009-01-02 18:35:00</th>\n",
       "      <td>7.186</td>\n",
       "      <td>0.110</td>\n",
       "      <td>234.72</td>\n",
       "      <td>30.8</td>\n",
       "      <td>29.0</td>\n",
       "      <td>36.0</td>\n",
       "      <td>17.0</td>\n",
       "    </tr>\n",
       "    <tr>\n",
       "      <th>2008-03-23 20:18:00</th>\n",
       "      <td>7.444</td>\n",
       "      <td>0.196</td>\n",
       "      <td>233.47</td>\n",
       "      <td>31.8</td>\n",
       "      <td>36.0</td>\n",
       "      <td>37.0</td>\n",
       "      <td>17.0</td>\n",
       "    </tr>\n",
       "    <tr>\n",
       "      <th>2010-03-07 18:16:00</th>\n",
       "      <td>7.140</td>\n",
       "      <td>0.248</td>\n",
       "      <td>233.37</td>\n",
       "      <td>30.8</td>\n",
       "      <td>0.0</td>\n",
       "      <td>58.0</td>\n",
       "      <td>1.0</td>\n",
       "    </tr>\n",
       "    <tr>\n",
       "      <th>2006-12-29 21:25:00</th>\n",
       "      <td>6.086</td>\n",
       "      <td>0.000</td>\n",
       "      <td>229.04</td>\n",
       "      <td>26.6</td>\n",
       "      <td>0.0</td>\n",
       "      <td>69.0</td>\n",
       "      <td>0.0</td>\n",
       "    </tr>\n",
       "    <tr>\n",
       "      <th>2008-11-04 20:53:00</th>\n",
       "      <td>6.426</td>\n",
       "      <td>0.244</td>\n",
       "      <td>233.21</td>\n",
       "      <td>28.0</td>\n",
       "      <td>0.0</td>\n",
       "      <td>60.0</td>\n",
       "      <td>17.0</td>\n",
       "    </tr>\n",
       "    <tr>\n",
       "      <th>2007-02-03 19:03:00</th>\n",
       "      <td>6.844</td>\n",
       "      <td>0.570</td>\n",
       "      <td>229.27</td>\n",
       "      <td>30.2</td>\n",
       "      <td>24.0</td>\n",
       "      <td>34.0</td>\n",
       "      <td>16.0</td>\n",
       "    </tr>\n",
       "    <tr>\n",
       "      <th>2007-12-08 20:29:00</th>\n",
       "      <td>6.158</td>\n",
       "      <td>0.344</td>\n",
       "      <td>234.28</td>\n",
       "      <td>26.2</td>\n",
       "      <td>0.0</td>\n",
       "      <td>35.0</td>\n",
       "      <td>17.0</td>\n",
       "    </tr>\n",
       "    <tr>\n",
       "      <th>2008-11-23 20:36:00</th>\n",
       "      <td>6.528</td>\n",
       "      <td>0.152</td>\n",
       "      <td>234.35</td>\n",
       "      <td>27.8</td>\n",
       "      <td>0.0</td>\n",
       "      <td>36.0</td>\n",
       "      <td>16.0</td>\n",
       "    </tr>\n",
       "    <tr>\n",
       "      <th>2009-02-23 22:29:00</th>\n",
       "      <td>7.226</td>\n",
       "      <td>0.000</td>\n",
       "      <td>235.54</td>\n",
       "      <td>30.6</td>\n",
       "      <td>37.0</td>\n",
       "      <td>42.0</td>\n",
       "      <td>17.0</td>\n",
       "    </tr>\n",
       "    <tr>\n",
       "      <th>2008-07-03 21:44:00</th>\n",
       "      <td>7.066</td>\n",
       "      <td>0.000</td>\n",
       "      <td>234.33</td>\n",
       "      <td>30.4</td>\n",
       "      <td>36.0</td>\n",
       "      <td>52.0</td>\n",
       "      <td>18.0</td>\n",
       "    </tr>\n",
       "    <tr>\n",
       "      <th>2007-12-28 18:02:00</th>\n",
       "      <td>6.408</td>\n",
       "      <td>0.238</td>\n",
       "      <td>236.30</td>\n",
       "      <td>27.2</td>\n",
       "      <td>0.0</td>\n",
       "      <td>59.0</td>\n",
       "      <td>17.0</td>\n",
       "    </tr>\n",
       "    <tr>\n",
       "      <th>2008-05-18 20:33:00</th>\n",
       "      <td>7.496</td>\n",
       "      <td>0.252</td>\n",
       "      <td>234.34</td>\n",
       "      <td>32.0</td>\n",
       "      <td>1.0</td>\n",
       "      <td>72.0</td>\n",
       "      <td>28.0</td>\n",
       "    </tr>\n",
       "    <tr>\n",
       "      <th>2007-12-23 19:44:00</th>\n",
       "      <td>8.116</td>\n",
       "      <td>0.432</td>\n",
       "      <td>232.84</td>\n",
       "      <td>34.8</td>\n",
       "      <td>37.0</td>\n",
       "      <td>38.0</td>\n",
       "      <td>16.0</td>\n",
       "    </tr>\n",
       "    <tr>\n",
       "      <th>2008-11-04 21:38:00</th>\n",
       "      <td>6.546</td>\n",
       "      <td>0.230</td>\n",
       "      <td>236.07</td>\n",
       "      <td>27.6</td>\n",
       "      <td>0.0</td>\n",
       "      <td>73.0</td>\n",
       "      <td>17.0</td>\n",
       "    </tr>\n",
       "    <tr>\n",
       "      <th>2007-01-09 21:03:00</th>\n",
       "      <td>6.726</td>\n",
       "      <td>0.154</td>\n",
       "      <td>234.28</td>\n",
       "      <td>29.0</td>\n",
       "      <td>0.0</td>\n",
       "      <td>64.0</td>\n",
       "      <td>17.0</td>\n",
       "    </tr>\n",
       "    <tr>\n",
       "      <th>2008-11-23 18:57:00</th>\n",
       "      <td>6.406</td>\n",
       "      <td>0.332</td>\n",
       "      <td>232.64</td>\n",
       "      <td>27.4</td>\n",
       "      <td>0.0</td>\n",
       "      <td>36.0</td>\n",
       "      <td>16.0</td>\n",
       "    </tr>\n",
       "    <tr>\n",
       "      <th>2006-12-28 21:17:00</th>\n",
       "      <td>7.040</td>\n",
       "      <td>0.130</td>\n",
       "      <td>233.27</td>\n",
       "      <td>30.2</td>\n",
       "      <td>37.0</td>\n",
       "      <td>38.0</td>\n",
       "      <td>17.0</td>\n",
       "    </tr>\n",
       "    <tr>\n",
       "      <th>2008-05-18 20:40:00</th>\n",
       "      <td>7.004</td>\n",
       "      <td>0.000</td>\n",
       "      <td>234.17</td>\n",
       "      <td>29.8</td>\n",
       "      <td>36.0</td>\n",
       "      <td>37.0</td>\n",
       "      <td>18.0</td>\n",
       "    </tr>\n",
       "    <tr>\n",
       "      <th>2008-03-05 18:36:00</th>\n",
       "      <td>6.524</td>\n",
       "      <td>0.286</td>\n",
       "      <td>233.65</td>\n",
       "      <td>27.8</td>\n",
       "      <td>0.0</td>\n",
       "      <td>72.0</td>\n",
       "      <td>0.0</td>\n",
       "    </tr>\n",
       "    <tr>\n",
       "      <th>2008-10-12 18:37:00</th>\n",
       "      <td>6.358</td>\n",
       "      <td>0.240</td>\n",
       "      <td>229.93</td>\n",
       "      <td>27.6</td>\n",
       "      <td>35.0</td>\n",
       "      <td>36.0</td>\n",
       "      <td>10.0</td>\n",
       "    </tr>\n",
       "    <tr>\n",
       "      <th>2008-11-04 21:35:00</th>\n",
       "      <td>6.914</td>\n",
       "      <td>0.244</td>\n",
       "      <td>236.07</td>\n",
       "      <td>29.2</td>\n",
       "      <td>0.0</td>\n",
       "      <td>73.0</td>\n",
       "      <td>17.0</td>\n",
       "    </tr>\n",
       "    <tr>\n",
       "      <th>2008-11-23 20:22:00</th>\n",
       "      <td>7.044</td>\n",
       "      <td>0.292</td>\n",
       "      <td>232.68</td>\n",
       "      <td>30.4</td>\n",
       "      <td>2.0</td>\n",
       "      <td>33.0</td>\n",
       "      <td>17.0</td>\n",
       "    </tr>\n",
       "    <tr>\n",
       "      <th>2007-02-22 21:45:00</th>\n",
       "      <td>6.288</td>\n",
       "      <td>0.114</td>\n",
       "      <td>230.22</td>\n",
       "      <td>27.2</td>\n",
       "      <td>1.0</td>\n",
       "      <td>30.0</td>\n",
       "      <td>16.0</td>\n",
       "    </tr>\n",
       "    <tr>\n",
       "      <th>2007-02-03 18:52:00</th>\n",
       "      <td>7.198</td>\n",
       "      <td>0.494</td>\n",
       "      <td>228.45</td>\n",
       "      <td>31.8</td>\n",
       "      <td>26.0</td>\n",
       "      <td>34.0</td>\n",
       "      <td>16.0</td>\n",
       "    </tr>\n",
       "    <tr>\n",
       "      <th>2008-03-05 18:33:00</th>\n",
       "      <td>6.506</td>\n",
       "      <td>0.256</td>\n",
       "      <td>233.94</td>\n",
       "      <td>27.8</td>\n",
       "      <td>0.0</td>\n",
       "      <td>72.0</td>\n",
       "      <td>0.0</td>\n",
       "    </tr>\n",
       "    <tr>\n",
       "      <th>2008-10-12 20:15:00</th>\n",
       "      <td>7.192</td>\n",
       "      <td>0.196</td>\n",
       "      <td>230.56</td>\n",
       "      <td>31.4</td>\n",
       "      <td>0.0</td>\n",
       "      <td>59.0</td>\n",
       "      <td>17.0</td>\n",
       "    </tr>\n",
       "    <tr>\n",
       "      <th>2006-12-28 21:11:00</th>\n",
       "      <td>9.048</td>\n",
       "      <td>0.000</td>\n",
       "      <td>231.48</td>\n",
       "      <td>39.0</td>\n",
       "      <td>34.0</td>\n",
       "      <td>71.0</td>\n",
       "      <td>16.0</td>\n",
       "    </tr>\n",
       "    <tr>\n",
       "      <th>2009-11-15 18:46:00</th>\n",
       "      <td>6.926</td>\n",
       "      <td>0.370</td>\n",
       "      <td>230.64</td>\n",
       "      <td>30.0</td>\n",
       "      <td>0.0</td>\n",
       "      <td>69.0</td>\n",
       "      <td>17.0</td>\n",
       "    </tr>\n",
       "    <tr>\n",
       "      <th>2007-01-20 19:17:00</th>\n",
       "      <td>6.210</td>\n",
       "      <td>0.432</td>\n",
       "      <td>228.85</td>\n",
       "      <td>27.2</td>\n",
       "      <td>0.0</td>\n",
       "      <td>35.0</td>\n",
       "      <td>16.0</td>\n",
       "    </tr>\n",
       "    <tr>\n",
       "      <th>2007-04-01 21:59:00</th>\n",
       "      <td>8.134</td>\n",
       "      <td>0.278</td>\n",
       "      <td>232.16</td>\n",
       "      <td>35.0</td>\n",
       "      <td>2.0</td>\n",
       "      <td>70.0</td>\n",
       "      <td>16.0</td>\n",
       "    </tr>\n",
       "    <tr>\n",
       "      <th>2007-03-20 21:32:00</th>\n",
       "      <td>6.262</td>\n",
       "      <td>0.162</td>\n",
       "      <td>234.59</td>\n",
       "      <td>26.6</td>\n",
       "      <td>1.0</td>\n",
       "      <td>36.0</td>\n",
       "      <td>17.0</td>\n",
       "    </tr>\n",
       "    <tr>\n",
       "      <th>2009-12-30 19:27:00</th>\n",
       "      <td>6.116</td>\n",
       "      <td>0.488</td>\n",
       "      <td>236.56</td>\n",
       "      <td>25.8</td>\n",
       "      <td>0.0</td>\n",
       "      <td>72.0</td>\n",
       "      <td>1.0</td>\n",
       "    </tr>\n",
       "    <tr>\n",
       "      <th>2008-10-17 20:03:00</th>\n",
       "      <td>6.246</td>\n",
       "      <td>0.534</td>\n",
       "      <td>234.41</td>\n",
       "      <td>27.0</td>\n",
       "      <td>0.0</td>\n",
       "      <td>29.0</td>\n",
       "      <td>18.0</td>\n",
       "    </tr>\n",
       "    <tr>\n",
       "      <th>2006-12-16 18:35:00</th>\n",
       "      <td>6.072</td>\n",
       "      <td>0.000</td>\n",
       "      <td>232.48</td>\n",
       "      <td>26.4</td>\n",
       "      <td>0.0</td>\n",
       "      <td>27.0</td>\n",
       "      <td>17.0</td>\n",
       "    </tr>\n",
       "    <tr>\n",
       "      <th>2009-01-10 19:53:00</th>\n",
       "      <td>6.720</td>\n",
       "      <td>0.154</td>\n",
       "      <td>233.98</td>\n",
       "      <td>28.6</td>\n",
       "      <td>0.0</td>\n",
       "      <td>72.0</td>\n",
       "      <td>17.0</td>\n",
       "    </tr>\n",
       "    <tr>\n",
       "      <th>2007-01-07 18:04:00</th>\n",
       "      <td>6.608</td>\n",
       "      <td>0.000</td>\n",
       "      <td>230.91</td>\n",
       "      <td>28.6</td>\n",
       "      <td>0.0</td>\n",
       "      <td>70.0</td>\n",
       "      <td>17.0</td>\n",
       "    </tr>\n",
       "    <tr>\n",
       "      <th>2007-12-23 19:06:00</th>\n",
       "      <td>7.112</td>\n",
       "      <td>0.220</td>\n",
       "      <td>230.56</td>\n",
       "      <td>30.8</td>\n",
       "      <td>0.0</td>\n",
       "      <td>70.0</td>\n",
       "      <td>0.0</td>\n",
       "    </tr>\n",
       "    <tr>\n",
       "      <th>2007-03-20 21:35:00</th>\n",
       "      <td>6.110</td>\n",
       "      <td>0.242</td>\n",
       "      <td>234.55</td>\n",
       "      <td>26.0</td>\n",
       "      <td>1.0</td>\n",
       "      <td>35.0</td>\n",
       "      <td>16.0</td>\n",
       "    </tr>\n",
       "    <tr>\n",
       "      <th>2009-05-03 20:48:00</th>\n",
       "      <td>6.580</td>\n",
       "      <td>0.058</td>\n",
       "      <td>237.60</td>\n",
       "      <td>28.0</td>\n",
       "      <td>18.0</td>\n",
       "      <td>36.0</td>\n",
       "      <td>18.0</td>\n",
       "    </tr>\n",
       "  </tbody>\n",
       "</table>\n",
       "</div>"
      ],
      "text/plain": [
       "                     Active_P  Reactive_P  Voltage  Intensity  Sub_m_1  \\\n",
       "DateTime                                                                 \n",
       "2010-03-27 18:35:00     6.600       0.252   234.02       28.2      0.0   \n",
       "2009-01-02 18:35:00     7.186       0.110   234.72       30.8     29.0   \n",
       "2008-03-23 20:18:00     7.444       0.196   233.47       31.8     36.0   \n",
       "2010-03-07 18:16:00     7.140       0.248   233.37       30.8      0.0   \n",
       "2006-12-29 21:25:00     6.086       0.000   229.04       26.6      0.0   \n",
       "2008-11-04 20:53:00     6.426       0.244   233.21       28.0      0.0   \n",
       "2007-02-03 19:03:00     6.844       0.570   229.27       30.2     24.0   \n",
       "2007-12-08 20:29:00     6.158       0.344   234.28       26.2      0.0   \n",
       "2008-11-23 20:36:00     6.528       0.152   234.35       27.8      0.0   \n",
       "2009-02-23 22:29:00     7.226       0.000   235.54       30.6     37.0   \n",
       "2008-07-03 21:44:00     7.066       0.000   234.33       30.4     36.0   \n",
       "2007-12-28 18:02:00     6.408       0.238   236.30       27.2      0.0   \n",
       "2008-05-18 20:33:00     7.496       0.252   234.34       32.0      1.0   \n",
       "2007-12-23 19:44:00     8.116       0.432   232.84       34.8     37.0   \n",
       "2008-11-04 21:38:00     6.546       0.230   236.07       27.6      0.0   \n",
       "2007-01-09 21:03:00     6.726       0.154   234.28       29.0      0.0   \n",
       "2008-11-23 18:57:00     6.406       0.332   232.64       27.4      0.0   \n",
       "2006-12-28 21:17:00     7.040       0.130   233.27       30.2     37.0   \n",
       "2008-05-18 20:40:00     7.004       0.000   234.17       29.8     36.0   \n",
       "2008-03-05 18:36:00     6.524       0.286   233.65       27.8      0.0   \n",
       "2008-10-12 18:37:00     6.358       0.240   229.93       27.6     35.0   \n",
       "2008-11-04 21:35:00     6.914       0.244   236.07       29.2      0.0   \n",
       "2008-11-23 20:22:00     7.044       0.292   232.68       30.4      2.0   \n",
       "2007-02-22 21:45:00     6.288       0.114   230.22       27.2      1.0   \n",
       "2007-02-03 18:52:00     7.198       0.494   228.45       31.8     26.0   \n",
       "2008-03-05 18:33:00     6.506       0.256   233.94       27.8      0.0   \n",
       "2008-10-12 20:15:00     7.192       0.196   230.56       31.4      0.0   \n",
       "2006-12-28 21:11:00     9.048       0.000   231.48       39.0     34.0   \n",
       "2009-11-15 18:46:00     6.926       0.370   230.64       30.0      0.0   \n",
       "2007-01-20 19:17:00     6.210       0.432   228.85       27.2      0.0   \n",
       "2007-04-01 21:59:00     8.134       0.278   232.16       35.0      2.0   \n",
       "2007-03-20 21:32:00     6.262       0.162   234.59       26.6      1.0   \n",
       "2009-12-30 19:27:00     6.116       0.488   236.56       25.8      0.0   \n",
       "2008-10-17 20:03:00     6.246       0.534   234.41       27.0      0.0   \n",
       "2006-12-16 18:35:00     6.072       0.000   232.48       26.4      0.0   \n",
       "2009-01-10 19:53:00     6.720       0.154   233.98       28.6      0.0   \n",
       "2007-01-07 18:04:00     6.608       0.000   230.91       28.6      0.0   \n",
       "2007-12-23 19:06:00     7.112       0.220   230.56       30.8      0.0   \n",
       "2007-03-20 21:35:00     6.110       0.242   234.55       26.0      1.0   \n",
       "2009-05-03 20:48:00     6.580       0.058   237.60       28.0     18.0   \n",
       "\n",
       "                     Sub_m_2  Sub_m_3  \n",
       "DateTime                               \n",
       "2010-03-27 18:35:00     71.0     17.0  \n",
       "2009-01-02 18:35:00     36.0     17.0  \n",
       "2008-03-23 20:18:00     37.0     17.0  \n",
       "2010-03-07 18:16:00     58.0      1.0  \n",
       "2006-12-29 21:25:00     69.0      0.0  \n",
       "2008-11-04 20:53:00     60.0     17.0  \n",
       "2007-02-03 19:03:00     34.0     16.0  \n",
       "2007-12-08 20:29:00     35.0     17.0  \n",
       "2008-11-23 20:36:00     36.0     16.0  \n",
       "2009-02-23 22:29:00     42.0     17.0  \n",
       "2008-07-03 21:44:00     52.0     18.0  \n",
       "2007-12-28 18:02:00     59.0     17.0  \n",
       "2008-05-18 20:33:00     72.0     28.0  \n",
       "2007-12-23 19:44:00     38.0     16.0  \n",
       "2008-11-04 21:38:00     73.0     17.0  \n",
       "2007-01-09 21:03:00     64.0     17.0  \n",
       "2008-11-23 18:57:00     36.0     16.0  \n",
       "2006-12-28 21:17:00     38.0     17.0  \n",
       "2008-05-18 20:40:00     37.0     18.0  \n",
       "2008-03-05 18:36:00     72.0      0.0  \n",
       "2008-10-12 18:37:00     36.0     10.0  \n",
       "2008-11-04 21:35:00     73.0     17.0  \n",
       "2008-11-23 20:22:00     33.0     17.0  \n",
       "2007-02-22 21:45:00     30.0     16.0  \n",
       "2007-02-03 18:52:00     34.0     16.0  \n",
       "2008-03-05 18:33:00     72.0      0.0  \n",
       "2008-10-12 20:15:00     59.0     17.0  \n",
       "2006-12-28 21:11:00     71.0     16.0  \n",
       "2009-11-15 18:46:00     69.0     17.0  \n",
       "2007-01-20 19:17:00     35.0     16.0  \n",
       "2007-04-01 21:59:00     70.0     16.0  \n",
       "2007-03-20 21:32:00     36.0     17.0  \n",
       "2009-12-30 19:27:00     72.0      1.0  \n",
       "2008-10-17 20:03:00     29.0     18.0  \n",
       "2006-12-16 18:35:00     27.0     17.0  \n",
       "2009-01-10 19:53:00     72.0     17.0  \n",
       "2007-01-07 18:04:00     70.0     17.0  \n",
       "2007-12-23 19:06:00     70.0      0.0  \n",
       "2007-03-20 21:35:00     35.0     16.0  \n",
       "2009-05-03 20:48:00     36.0     18.0  "
      ]
     },
     "execution_count": 25,
     "metadata": {},
     "output_type": "execute_result"
    }
   ],
   "source": [
    "%%time\n",
    "first_step_3(df_t)"
   ]
  },
  {
   "cell_type": "code",
   "execution_count": 26,
   "metadata": {},
   "outputs": [
    {
     "name": "stdout",
     "output_type": "stream",
     "text": [
      "Wall time: 2.99 ms\n"
     ]
    },
    {
     "data": {
      "text/html": [
       "<div>\n",
       "<style scoped>\n",
       "    .dataframe tbody tr th:only-of-type {\n",
       "        vertical-align: middle;\n",
       "    }\n",
       "\n",
       "    .dataframe tbody tr th {\n",
       "        vertical-align: top;\n",
       "    }\n",
       "\n",
       "    .dataframe thead th {\n",
       "        text-align: right;\n",
       "    }\n",
       "</style>\n",
       "<table border=\"1\" class=\"dataframe\">\n",
       "  <thead>\n",
       "    <tr style=\"text-align: right;\">\n",
       "      <th></th>\n",
       "      <th>Active_P</th>\n",
       "      <th>Reactive_P</th>\n",
       "      <th>Voltage</th>\n",
       "      <th>Intensity</th>\n",
       "      <th>Sub_m_1</th>\n",
       "      <th>Sub_m_2</th>\n",
       "      <th>Sub_m_3</th>\n",
       "    </tr>\n",
       "    <tr>\n",
       "      <th>DateTime</th>\n",
       "      <th></th>\n",
       "      <th></th>\n",
       "      <th></th>\n",
       "      <th></th>\n",
       "      <th></th>\n",
       "      <th></th>\n",
       "      <th></th>\n",
       "    </tr>\n",
       "  </thead>\n",
       "  <tbody>\n",
       "    <tr>\n",
       "      <th>2008-04-20 21:01:00</th>\n",
       "      <td>8.084</td>\n",
       "      <td>0.288</td>\n",
       "      <td>232.56</td>\n",
       "      <td>34.6</td>\n",
       "      <td>1.0</td>\n",
       "      <td>71.0</td>\n",
       "      <td>18.0</td>\n",
       "    </tr>\n",
       "    <tr>\n",
       "      <th>2008-11-23 18:06:00</th>\n",
       "      <td>7.514</td>\n",
       "      <td>0.344</td>\n",
       "      <td>229.27</td>\n",
       "      <td>32.8</td>\n",
       "      <td>0.0</td>\n",
       "      <td>34.0</td>\n",
       "      <td>16.0</td>\n",
       "    </tr>\n",
       "    <tr>\n",
       "      <th>2009-04-17 20:48:00</th>\n",
       "      <td>7.010</td>\n",
       "      <td>0.152</td>\n",
       "      <td>235.94</td>\n",
       "      <td>29.6</td>\n",
       "      <td>0.0</td>\n",
       "      <td>73.0</td>\n",
       "      <td>17.0</td>\n",
       "    </tr>\n",
       "    <tr>\n",
       "      <th>2006-12-28 21:18:00</th>\n",
       "      <td>7.864</td>\n",
       "      <td>0.126</td>\n",
       "      <td>232.46</td>\n",
       "      <td>34.2</td>\n",
       "      <td>36.0</td>\n",
       "      <td>56.0</td>\n",
       "      <td>16.0</td>\n",
       "    </tr>\n",
       "    <tr>\n",
       "      <th>2008-10-12 20:22:00</th>\n",
       "      <td>7.852</td>\n",
       "      <td>0.000</td>\n",
       "      <td>231.35</td>\n",
       "      <td>34.0</td>\n",
       "      <td>0.0</td>\n",
       "      <td>70.0</td>\n",
       "      <td>17.0</td>\n",
       "    </tr>\n",
       "    <tr>\n",
       "      <th>2007-02-15 19:37:00</th>\n",
       "      <td>6.906</td>\n",
       "      <td>0.608</td>\n",
       "      <td>233.80</td>\n",
       "      <td>29.6</td>\n",
       "      <td>0.0</td>\n",
       "      <td>37.0</td>\n",
       "      <td>17.0</td>\n",
       "    </tr>\n",
       "    <tr>\n",
       "      <th>2008-04-12 18:19:00</th>\n",
       "      <td>6.568</td>\n",
       "      <td>0.394</td>\n",
       "      <td>237.70</td>\n",
       "      <td>27.6</td>\n",
       "      <td>34.0</td>\n",
       "      <td>36.0</td>\n",
       "      <td>18.0</td>\n",
       "    </tr>\n",
       "    <tr>\n",
       "      <th>2007-04-01 18:51:00</th>\n",
       "      <td>6.036</td>\n",
       "      <td>0.246</td>\n",
       "      <td>232.53</td>\n",
       "      <td>25.8</td>\n",
       "      <td>0.0</td>\n",
       "      <td>72.0</td>\n",
       "      <td>17.0</td>\n",
       "    </tr>\n",
       "    <tr>\n",
       "      <th>2009-04-13 20:52:00</th>\n",
       "      <td>6.028</td>\n",
       "      <td>0.180</td>\n",
       "      <td>235.80</td>\n",
       "      <td>25.4</td>\n",
       "      <td>1.0</td>\n",
       "      <td>72.0</td>\n",
       "      <td>1.0</td>\n",
       "    </tr>\n",
       "    <tr>\n",
       "      <th>2007-03-20 21:33:00</th>\n",
       "      <td>6.244</td>\n",
       "      <td>0.142</td>\n",
       "      <td>234.56</td>\n",
       "      <td>26.6</td>\n",
       "      <td>2.0</td>\n",
       "      <td>35.0</td>\n",
       "      <td>17.0</td>\n",
       "    </tr>\n",
       "    <tr>\n",
       "      <th>2007-03-20 21:46:00</th>\n",
       "      <td>6.142</td>\n",
       "      <td>0.262</td>\n",
       "      <td>232.82</td>\n",
       "      <td>26.4</td>\n",
       "      <td>2.0</td>\n",
       "      <td>36.0</td>\n",
       "      <td>17.0</td>\n",
       "    </tr>\n",
       "    <tr>\n",
       "      <th>2009-03-17 20:28:00</th>\n",
       "      <td>6.734</td>\n",
       "      <td>0.086</td>\n",
       "      <td>237.95</td>\n",
       "      <td>28.4</td>\n",
       "      <td>0.0</td>\n",
       "      <td>66.0</td>\n",
       "      <td>17.0</td>\n",
       "    </tr>\n",
       "    <tr>\n",
       "      <th>2007-09-12 22:00:00</th>\n",
       "      <td>6.180</td>\n",
       "      <td>0.252</td>\n",
       "      <td>234.07</td>\n",
       "      <td>26.4</td>\n",
       "      <td>0.0</td>\n",
       "      <td>70.0</td>\n",
       "      <td>17.0</td>\n",
       "    </tr>\n",
       "    <tr>\n",
       "      <th>2008-11-23 18:36:00</th>\n",
       "      <td>6.184</td>\n",
       "      <td>0.316</td>\n",
       "      <td>232.75</td>\n",
       "      <td>26.6</td>\n",
       "      <td>0.0</td>\n",
       "      <td>21.0</td>\n",
       "      <td>17.0</td>\n",
       "    </tr>\n",
       "    <tr>\n",
       "      <th>2008-03-05 21:38:00</th>\n",
       "      <td>6.580</td>\n",
       "      <td>0.092</td>\n",
       "      <td>233.98</td>\n",
       "      <td>28.0</td>\n",
       "      <td>2.0</td>\n",
       "      <td>36.0</td>\n",
       "      <td>17.0</td>\n",
       "    </tr>\n",
       "    <tr>\n",
       "      <th>2008-11-23 18:58:00</th>\n",
       "      <td>6.226</td>\n",
       "      <td>0.334</td>\n",
       "      <td>232.75</td>\n",
       "      <td>26.8</td>\n",
       "      <td>0.0</td>\n",
       "      <td>37.0</td>\n",
       "      <td>17.0</td>\n",
       "    </tr>\n",
       "    <tr>\n",
       "      <th>2010-02-03 21:44:00</th>\n",
       "      <td>6.706</td>\n",
       "      <td>0.342</td>\n",
       "      <td>230.47</td>\n",
       "      <td>29.4</td>\n",
       "      <td>26.0</td>\n",
       "      <td>35.0</td>\n",
       "      <td>26.0</td>\n",
       "    </tr>\n",
       "    <tr>\n",
       "      <th>2007-03-31 20:05:00</th>\n",
       "      <td>6.210</td>\n",
       "      <td>0.526</td>\n",
       "      <td>235.80</td>\n",
       "      <td>26.4</td>\n",
       "      <td>0.0</td>\n",
       "      <td>37.0</td>\n",
       "      <td>17.0</td>\n",
       "    </tr>\n",
       "    <tr>\n",
       "      <th>2007-07-02 20:31:00</th>\n",
       "      <td>6.550</td>\n",
       "      <td>0.614</td>\n",
       "      <td>235.25</td>\n",
       "      <td>28.0</td>\n",
       "      <td>0.0</td>\n",
       "      <td>73.0</td>\n",
       "      <td>0.0</td>\n",
       "    </tr>\n",
       "    <tr>\n",
       "      <th>2008-03-05 21:37:00</th>\n",
       "      <td>6.558</td>\n",
       "      <td>0.074</td>\n",
       "      <td>233.64</td>\n",
       "      <td>28.0</td>\n",
       "      <td>1.0</td>\n",
       "      <td>35.0</td>\n",
       "      <td>17.0</td>\n",
       "    </tr>\n",
       "    <tr>\n",
       "      <th>2007-01-07 18:15:00</th>\n",
       "      <td>7.002</td>\n",
       "      <td>0.550</td>\n",
       "      <td>231.83</td>\n",
       "      <td>30.8</td>\n",
       "      <td>0.0</td>\n",
       "      <td>36.0</td>\n",
       "      <td>17.0</td>\n",
       "    </tr>\n",
       "    <tr>\n",
       "      <th>2006-12-29 21:22:00</th>\n",
       "      <td>6.214</td>\n",
       "      <td>0.120</td>\n",
       "      <td>230.53</td>\n",
       "      <td>26.8</td>\n",
       "      <td>0.0</td>\n",
       "      <td>70.0</td>\n",
       "      <td>0.0</td>\n",
       "    </tr>\n",
       "    <tr>\n",
       "      <th>2008-11-04 20:44:00</th>\n",
       "      <td>7.682</td>\n",
       "      <td>0.440</td>\n",
       "      <td>231.94</td>\n",
       "      <td>33.0</td>\n",
       "      <td>0.0</td>\n",
       "      <td>72.0</td>\n",
       "      <td>16.0</td>\n",
       "    </tr>\n",
       "    <tr>\n",
       "      <th>2009-05-03 20:29:00</th>\n",
       "      <td>7.856</td>\n",
       "      <td>0.128</td>\n",
       "      <td>234.02</td>\n",
       "      <td>33.6</td>\n",
       "      <td>2.0</td>\n",
       "      <td>34.0</td>\n",
       "      <td>21.0</td>\n",
       "    </tr>\n",
       "    <tr>\n",
       "      <th>2009-01-16 20:20:00</th>\n",
       "      <td>7.108</td>\n",
       "      <td>0.228</td>\n",
       "      <td>234.82</td>\n",
       "      <td>30.6</td>\n",
       "      <td>27.0</td>\n",
       "      <td>35.0</td>\n",
       "      <td>17.0</td>\n",
       "    </tr>\n",
       "    <tr>\n",
       "      <th>2007-02-22 21:05:00</th>\n",
       "      <td>9.160</td>\n",
       "      <td>0.000</td>\n",
       "      <td>226.94</td>\n",
       "      <td>40.2</td>\n",
       "      <td>35.0</td>\n",
       "      <td>68.0</td>\n",
       "      <td>16.0</td>\n",
       "    </tr>\n",
       "    <tr>\n",
       "      <th>2008-11-23 18:21:00</th>\n",
       "      <td>6.432</td>\n",
       "      <td>0.168</td>\n",
       "      <td>231.56</td>\n",
       "      <td>27.8</td>\n",
       "      <td>0.0</td>\n",
       "      <td>33.0</td>\n",
       "      <td>16.0</td>\n",
       "    </tr>\n",
       "    <tr>\n",
       "      <th>2007-01-07 18:17:00</th>\n",
       "      <td>7.774</td>\n",
       "      <td>0.534</td>\n",
       "      <td>230.49</td>\n",
       "      <td>33.8</td>\n",
       "      <td>0.0</td>\n",
       "      <td>37.0</td>\n",
       "      <td>16.0</td>\n",
       "    </tr>\n",
       "    <tr>\n",
       "      <th>2010-03-27 18:36:00</th>\n",
       "      <td>6.678</td>\n",
       "      <td>0.270</td>\n",
       "      <td>234.21</td>\n",
       "      <td>28.4</td>\n",
       "      <td>0.0</td>\n",
       "      <td>72.0</td>\n",
       "      <td>17.0</td>\n",
       "    </tr>\n",
       "    <tr>\n",
       "      <th>2007-10-13 20:15:00</th>\n",
       "      <td>6.212</td>\n",
       "      <td>0.108</td>\n",
       "      <td>232.83</td>\n",
       "      <td>26.6</td>\n",
       "      <td>0.0</td>\n",
       "      <td>35.0</td>\n",
       "      <td>17.0</td>\n",
       "    </tr>\n",
       "  </tbody>\n",
       "</table>\n",
       "</div>"
      ],
      "text/plain": [
       "                     Active_P  Reactive_P  Voltage  Intensity  Sub_m_1  \\\n",
       "DateTime                                                                 \n",
       "2008-04-20 21:01:00     8.084       0.288   232.56       34.6      1.0   \n",
       "2008-11-23 18:06:00     7.514       0.344   229.27       32.8      0.0   \n",
       "2009-04-17 20:48:00     7.010       0.152   235.94       29.6      0.0   \n",
       "2006-12-28 21:18:00     7.864       0.126   232.46       34.2     36.0   \n",
       "2008-10-12 20:22:00     7.852       0.000   231.35       34.0      0.0   \n",
       "2007-02-15 19:37:00     6.906       0.608   233.80       29.6      0.0   \n",
       "2008-04-12 18:19:00     6.568       0.394   237.70       27.6     34.0   \n",
       "2007-04-01 18:51:00     6.036       0.246   232.53       25.8      0.0   \n",
       "2009-04-13 20:52:00     6.028       0.180   235.80       25.4      1.0   \n",
       "2007-03-20 21:33:00     6.244       0.142   234.56       26.6      2.0   \n",
       "2007-03-20 21:46:00     6.142       0.262   232.82       26.4      2.0   \n",
       "2009-03-17 20:28:00     6.734       0.086   237.95       28.4      0.0   \n",
       "2007-09-12 22:00:00     6.180       0.252   234.07       26.4      0.0   \n",
       "2008-11-23 18:36:00     6.184       0.316   232.75       26.6      0.0   \n",
       "2008-03-05 21:38:00     6.580       0.092   233.98       28.0      2.0   \n",
       "2008-11-23 18:58:00     6.226       0.334   232.75       26.8      0.0   \n",
       "2010-02-03 21:44:00     6.706       0.342   230.47       29.4     26.0   \n",
       "2007-03-31 20:05:00     6.210       0.526   235.80       26.4      0.0   \n",
       "2007-07-02 20:31:00     6.550       0.614   235.25       28.0      0.0   \n",
       "2008-03-05 21:37:00     6.558       0.074   233.64       28.0      1.0   \n",
       "2007-01-07 18:15:00     7.002       0.550   231.83       30.8      0.0   \n",
       "2006-12-29 21:22:00     6.214       0.120   230.53       26.8      0.0   \n",
       "2008-11-04 20:44:00     7.682       0.440   231.94       33.0      0.0   \n",
       "2009-05-03 20:29:00     7.856       0.128   234.02       33.6      2.0   \n",
       "2009-01-16 20:20:00     7.108       0.228   234.82       30.6     27.0   \n",
       "2007-02-22 21:05:00     9.160       0.000   226.94       40.2     35.0   \n",
       "2008-11-23 18:21:00     6.432       0.168   231.56       27.8      0.0   \n",
       "2007-01-07 18:17:00     7.774       0.534   230.49       33.8      0.0   \n",
       "2010-03-27 18:36:00     6.678       0.270   234.21       28.4      0.0   \n",
       "2007-10-13 20:15:00     6.212       0.108   232.83       26.6      0.0   \n",
       "\n",
       "                     Sub_m_2  Sub_m_3  \n",
       "DateTime                               \n",
       "2008-04-20 21:01:00     71.0     18.0  \n",
       "2008-11-23 18:06:00     34.0     16.0  \n",
       "2009-04-17 20:48:00     73.0     17.0  \n",
       "2006-12-28 21:18:00     56.0     16.0  \n",
       "2008-10-12 20:22:00     70.0     17.0  \n",
       "2007-02-15 19:37:00     37.0     17.0  \n",
       "2008-04-12 18:19:00     36.0     18.0  \n",
       "2007-04-01 18:51:00     72.0     17.0  \n",
       "2009-04-13 20:52:00     72.0      1.0  \n",
       "2007-03-20 21:33:00     35.0     17.0  \n",
       "2007-03-20 21:46:00     36.0     17.0  \n",
       "2009-03-17 20:28:00     66.0     17.0  \n",
       "2007-09-12 22:00:00     70.0     17.0  \n",
       "2008-11-23 18:36:00     21.0     17.0  \n",
       "2008-03-05 21:38:00     36.0     17.0  \n",
       "2008-11-23 18:58:00     37.0     17.0  \n",
       "2010-02-03 21:44:00     35.0     26.0  \n",
       "2007-03-31 20:05:00     37.0     17.0  \n",
       "2007-07-02 20:31:00     73.0      0.0  \n",
       "2008-03-05 21:37:00     35.0     17.0  \n",
       "2007-01-07 18:15:00     36.0     17.0  \n",
       "2006-12-29 21:22:00     70.0      0.0  \n",
       "2008-11-04 20:44:00     72.0     16.0  \n",
       "2009-05-03 20:29:00     34.0     21.0  \n",
       "2009-01-16 20:20:00     35.0     17.0  \n",
       "2007-02-22 21:05:00     68.0     16.0  \n",
       "2008-11-23 18:21:00     33.0     16.0  \n",
       "2007-01-07 18:17:00     37.0     16.0  \n",
       "2010-03-27 18:36:00     72.0     17.0  \n",
       "2007-10-13 20:15:00     35.0     17.0  "
      ]
     },
     "execution_count": 26,
     "metadata": {},
     "output_type": "execute_result"
    }
   ],
   "source": [
    "%%time\n",
    "second_step_4(df_t)"
   ]
  },
  {
   "cell_type": "markdown",
   "metadata": {},
   "source": [
    "# Используя Numpy"
   ]
  },
  {
   "cell_type": "code",
   "execution_count": 27,
   "metadata": {},
   "outputs": [],
   "source": [
    "import numpy as np"
   ]
  },
  {
   "cell_type": "code",
   "execution_count": 28,
   "metadata": {},
   "outputs": [
    {
     "name": "stdout",
     "output_type": "stream",
     "text": [
      "Wall time: 46.3 s\n"
     ]
    }
   ],
   "source": [
    "%%time\n",
    "file_name = \"data1/household_power_consumption.txt\"\n",
    "cols = ['Date', 'Time','Active_P','Reactive_P','Voltage','Intensity','S_m_1', 'S_m_2', 'S_m_3']\n",
    "n_t = {\n",
    "    'names':cols,\n",
    "    'formats':['U10', 'U10', 'f8', 'f8', 'f8', 'f8', 'f8', 'f8', 'f8']\n",
    "}\n",
    "\n",
    "arr = np.genfromtxt(file_name, delimiter=';',  skip_header=1, dtype=n_t ,missing_values=['?'])"
   ]
  },
  {
   "cell_type": "code",
   "execution_count": 29,
   "metadata": {
    "scrolled": true
   },
   "outputs": [
    {
     "data": {
      "text/plain": [
       "array([('16/12/2006', '17:24:00', 4.216, 0.418, 234.84, 18.4, 0., 1., 17.),\n",
       "       ('16/12/2006', '17:25:00', 5.36 , 0.436, 233.63, 23. , 0., 1., 16.),\n",
       "       ('16/12/2006', '17:26:00', 5.374, 0.498, 233.29, 23. , 0., 2., 17.),\n",
       "       ...,\n",
       "       ('26/11/2010', '21:00:00', 0.938, 0.   , 239.82,  3.8, 0., 0.,  0.),\n",
       "       ('26/11/2010', '21:01:00', 0.934, 0.   , 239.7 ,  3.8, 0., 0.,  0.),\n",
       "       ('26/11/2010', '21:02:00', 0.932, 0.   , 239.55,  3.8, 0., 0.,  0.)],\n",
       "      dtype=[('Date', '<U10'), ('Time', '<U10'), ('Active_P', '<f8'), ('Reactive_P', '<f8'), ('Voltage', '<f8'), ('Intensity', '<f8'), ('S_m_1', '<f8'), ('S_m_2', '<f8'), ('S_m_3', '<f8')])"
      ]
     },
     "execution_count": 29,
     "metadata": {},
     "output_type": "execute_result"
    }
   ],
   "source": [
    "arr\n"
   ]
  },
  {
   "cell_type": "code",
   "execution_count": 30,
   "metadata": {},
   "outputs": [
    {
     "data": {
      "text/plain": [
       "['Active_P', 'Reactive_P', 'Voltage', 'Intensity', 'S_m_1', 'S_m_2', 'S_m_3']"
      ]
     },
     "execution_count": 30,
     "metadata": {},
     "output_type": "execute_result"
    }
   ],
   "source": [
    "cols[2:9]"
   ]
  },
  {
   "cell_type": "code",
   "execution_count": 31,
   "metadata": {},
   "outputs": [
    {
     "data": {
      "text/plain": [
       "array([False, False, False, ..., False, False, False])"
      ]
     },
     "execution_count": 31,
     "metadata": {},
     "output_type": "execute_result"
    }
   ],
   "source": [
    "np.isnan(arr['Active_P'])"
   ]
  },
  {
   "cell_type": "code",
   "execution_count": 32,
   "metadata": {},
   "outputs": [
    {
     "name": "stdout",
     "output_type": "stream",
     "text": [
      "[False False False ... False False False]\n",
      "[('16/12/2006', '17:24:00', 4.216, 0.418, 234.84, 18.4, 0., 1., 17.)\n",
      " ('16/12/2006', '17:25:00', 5.36 , 0.436, 233.63, 23. , 0., 1., 16.)\n",
      " ('16/12/2006', '17:26:00', 5.374, 0.498, 233.29, 23. , 0., 2., 17.) ...\n",
      " ('26/11/2010', '21:00:00', 0.938, 0.   , 239.82,  3.8, 0., 0.,  0.)\n",
      " ('26/11/2010', '21:01:00', 0.934, 0.   , 239.7 ,  3.8, 0., 0.,  0.)\n",
      " ('26/11/2010', '21:02:00', 0.932, 0.   , 239.55,  3.8, 0., 0.,  0.)]\n",
      "2049280\n",
      "Wall time: 1.82 s\n"
     ]
    }
   ],
   "source": [
    "%%time\n",
    "nan_mask = np.zeros((len(arr)), dtype=bool)\n",
    "print(nan_mask)\n",
    "for column in cols[2:8]:\n",
    "    nan_mask = np.isnan(arr[column])\n",
    "    arr =  arr[~nan_mask]\n",
    "print(arr)\n",
    "print(len(arr))"
   ]
  },
  {
   "cell_type": "markdown",
   "metadata": {},
   "source": [
    "## Выбрать строки, где общая активная мощность > 5 кВт\n"
   ]
  },
  {
   "cell_type": "code",
   "execution_count": 33,
   "metadata": {},
   "outputs": [],
   "source": [
    "def arr_pow(arr, n):\n",
    "    return arr[arr['Active_P'] > n]\n"
   ]
  },
  {
   "cell_type": "code",
   "execution_count": 75,
   "metadata": {},
   "outputs": [],
   "source": [
    "y1 = []\n",
    "y2 = []\n",
    "x = []\n",
    "for i in range(0, 7):\n",
    "    i=10**i\n",
    "    x.append(i)\n",
    "for i in x:    \n",
    "    y1.append(timeit.timeit('arr_pow(arr[:i], 5)',number=10, globals = globals()))\n",
    "    y2.append(timeit.timeit('active_power(df[:i], 5)',number=10, globals = globals()))\n",
    "\n"
   ]
  },
  {
   "cell_type": "code",
   "execution_count": 76,
   "metadata": {},
   "outputs": [],
   "source": [
    "def make_plot( x_max, y_max):    \n",
    "    plt.figure(figsize=(10,10))\n",
    "    f1 = plt.semilogx(x, y1, label=\"task1\")\n",
    "    f2 = plt.semilogx(x, y2, label=\"task2\")\n",
    "    plt.legend(['numpy', 'pandas'])\n",
    "    plt.xlabel(\"Количество элементов\")\n",
    "    plt.ylabel(\"Время\")\n",
    "    plt.axis([1, x_max, 0, y_max])"
   ]
  },
  {
   "cell_type": "code",
   "execution_count": 77,
   "metadata": {},
   "outputs": [
    {
     "data": {
      "image/png": "[encoded data removed]",
      "text/plain": [
       "<Figure size 720x720 with 1 Axes>"
      ]
     },
     "metadata": {
      "needs_background": "light"
     },
     "output_type": "display_data"
    }
   ],
   "source": [
    "make_plot( 1000000, 0.2)"
   ]
  },
  {
   "cell_type": "code",
   "execution_count": 40,
   "metadata": {},
   "outputs": [
    {
     "name": "stdout",
     "output_type": "stream",
     "text": [
      "Wall time: 19.9 ms\n"
     ]
    },
    {
     "data": {
      "text/plain": [
       "array([('16/12/2006', '17:25:00', 5.36 , 0.436, 233.63, 23. , 0.,  1., 16.),\n",
       "       ('16/12/2006', '17:26:00', 5.374, 0.498, 233.29, 23. , 0.,  2., 17.),\n",
       "       ('16/12/2006', '17:27:00', 5.388, 0.502, 233.74, 23. , 0.,  1., 17.),\n",
       "       ...,\n",
       "       ('24/11/2010', '07:50:00', 5.172, 0.05 , 235.18, 22. , 0., 38., 17.),\n",
       "       ('24/11/2010', '07:51:00', 5.75 , 0.   , 234.4 , 24.6, 0., 39., 17.),\n",
       "       ('25/11/2010', '07:21:00', 5.074, 0.24 , 238.55, 21.4, 1.,  2., 18.)],\n",
       "      dtype=[('Date', '<U10'), ('Time', '<U10'), ('Active_P', '<f8'), ('Reactive_P', '<f8'), ('Voltage', '<f8'), ('Intensity', '<f8'), ('S_m_1', '<f8'), ('S_m_2', '<f8'), ('S_m_3', '<f8')])"
      ]
     },
     "execution_count": 40,
     "metadata": {},
     "output_type": "execute_result"
    }
   ],
   "source": [
    "%%time\n",
    "arr_pow(arr, 5)"
   ]
  },
  {
   "cell_type": "markdown",
   "metadata": {},
   "source": [
    "## Выбрать строки, в которых вольтаж превышает 235 В"
   ]
  },
  {
   "cell_type": "code",
   "execution_count": 41,
   "metadata": {},
   "outputs": [],
   "source": [
    "def arr_volt(arr, v):\n",
    "    return arr[arr['Voltage'] > v]"
   ]
  },
  {
   "cell_type": "code",
   "execution_count": 42,
   "metadata": {},
   "outputs": [
    {
     "name": "stdout",
     "output_type": "stream",
     "text": [
      "Wall time: 200 ms\n"
     ]
    },
    {
     "data": {
      "text/plain": [
       "array([('16/12/2006', '17:28:00', 3.666, 0.528, 235.68, 15.8, 0., 1., 17.),\n",
       "       ('16/12/2006', '17:29:00', 3.52 , 0.522, 235.02, 15. , 0., 2., 17.),\n",
       "       ('16/12/2006', '17:30:00', 3.702, 0.52 , 235.09, 15.8, 0., 1., 17.),\n",
       "       ...,\n",
       "       ('26/11/2010', '21:00:00', 0.938, 0.   , 239.82,  3.8, 0., 0.,  0.),\n",
       "       ('26/11/2010', '21:01:00', 0.934, 0.   , 239.7 ,  3.8, 0., 0.,  0.),\n",
       "       ('26/11/2010', '21:02:00', 0.932, 0.   , 239.55,  3.8, 0., 0.,  0.)],\n",
       "      dtype=[('Date', '<U10'), ('Time', '<U10'), ('Active_P', '<f8'), ('Reactive_P', '<f8'), ('Voltage', '<f8'), ('Intensity', '<f8'), ('S_m_1', '<f8'), ('S_m_2', '<f8'), ('S_m_3', '<f8')])"
      ]
     },
     "execution_count": 42,
     "metadata": {},
     "output_type": "execute_result"
    }
   ],
   "source": [
    "%%time\n",
    "arr_volt(arr, 235)"
   ]
  },
  {
   "cell_type": "code",
   "execution_count": 80,
   "metadata": {},
   "outputs": [],
   "source": [
    "y1 = []\n",
    "y2 = []\n",
    "for i in x:\n",
    "    y1.append(timeit.timeit('arr_volt(arr[:i], 235)',number=10, globals = globals()))\n",
    "    y2.append(timeit.timeit('voltage(df[:i], 235)',number=10, globals = globals()))\n"
   ]
  },
  {
   "cell_type": "code",
   "execution_count": 81,
   "metadata": {},
   "outputs": [
    {
     "data": {
      "image/png": "[encoded data removed]",
      "text/plain": [
       "<Figure size 720x720 with 1 Axes>"
      ]
     },
     "metadata": {
      "needs_background": "light"
     },
     "output_type": "display_data"
    }
   ],
   "source": [
    "make_plot(1000000, 0.2)"
   ]
  },
  {
   "cell_type": "markdown",
   "metadata": {},
   "source": [
    "##  Выбрать все строки, в которых сила тока лежит в пределах 19-20А, для них определить те, в которых стиральная машина и холодильник потребляют больше, чем бойлер и кондиционер"
   ]
  },
  {
   "cell_type": "code",
   "execution_count": 45,
   "metadata": {},
   "outputs": [],
   "source": [
    "def arr_intensity(arr, min_i, max_i):\n",
    "    res = arr[(arr['Intensity'] > min_i) & (arr['Intensity']<max_i)&(arr['S_m_2']>arr['S_m_3'])]\n",
    "    return res"
   ]
  },
  {
   "cell_type": "code",
   "execution_count": 82,
   "metadata": {},
   "outputs": [],
   "source": [
    "y1 = []\n",
    "y2 = []\n",
    "for i in x:\n",
    "    y1.append(timeit.timeit('arr_intensity(arr[:i], 19, 20)',number=10, globals = globals()))\n",
    "    y2.append(timeit.timeit('intensity_and_sub_m(df[:i], 19, 20)',number=10, globals = globals()))\n"
   ]
  },
  {
   "cell_type": "code",
   "execution_count": 83,
   "metadata": {},
   "outputs": [
    {
     "data": {
      "image/png": "[encoded data removed]",
      "text/plain": [
       "<Figure size 720x720 with 1 Axes>"
      ]
     },
     "metadata": {
      "needs_background": "light"
     },
     "output_type": "display_data"
    }
   ],
   "source": [
    "make_plot(1000000, 0.1)"
   ]
  },
  {
   "cell_type": "code",
   "execution_count": 50,
   "metadata": {},
   "outputs": [
    {
     "name": "stdout",
     "output_type": "stream",
     "text": [
      "Wall time: 61.8 ms\n"
     ]
    },
    {
     "data": {
      "text/plain": [
       "array([('17/12/2006', '01:04:00', 4.582, 0.258, 238.08, 19.6, 0., 13.,  0.),\n",
       "       ('17/12/2006', '01:08:00', 4.618, 0.104, 239.61, 19.6, 0., 27.,  0.),\n",
       "       ('17/12/2006', '01:19:00', 4.636, 0.14 , 237.37, 19.4, 0., 36.,  0.),\n",
       "       ...,\n",
       "       ('24/11/2010', '07:54:00', 4.694, 0.   , 236.78, 19.8, 0., 39., 18.),\n",
       "       ('24/11/2010', '07:55:00', 4.602, 0.   , 237.08, 19.4, 0., 40., 17.),\n",
       "       ('24/11/2010', '07:57:00', 4.626, 0.   , 236.78, 19.4, 0., 39., 17.)],\n",
       "      dtype=[('Date', '<U10'), ('Time', '<U10'), ('Active_P', '<f8'), ('Reactive_P', '<f8'), ('Voltage', '<f8'), ('Intensity', '<f8'), ('S_m_1', '<f8'), ('S_m_2', '<f8'), ('S_m_3', '<f8')])"
      ]
     },
     "execution_count": 50,
     "metadata": {},
     "output_type": "execute_result"
    }
   ],
   "source": [
    "%%time\n",
    "arr_intensity(arr, 19, 20)"
   ]
  },
  {
   "cell_type": "markdown",
   "metadata": {},
   "source": [
    "## Выбрать случайным образом 500000 строк (без повторов элементов выборки), для них вычислить средние величины всех 3х групп потребления электроэнегрии"
   ]
  },
  {
   "cell_type": "code",
   "execution_count": 51,
   "metadata": {},
   "outputs": [],
   "source": [
    "def rand_arr():\n",
    "    return arr[np.random.choice(np.arange(0,len(arr)), 500000, replace=False)]\n"
   ]
  },
  {
   "cell_type": "code",
   "execution_count": 52,
   "metadata": {},
   "outputs": [
    {
     "name": "stdout",
     "output_type": "stream",
     "text": [
      "Wall time: 456 ms\n"
     ]
    }
   ],
   "source": [
    "%%time\n",
    "rand_arr = rand_arr()"
   ]
  },
  {
   "cell_type": "code",
   "execution_count": 53,
   "metadata": {},
   "outputs": [
    {
     "data": {
      "text/plain": [
       "500000"
      ]
     },
     "execution_count": 53,
     "metadata": {},
     "output_type": "execute_result"
    }
   ],
   "source": [
    "len(np.unique(rand_arr))"
   ]
  },
  {
   "cell_type": "code",
   "execution_count": 54,
   "metadata": {},
   "outputs": [],
   "source": [
    "def mean_arr(arr):\n",
    "    mean_1 = np.mean(rand_arr['S_m_1'])\n",
    "    mean_2 = np.mean(rand_arr['S_m_2'])\n",
    "    mean_3 = np.mean(rand_arr['S_m_3'])\n",
    "    #print(f\"mean of S_m_1 = {mean_1}\")\n",
    "    #print(f\"mean of S_m_2 = {mean_2}\")\n",
    "    #print(f\"mean of S_m_3 = {mean_3}\")"
   ]
  },
  {
   "cell_type": "code",
   "execution_count": 84,
   "metadata": {},
   "outputs": [],
   "source": [
    "y1 = []\n",
    "y2 = []\n",
    "for i in x:\n",
    "    y1.append(timeit.timeit('mean_arr(rand_arr[:i])',number=10, globals = globals()))\n",
    "    y2.append(timeit.timeit('mean_rand(df_rand[:i])',number=10, globals = globals()))\n"
   ]
  },
  {
   "cell_type": "code",
   "execution_count": 85,
   "metadata": {},
   "outputs": [
    {
     "data": {
      "image/png": "[encoded data removed]",
      "text/plain": [
       "<Figure size 720x720 with 1 Axes>"
      ]
     },
     "metadata": {
      "needs_background": "light"
     },
     "output_type": "display_data"
    }
   ],
   "source": [
    "make_plot(500000, 0.3)"
   ]
  },
  {
   "cell_type": "code",
   "execution_count": 58,
   "metadata": {},
   "outputs": [
    {
     "name": "stdout",
     "output_type": "stream",
     "text": [
      "Wall time: 13 ms\n"
     ]
    }
   ],
   "source": [
    "%%time\n",
    "mean_arr(arr)"
   ]
  },
  {
   "cell_type": "markdown",
   "metadata": {},
   "source": [
    "## Выбрать те строки, в которых домохозяйства после 18:00 потребляют больше 6 кВт в минуту в среднем. Среди выбранных строк определить те, в которых основное употребление электроенергии выпадает на стиралку (группа 2). Потом выбрать каждый третий результат из первой половины и каждый четвертый результат из второй половины"
   ]
  },
  {
   "cell_type": "code",
   "execution_count": 59,
   "metadata": {},
   "outputs": [
    {
     "name": "stdout",
     "output_type": "stream",
     "text": [
      "Wall time: 0 ns\n"
     ]
    }
   ],
   "source": [
    "%%time\n",
    "def time_and_active_arr(arr, min_t, min_p):\n",
    "    condition = np.logical_and.reduce([ arr['Time'] >=f\"{min_t}:00:00\",arr['Active_P']>min_p, \n",
    "                                   arr['S_m_2'] > arr[\"S_m_3\"], arr[\"S_m_1\"]<arr[\"S_m_2\"] ])\n",
    "    return arr[condition]"
   ]
  },
  {
   "cell_type": "code",
   "execution_count": 60,
   "metadata": {},
   "outputs": [
    {
     "data": {
      "text/plain": [
       "array([('16/12/2006', '18:05:00', 6.052, 0.192, 232.93, 26.2,  0., 37., 17.),\n",
       "       ('16/12/2006', '18:06:00', 6.752, 0.186, 232.12, 29. ,  0., 36., 17.),\n",
       "       ('16/12/2006', '18:07:00', 6.474, 0.144, 231.85, 27.8,  0., 37., 16.),\n",
       "       ...,\n",
       "       ('20/11/2010', '18:46:00', 6.438, 0.308, 229.26, 28.4, 13., 39., 16.),\n",
       "       ('20/11/2010', '18:49:00', 6.21 , 0.174, 228.82, 27.4, 21., 34., 17.),\n",
       "       ('20/11/2010', '18:52:00', 6.364, 0.126, 229.38, 28.2, 17., 34., 16.)],\n",
       "      dtype=[('Date', '<U10'), ('Time', '<U10'), ('Active_P', '<f8'), ('Reactive_P', '<f8'), ('Voltage', '<f8'), ('Intensity', '<f8'), ('S_m_1', '<f8'), ('S_m_2', '<f8'), ('S_m_3', '<f8')])"
      ]
     },
     "execution_count": 60,
     "metadata": {},
     "output_type": "execute_result"
    }
   ],
   "source": [
    "time_and_active_arr(arr, 18, 6)\n"
   ]
  },
  {
   "cell_type": "code",
   "execution_count": 86,
   "metadata": {
    "scrolled": true
   },
   "outputs": [],
   "source": [
    "y1 = []\n",
    "y2 = []\n",
    "for i in x:\n",
    "    y1.append(timeit.timeit('time_and_active_arr(rand_arr[:i], 18, 6)',number=10, globals = globals()))\n",
    "    y2.append(timeit.timeit('time_and_active_p(df_rand[:i], 18, 6)',number=10, globals = globals()))"
   ]
  },
  {
   "cell_type": "code",
   "execution_count": 87,
   "metadata": {},
   "outputs": [
    {
     "data": {
      "image/png": "[encoded data removed]",
      "text/plain": [
       "<Figure size 720x720 with 1 Axes>"
      ]
     },
     "metadata": {
      "needs_background": "light"
     },
     "output_type": "display_data"
    }
   ],
   "source": [
    "make_plot(500000, 0.3)"
   ]
  },
  {
   "cell_type": "code",
   "execution_count": 63,
   "metadata": {},
   "outputs": [],
   "source": [
    "df_t = time_and_active_p(df_rand, 18, 6)\n",
    "arr_t = time_and_active_arr(rand_arr, 18, 6)"
   ]
  },
  {
   "cell_type": "code",
   "execution_count": 64,
   "metadata": {},
   "outputs": [],
   "source": [
    "def first_arr_step3(arr):\n",
    "    middle = int(len(arr)/2)\n",
    "    return arr[0:middle:3]"
   ]
  },
  {
   "cell_type": "code",
   "execution_count": 90,
   "metadata": {},
   "outputs": [],
   "source": [
    "y1 = []\n",
    "y2 = []\n",
    "for i in x:\n",
    "    y1.append(timeit.timeit('first_arr_step3(arr_t[:i])',number=10, globals = globals()))\n",
    "    y2.append(timeit.timeit('first_step_3(df_t[:i])',number=10, globals = globals()))"
   ]
  },
  {
   "cell_type": "code",
   "execution_count": 91,
   "metadata": {},
   "outputs": [
    {
     "data": {
      "image/png": "[encoded data removed]",
      "text/plain": [
       "<Figure size 720x720 with 1 Axes>"
      ]
     },
     "metadata": {
      "needs_background": "light"
     },
     "output_type": "display_data"
    }
   ],
   "source": [
    "make_plot(500, 0.01)"
   ]
  },
  {
   "cell_type": "code",
   "execution_count": 69,
   "metadata": {},
   "outputs": [
    {
     "name": "stdout",
     "output_type": "stream",
     "text": [
      "Wall time: 0 ns\n"
     ]
    },
    {
     "data": {
      "text/plain": [
       "array([('23/2/2009', '22:02:00', 7.694, 0.116, 232.67, 33.2,  1., 64., 18.),\n",
       "       ('14/12/2009', '18:42:00', 6.008, 0.442, 238.3 , 25.4,  0., 38., 18.),\n",
       "       ('15/1/2010', '20:47:00', 6.378, 0.36 , 238.9 , 27. ,  9., 37., 18.),\n",
       "       ('30/11/2008', '20:16:00', 8.444, 0.058, 232.87, 36.4,  5., 72., 17.),\n",
       "       ('20/11/2010', '18:39:00', 6.362, 0.372, 229.83, 28. , 16., 35., 16.),\n",
       "       ('28/12/2006', '21:16:00', 8.046, 0.114, 231.77, 35. , 36., 52., 16.),\n",
       "       ('13/10/2007', '19:57:00', 6.188, 0.334, 231.54, 26.8,  0., 34., 17.),\n",
       "       ('23/11/2008', '18:03:00', 7.106, 0.364, 230.52, 31. ,  0., 26., 17.),\n",
       "       ('9/12/2008', '18:07:00', 7.136, 0.   , 234.43, 30.4,  0., 37.,  0.),\n",
       "       ('17/3/2009', '20:27:00', 7.546, 0.126, 237.74, 31.8,  0., 65., 17.),\n",
       "       ('4/11/2008', '20:48:00', 7.816, 0.274, 231.91, 33.6,  0., 72., 17.),\n",
       "       ('12/8/2007', '23:22:00', 6.122, 0.242, 228.44, 27.6, 25., 26., 16.),\n",
       "       ('8/6/2008', '21:46:00', 6.962, 0.132, 234.92, 29.6,  0., 72., 18.),\n",
       "       ('7/1/2007', '18:03:00', 6.458, 0.   , 230.85, 27.8,  0., 69., 16.),\n",
       "       ('2/2/2008', '19:17:00', 6.834, 0.43 , 230.82, 29.8, 26., 34., 17.),\n",
       "       ('27/3/2010', '18:34:00', 6.618, 0.27 , 234.15, 28.2,  0., 71., 18.),\n",
       "       ('13/9/2007', '21:40:00', 6.092, 0.068, 232.09, 26.2,  1., 31.,  0.),\n",
       "       ('8/6/2008', '21:45:00', 7.204, 0.176, 234.04, 30.8,  0., 72., 17.),\n",
       "       ('25/5/2008', '19:43:00', 6.152, 0.384, 232.91, 26.4, 36., 37.,  1.),\n",
       "       ('23/11/2008', '18:54:00', 6.614, 0.384, 233.64, 28.2,  0., 39., 16.),\n",
       "       ('9/12/2007', '19:18:00', 6.282, 0.292, 230.2 , 27.2,  0., 34., 16.),\n",
       "       ('23/11/2008', '20:34:00', 6.914, 0.138, 232.12, 29.8,  2., 35., 17.),\n",
       "       ('9/12/2008', '18:08:00', 6.882, 0.   , 234.72, 29.2,  0., 37.,  0.),\n",
       "       ('3/7/2007', '22:12:00', 6.576, 0.286, 232.44, 28.4,  0., 70., 17.),\n",
       "       ('8/3/2007', '20:29:00', 6.354, 0.102, 235.  , 27. ,  0., 36., 18.),\n",
       "       ('20/11/2010', '18:29:00', 6.18 , 0.306, 229.92, 27.2, 13., 35., 16.),\n",
       "       ('4/11/2008', '18:54:00', 7.242, 0.194, 227.78, 31.8,  0., 69.,  0.),\n",
       "       ('22/12/2007', '21:00:00', 7.362, 0.5  , 234.04, 31.6,  1., 34., 18.),\n",
       "       ('24/11/2009', '19:37:00', 9.732, 0.378, 231.54, 42. , 36., 69., 17.),\n",
       "       ('17/4/2009', '20:47:00', 7.198, 0.314, 236.36, 30.4,  0., 72., 18.),\n",
       "       ('13/10/2007', '20:09:00', 6.254, 0.124, 232.24, 26.8,  0., 35., 16.),\n",
       "       ('22/9/2008', '20:18:00', 6.61 , 0.212, 230.83, 28.6,  1., 69., 17.),\n",
       "       ('18/3/2007', '19:26:00', 6.514, 0.228, 232.7 , 28.2, 29., 35., 17.),\n",
       "       ('22/2/2009', '21:02:00', 6.698, 0.406, 236.93, 28.2,  1., 73.,  0.),\n",
       "       ('28/12/2007', '18:02:00', 6.408, 0.238, 236.3 , 27.2,  0., 59., 17.),\n",
       "       ('13/10/2007', '20:05:00', 6.654, 0.246, 231.52, 29. ,  0., 35., 17.),\n",
       "       ('12/11/2007', '20:40:00', 6.914, 0.25 , 234.06, 29.8,  0., 62., 17.),\n",
       "       ('23/1/2010', '18:04:00', 6.424, 0.066, 232.89, 27.4,  0., 69.,  1.),\n",
       "       ('20/1/2007', '19:20:00', 7.202, 0.44 , 228.37, 32. ,  0., 35., 16.),\n",
       "       ('2/2/2008', '19:49:00', 6.462, 0.49 , 232.19, 27.8,  1., 35., 16.),\n",
       "       ('23/3/2008', '20:30:00', 6.952, 0.178, 234.24, 29.6,  0., 72., 17.),\n",
       "       ('16/7/2008', '21:02:00', 6.324, 0.328, 235.59, 26.8,  0., 73., 18.),\n",
       "       ('1/4/2007', '22:03:00', 6.252, 0.292, 233.45, 26.8,  2., 36., 17.),\n",
       "       ('21/2/2007', '19:44:00', 6.32 , 0.298, 232.3 , 27.4,  0., 35.,  0.),\n",
       "       ('26/9/2007', '21:27:00', 6.012, 0.446, 232.75, 25.8,  0., 36., 17.)],\n",
       "      dtype=[('Date', '<U10'), ('Time', '<U10'), ('Active_P', '<f8'), ('Reactive_P', '<f8'), ('Voltage', '<f8'), ('Intensity', '<f8'), ('S_m_1', '<f8'), ('S_m_2', '<f8'), ('S_m_3', '<f8')])"
      ]
     },
     "execution_count": 69,
     "metadata": {},
     "output_type": "execute_result"
    }
   ],
   "source": [
    "%%time\n",
    "first_arr_step3(arr_t)"
   ]
  },
  {
   "cell_type": "code",
   "execution_count": 70,
   "metadata": {},
   "outputs": [
    {
     "name": "stdout",
     "output_type": "stream",
     "text": [
      "Wall time: 0 ns\n"
     ]
    }
   ],
   "source": [
    "%%time\n",
    "def second_arr_step4(arr):\n",
    "    middle = int(len(arr)/2)\n",
    "    return arr[middle:len(arr):4]"
   ]
  },
  {
   "cell_type": "code",
   "execution_count": 92,
   "metadata": {},
   "outputs": [],
   "source": [
    "y1 = []\n",
    "y2 = []\n",
    "for i in x:\n",
    "    y1.append(timeit.timeit('second_arr_step4(arr_t[:i])',number=10, globals = globals()))\n",
    "    y2.append(timeit.timeit('second_step_4(df_t[:i])',number=10, globals = globals()))"
   ]
  },
  {
   "cell_type": "code",
   "execution_count": 93,
   "metadata": {},
   "outputs": [
    {
     "data": {
      "image/png": "[encoded data removed]",
      "text/plain": [
       "<Figure size 720x720 with 1 Axes>"
      ]
     },
     "metadata": {
      "needs_background": "light"
     },
     "output_type": "display_data"
    }
   ],
   "source": [
    "make_plot(500, 0.01)"
   ]
  },
  {
   "cell_type": "code",
   "execution_count": null,
   "metadata": {},
   "outputs": [],
   "source": []
  }
 ],
 "metadata": {
  "kernelspec": {
   "display_name": "Python 3",
   "language": "python",
   "name": "python3"
  },
  "language_info": {
   "codemirror_mode": {
    "name": "ipython",
    "version": 3
   },
   "file_extension": ".py",
   "mimetype": "text/x-python",
   "name": "python",
   "nbconvert_exporter": "python",
   "pygments_lexer": "ipython3",
   "version": "3.7.6"
  }
 },
 "nbformat": 4,
 "nbformat_minor": 4
}
